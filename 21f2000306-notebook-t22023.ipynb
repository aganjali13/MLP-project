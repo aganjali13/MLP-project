{
 "cells": [
  {
   "cell_type": "code",
   "execution_count": 1,
   "id": "a1d4a5d2",
   "metadata": {
    "_cell_guid": "b1076dfc-b9ad-4769-8c92-a6c4dae69d19",
    "_uuid": "8f2839f25d086af736a60e9eeb907d3b93b6e0e5",
    "execution": {
     "iopub.execute_input": "2023-07-29T10:59:54.757397Z",
     "iopub.status.busy": "2023-07-29T10:59:54.756624Z",
     "iopub.status.idle": "2023-07-29T10:59:54.771550Z",
     "shell.execute_reply": "2023-07-29T10:59:54.770692Z"
    },
    "papermill": {
     "duration": 0.044969,
     "end_time": "2023-07-29T10:59:54.774171",
     "exception": false,
     "start_time": "2023-07-29T10:59:54.729202",
     "status": "completed"
    },
    "tags": []
   },
   "outputs": [
    {
     "name": "stdout",
     "output_type": "stream",
     "text": [
      "/kaggle/input/sentiment-prediction-on-movie-reviews/movies.csv\n",
      "/kaggle/input/sentiment-prediction-on-movie-reviews/sample.csv\n",
      "/kaggle/input/sentiment-prediction-on-movie-reviews/train.csv\n",
      "/kaggle/input/sentiment-prediction-on-movie-reviews/test.csv\n"
     ]
    }
   ],
   "source": [
    "# This Python 3 environment comes with many helpful analytics libraries installed\n",
    "# It is defined by the kaggle/python Docker image: https://github.com/kaggle/docker-python\n",
    "# For example, here's several helpful packages to load\n",
    "import warnings\n",
    "warnings.simplefilter(action='ignore')\n",
    "\n",
    "import numpy as np # linear algebra\n",
    "import pandas as pd # data processing, CSV file I/O (e.g. pd.read_csv)\n",
    "\n",
    "# Input data files are available in the read-only \"../input/\" directory\n",
    "# For example, running this (by clicking run or pressing Shift+Enter) will list all files under the input directory\n",
    "\n",
    "import os\n",
    "for dirname, _, filenames in os.walk('/kaggle/input'):\n",
    "    for filename in filenames:\n",
    "        print(os.path.join(dirname, filename))\n",
    "\n",
    "# You can write up to 20GB to the current directory (/kaggle/working/) that gets preserved as output when you create a version using \"Save & Run All\" \n",
    "# You can also write temporary files to /kaggle/temp/, but they won't be saved outside of the current session"
   ]
  },
  {
   "cell_type": "markdown",
   "id": "cb446378",
   "metadata": {
    "papermill": {
     "duration": 0.025052,
     "end_time": "2023-07-29T10:59:54.824946",
     "exception": false,
     "start_time": "2023-07-29T10:59:54.799894",
     "status": "completed"
    },
    "tags": []
   },
   "source": [
    "**1. Importing Libraries**"
   ]
  },
  {
   "cell_type": "code",
   "execution_count": 2,
   "id": "4bdfdb61",
   "metadata": {
    "execution": {
     "iopub.execute_input": "2023-07-29T10:59:54.876642Z",
     "iopub.status.busy": "2023-07-29T10:59:54.876212Z",
     "iopub.status.idle": "2023-07-29T10:59:56.844769Z",
     "shell.execute_reply": "2023-07-29T10:59:56.843774Z"
    },
    "papermill": {
     "duration": 1.996894,
     "end_time": "2023-07-29T10:59:56.847148",
     "exception": false,
     "start_time": "2023-07-29T10:59:54.850254",
     "status": "completed"
    },
    "tags": []
   },
   "outputs": [],
   "source": [
    "import matplotlib.pyplot as plt\n",
    "import seaborn as sns\n",
    "from sklearn.impute import SimpleImputer\n",
    "from sklearn.preprocessing import StandardScaler,LabelEncoder,OneHotEncoder\n",
    "from sklearn.pipeline import Pipeline\n",
    "from sklearn.feature_extraction.text import TfidfVectorizer\n",
    "from sklearn.model_selection import train_test_split\n",
    "from sklearn.metrics import accuracy_score\n",
    "from sklearn.metrics import f1_score\n",
    "from sklearn.metrics import classification_report"
   ]
  },
  {
   "cell_type": "markdown",
   "id": "774c1621",
   "metadata": {
    "papermill": {
     "duration": 0.024394,
     "end_time": "2023-07-29T10:59:56.896385",
     "exception": false,
     "start_time": "2023-07-29T10:59:56.871991",
     "status": "completed"
    },
    "tags": []
   },
   "source": [
    "**2.Loading the data**"
   ]
  },
  {
   "cell_type": "code",
   "execution_count": 3,
   "id": "29c3a4d0",
   "metadata": {
    "execution": {
     "iopub.execute_input": "2023-07-29T10:59:56.948096Z",
     "iopub.status.busy": "2023-07-29T10:59:56.947533Z",
     "iopub.status.idle": "2023-07-29T10:59:57.919818Z",
     "shell.execute_reply": "2023-07-29T10:59:57.918711Z"
    },
    "papermill": {
     "duration": 1.001588,
     "end_time": "2023-07-29T10:59:57.922411",
     "exception": false,
     "start_time": "2023-07-29T10:59:56.920823",
     "status": "completed"
    },
    "tags": []
   },
   "outputs": [
    {
     "data": {
      "text/html": [
       "<div>\n",
       "<style scoped>\n",
       "    .dataframe tbody tr th:only-of-type {\n",
       "        vertical-align: middle;\n",
       "    }\n",
       "\n",
       "    .dataframe tbody tr th {\n",
       "        vertical-align: top;\n",
       "    }\n",
       "\n",
       "    .dataframe thead th {\n",
       "        text-align: right;\n",
       "    }\n",
       "</style>\n",
       "<table border=\"1\" class=\"dataframe\">\n",
       "  <thead>\n",
       "    <tr style=\"text-align: right;\">\n",
       "      <th></th>\n",
       "      <th>movieid</th>\n",
       "      <th>reviewerName</th>\n",
       "      <th>isFrequentReviewer</th>\n",
       "      <th>reviewText</th>\n",
       "      <th>sentiment</th>\n",
       "    </tr>\n",
       "  </thead>\n",
       "  <tbody>\n",
       "    <tr>\n",
       "      <th>0</th>\n",
       "      <td>marvelous_pirate</td>\n",
       "      <td>Benjamin Henry</td>\n",
       "      <td>False</td>\n",
       "      <td>Henry Selick’s first movie since 2009’s Corali...</td>\n",
       "      <td>POSITIVE</td>\n",
       "    </tr>\n",
       "    <tr>\n",
       "      <th>1</th>\n",
       "      <td>tony_montana_frodo_baggins_v_rocky_balboa</td>\n",
       "      <td>Felicia Lopez</td>\n",
       "      <td>False</td>\n",
       "      <td>With a cast that reads like the Vogue Oscar pa...</td>\n",
       "      <td>NEGATIVE</td>\n",
       "    </tr>\n",
       "    <tr>\n",
       "      <th>2</th>\n",
       "      <td>darth_vader_katniss_everdeen_sorcerer_donnie_d...</td>\n",
       "      <td>Mr. Charles Burgess</td>\n",
       "      <td>True</td>\n",
       "      <td>Creed II does not give us anything but another...</td>\n",
       "      <td>POSITIVE</td>\n",
       "    </tr>\n",
       "  </tbody>\n",
       "</table>\n",
       "</div>"
      ],
      "text/plain": [
       "                                             movieid         reviewerName  \\\n",
       "0                                   marvelous_pirate       Benjamin Henry   \n",
       "1          tony_montana_frodo_baggins_v_rocky_balboa        Felicia Lopez   \n",
       "2  darth_vader_katniss_everdeen_sorcerer_donnie_d...  Mr. Charles Burgess   \n",
       "\n",
       "   isFrequentReviewer                                         reviewText  \\\n",
       "0               False  Henry Selick’s first movie since 2009’s Corali...   \n",
       "1               False  With a cast that reads like the Vogue Oscar pa...   \n",
       "2                True  Creed II does not give us anything but another...   \n",
       "\n",
       "  sentiment  \n",
       "0  POSITIVE  \n",
       "1  NEGATIVE  \n",
       "2  POSITIVE  "
      ]
     },
     "execution_count": 3,
     "metadata": {},
     "output_type": "execute_result"
    }
   ],
   "source": [
    "train=pd.read_csv('/kaggle/input/sentiment-prediction-on-movie-reviews/train.csv')\n",
    "train.head(3)"
   ]
  },
  {
   "cell_type": "code",
   "execution_count": 4,
   "id": "d7e188b6",
   "metadata": {
    "execution": {
     "iopub.execute_input": "2023-07-29T10:59:57.976667Z",
     "iopub.status.busy": "2023-07-29T10:59:57.976212Z",
     "iopub.status.idle": "2023-07-29T10:59:58.297369Z",
     "shell.execute_reply": "2023-07-29T10:59:58.296316Z"
    },
    "papermill": {
     "duration": 0.351861,
     "end_time": "2023-07-29T10:59:58.299939",
     "exception": false,
     "start_time": "2023-07-29T10:59:57.948078",
     "status": "completed"
    },
    "tags": []
   },
   "outputs": [
    {
     "data": {
      "text/html": [
       "<div>\n",
       "<style scoped>\n",
       "    .dataframe tbody tr th:only-of-type {\n",
       "        vertical-align: middle;\n",
       "    }\n",
       "\n",
       "    .dataframe tbody tr th {\n",
       "        vertical-align: top;\n",
       "    }\n",
       "\n",
       "    .dataframe thead th {\n",
       "        text-align: right;\n",
       "    }\n",
       "</style>\n",
       "<table border=\"1\" class=\"dataframe\">\n",
       "  <thead>\n",
       "    <tr style=\"text-align: right;\">\n",
       "      <th></th>\n",
       "      <th>movieid</th>\n",
       "      <th>reviewerName</th>\n",
       "      <th>isTopCritic</th>\n",
       "      <th>reviewText</th>\n",
       "    </tr>\n",
       "  </thead>\n",
       "  <tbody>\n",
       "    <tr>\n",
       "      <th>0</th>\n",
       "      <td>legend_marty_mcfly_oracle</td>\n",
       "      <td>John Kim</td>\n",
       "      <td>False</td>\n",
       "      <td>Green slowly cranks up the dread with style an...</td>\n",
       "    </tr>\n",
       "    <tr>\n",
       "      <th>1</th>\n",
       "      <td>terminator_katniss_everdeen_glimmer</td>\n",
       "      <td>Brian Chaney</td>\n",
       "      <td>False</td>\n",
       "      <td>Philip Noyce's direction is elegant and unforc...</td>\n",
       "    </tr>\n",
       "    <tr>\n",
       "      <th>2</th>\n",
       "      <td>james_bond_labyrinth_gollum</td>\n",
       "      <td>Danielle Parker</td>\n",
       "      <td>False</td>\n",
       "      <td>It wouldn't do to say what path Maria ultimate...</td>\n",
       "    </tr>\n",
       "  </tbody>\n",
       "</table>\n",
       "</div>"
      ],
      "text/plain": [
       "                               movieid     reviewerName  isTopCritic  \\\n",
       "0            legend_marty_mcfly_oracle         John Kim        False   \n",
       "1  terminator_katniss_everdeen_glimmer     Brian Chaney        False   \n",
       "2          james_bond_labyrinth_gollum  Danielle Parker        False   \n",
       "\n",
       "                                          reviewText  \n",
       "0  Green slowly cranks up the dread with style an...  \n",
       "1  Philip Noyce's direction is elegant and unforc...  \n",
       "2  It wouldn't do to say what path Maria ultimate...  "
      ]
     },
     "execution_count": 4,
     "metadata": {},
     "output_type": "execute_result"
    }
   ],
   "source": [
    "test=pd.read_csv('/kaggle/input/sentiment-prediction-on-movie-reviews/test.csv')\n",
    "test.head(3)"
   ]
  },
  {
   "cell_type": "code",
   "execution_count": 5,
   "id": "259fa201",
   "metadata": {
    "execution": {
     "iopub.execute_input": "2023-07-29T10:59:58.353002Z",
     "iopub.status.busy": "2023-07-29T10:59:58.352603Z",
     "iopub.status.idle": "2023-07-29T10:59:59.232156Z",
     "shell.execute_reply": "2023-07-29T10:59:59.231083Z"
    },
    "papermill": {
     "duration": 0.908611,
     "end_time": "2023-07-29T10:59:59.234363",
     "exception": false,
     "start_time": "2023-07-29T10:59:58.325752",
     "status": "completed"
    },
    "tags": []
   },
   "outputs": [
    {
     "data": {
      "text/html": [
       "<div>\n",
       "<style scoped>\n",
       "    .dataframe tbody tr th:only-of-type {\n",
       "        vertical-align: middle;\n",
       "    }\n",
       "\n",
       "    .dataframe tbody tr th {\n",
       "        vertical-align: top;\n",
       "    }\n",
       "\n",
       "    .dataframe thead th {\n",
       "        text-align: right;\n",
       "    }\n",
       "</style>\n",
       "<table border=\"1\" class=\"dataframe\">\n",
       "  <thead>\n",
       "    <tr style=\"text-align: right;\">\n",
       "      <th></th>\n",
       "      <th>movieid</th>\n",
       "      <th>title</th>\n",
       "      <th>audienceScore</th>\n",
       "      <th>rating</th>\n",
       "      <th>ratingContents</th>\n",
       "      <th>releaseDateTheaters</th>\n",
       "      <th>releaseDateStreaming</th>\n",
       "      <th>runtimeMinutes</th>\n",
       "      <th>genre</th>\n",
       "      <th>originalLanguage</th>\n",
       "      <th>director</th>\n",
       "      <th>boxOffice</th>\n",
       "      <th>distributor</th>\n",
       "      <th>soundType</th>\n",
       "    </tr>\n",
       "  </thead>\n",
       "  <tbody>\n",
       "    <tr>\n",
       "      <th>0</th>\n",
       "      <td>han_solo_heroic_myth_wonder_woman</td>\n",
       "      <td>Han Solo Heroic Myth Wonder Woman</td>\n",
       "      <td>50.0</td>\n",
       "      <td>NaN</td>\n",
       "      <td>NaN</td>\n",
       "      <td>NaN</td>\n",
       "      <td>2018-08-25</td>\n",
       "      <td>75.0</td>\n",
       "      <td>Comedy, Horror, Sci-fi</td>\n",
       "      <td>English</td>\n",
       "      <td>Claude Nicolet</td>\n",
       "      <td>NaN</td>\n",
       "      <td>NaN</td>\n",
       "      <td>NaN</td>\n",
       "    </tr>\n",
       "    <tr>\n",
       "      <th>1</th>\n",
       "      <td>voyage_tyler_durden_han_solo_stardust</td>\n",
       "      <td>Voyage Tyler Durden Han Solo Stardust</td>\n",
       "      <td>NaN</td>\n",
       "      <td>NaN</td>\n",
       "      <td>NaN</td>\n",
       "      <td>NaN</td>\n",
       "      <td>2020-02-11</td>\n",
       "      <td>114.0</td>\n",
       "      <td>Drama</td>\n",
       "      <td>English</td>\n",
       "      <td>Nathan Haack</td>\n",
       "      <td>NaN</td>\n",
       "      <td>NaN</td>\n",
       "      <td>NaN</td>\n",
       "    </tr>\n",
       "    <tr>\n",
       "      <th>2</th>\n",
       "      <td>norman_bates_ferris_bueller_hermione_granger_v...</td>\n",
       "      <td>Norman Bates Ferris Bueller Hermione Granger V...</td>\n",
       "      <td>43.0</td>\n",
       "      <td>NaN</td>\n",
       "      <td>NaN</td>\n",
       "      <td>NaN</td>\n",
       "      <td>NaN</td>\n",
       "      <td>120.0</td>\n",
       "      <td>Drama</td>\n",
       "      <td>Korean</td>\n",
       "      <td>Theresa Smith</td>\n",
       "      <td>NaN</td>\n",
       "      <td>NaN</td>\n",
       "      <td>NaN</td>\n",
       "    </tr>\n",
       "  </tbody>\n",
       "</table>\n",
       "</div>"
      ],
      "text/plain": [
       "                                             movieid  \\\n",
       "0                  han_solo_heroic_myth_wonder_woman   \n",
       "1              voyage_tyler_durden_han_solo_stardust   \n",
       "2  norman_bates_ferris_bueller_hermione_granger_v...   \n",
       "\n",
       "                                               title  audienceScore rating  \\\n",
       "0                  Han Solo Heroic Myth Wonder Woman           50.0    NaN   \n",
       "1              Voyage Tyler Durden Han Solo Stardust            NaN    NaN   \n",
       "2  Norman Bates Ferris Bueller Hermione Granger V...           43.0    NaN   \n",
       "\n",
       "  ratingContents releaseDateTheaters releaseDateStreaming  runtimeMinutes  \\\n",
       "0            NaN                 NaN           2018-08-25            75.0   \n",
       "1            NaN                 NaN           2020-02-11           114.0   \n",
       "2            NaN                 NaN                  NaN           120.0   \n",
       "\n",
       "                    genre originalLanguage        director boxOffice  \\\n",
       "0  Comedy, Horror, Sci-fi          English  Claude Nicolet       NaN   \n",
       "1                   Drama          English    Nathan Haack       NaN   \n",
       "2                   Drama           Korean   Theresa Smith       NaN   \n",
       "\n",
       "  distributor soundType  \n",
       "0         NaN       NaN  \n",
       "1         NaN       NaN  \n",
       "2         NaN       NaN  "
      ]
     },
     "execution_count": 5,
     "metadata": {},
     "output_type": "execute_result"
    }
   ],
   "source": [
    "movies=pd.read_csv('/kaggle/input/sentiment-prediction-on-movie-reviews/movies.csv')\n",
    "movies.head(3)"
   ]
  },
  {
   "cell_type": "code",
   "execution_count": 6,
   "id": "417ac52b",
   "metadata": {
    "execution": {
     "iopub.execute_input": "2023-07-29T10:59:59.288178Z",
     "iopub.status.busy": "2023-07-29T10:59:59.287131Z",
     "iopub.status.idle": "2023-07-29T10:59:59.320768Z",
     "shell.execute_reply": "2023-07-29T10:59:59.319857Z"
    },
    "papermill": {
     "duration": 0.063043,
     "end_time": "2023-07-29T10:59:59.323020",
     "exception": false,
     "start_time": "2023-07-29T10:59:59.259977",
     "status": "completed"
    },
    "tags": []
   },
   "outputs": [
    {
     "data": {
      "text/html": [
       "<div>\n",
       "<style scoped>\n",
       "    .dataframe tbody tr th:only-of-type {\n",
       "        vertical-align: middle;\n",
       "    }\n",
       "\n",
       "    .dataframe tbody tr th {\n",
       "        vertical-align: top;\n",
       "    }\n",
       "\n",
       "    .dataframe thead th {\n",
       "        text-align: right;\n",
       "    }\n",
       "</style>\n",
       "<table border=\"1\" class=\"dataframe\">\n",
       "  <thead>\n",
       "    <tr style=\"text-align: right;\">\n",
       "      <th></th>\n",
       "      <th>id</th>\n",
       "      <th>sentiment</th>\n",
       "    </tr>\n",
       "  </thead>\n",
       "  <tbody>\n",
       "    <tr>\n",
       "      <th>0</th>\n",
       "      <td>0</td>\n",
       "      <td>NEGATIVE</td>\n",
       "    </tr>\n",
       "    <tr>\n",
       "      <th>1</th>\n",
       "      <td>1</td>\n",
       "      <td>NEGATIVE</td>\n",
       "    </tr>\n",
       "    <tr>\n",
       "      <th>2</th>\n",
       "      <td>2</td>\n",
       "      <td>NEGATIVE</td>\n",
       "    </tr>\n",
       "    <tr>\n",
       "      <th>3</th>\n",
       "      <td>3</td>\n",
       "      <td>NEGATIVE</td>\n",
       "    </tr>\n",
       "    <tr>\n",
       "      <th>4</th>\n",
       "      <td>4</td>\n",
       "      <td>NEGATIVE</td>\n",
       "    </tr>\n",
       "  </tbody>\n",
       "</table>\n",
       "</div>"
      ],
      "text/plain": [
       "   id sentiment\n",
       "0   0  NEGATIVE\n",
       "1   1  NEGATIVE\n",
       "2   2  NEGATIVE\n",
       "3   3  NEGATIVE\n",
       "4   4  NEGATIVE"
      ]
     },
     "execution_count": 6,
     "metadata": {},
     "output_type": "execute_result"
    }
   ],
   "source": [
    "sample=pd.read_csv('/kaggle/input/sentiment-prediction-on-movie-reviews/sample.csv')\n",
    "sample.head()"
   ]
  },
  {
   "cell_type": "markdown",
   "id": "9d11588f",
   "metadata": {
    "papermill": {
     "duration": 0.025607,
     "end_time": "2023-07-29T10:59:59.374621",
     "exception": false,
     "start_time": "2023-07-29T10:59:59.349014",
     "status": "completed"
    },
    "tags": []
   },
   "source": [
    "**3. EXPLORATORY DATA ANALYSIS**\n"
   ]
  },
  {
   "cell_type": "code",
   "execution_count": 7,
   "id": "917a19a9",
   "metadata": {
    "execution": {
     "iopub.execute_input": "2023-07-29T10:59:59.428698Z",
     "iopub.status.busy": "2023-07-29T10:59:59.428314Z",
     "iopub.status.idle": "2023-07-29T10:59:59.434613Z",
     "shell.execute_reply": "2023-07-29T10:59:59.433586Z"
    },
    "papermill": {
     "duration": 0.03648,
     "end_time": "2023-07-29T10:59:59.436958",
     "exception": false,
     "start_time": "2023-07-29T10:59:59.400478",
     "status": "completed"
    },
    "tags": []
   },
   "outputs": [
    {
     "data": {
      "text/plain": [
       "(162758, 5)"
      ]
     },
     "execution_count": 7,
     "metadata": {},
     "output_type": "execute_result"
    }
   ],
   "source": [
    "train.shape"
   ]
  },
  {
   "cell_type": "code",
   "execution_count": 8,
   "id": "5482c733",
   "metadata": {
    "execution": {
     "iopub.execute_input": "2023-07-29T10:59:59.492552Z",
     "iopub.status.busy": "2023-07-29T10:59:59.490108Z",
     "iopub.status.idle": "2023-07-29T10:59:59.497972Z",
     "shell.execute_reply": "2023-07-29T10:59:59.496836Z"
    },
    "papermill": {
     "duration": 0.037664,
     "end_time": "2023-07-29T10:59:59.500444",
     "exception": false,
     "start_time": "2023-07-29T10:59:59.462780",
     "status": "completed"
    },
    "tags": []
   },
   "outputs": [
    {
     "name": "stdout",
     "output_type": "stream",
     "text": [
      "No. of rows: 162758\n",
      "No. of columns: 5\n"
     ]
    }
   ],
   "source": [
    "print(\"No. of rows:\", train.shape[0])\n",
    "print(\"No. of columns:\", train.shape[1])"
   ]
  },
  {
   "cell_type": "code",
   "execution_count": 9,
   "id": "24bd9a90",
   "metadata": {
    "execution": {
     "iopub.execute_input": "2023-07-29T10:59:59.553852Z",
     "iopub.status.busy": "2023-07-29T10:59:59.553466Z",
     "iopub.status.idle": "2023-07-29T10:59:59.688970Z",
     "shell.execute_reply": "2023-07-29T10:59:59.687526Z"
    },
    "papermill": {
     "duration": 0.165126,
     "end_time": "2023-07-29T10:59:59.691511",
     "exception": false,
     "start_time": "2023-07-29T10:59:59.526385",
     "status": "completed"
    },
    "tags": []
   },
   "outputs": [
    {
     "name": "stdout",
     "output_type": "stream",
     "text": [
      "<class 'pandas.core.frame.DataFrame'>\n",
      "RangeIndex: 162758 entries, 0 to 162757\n",
      "Data columns (total 5 columns):\n",
      " #   Column              Non-Null Count   Dtype \n",
      "---  ------              --------------   ----- \n",
      " 0   movieid             162758 non-null  object\n",
      " 1   reviewerName        162758 non-null  object\n",
      " 2   isFrequentReviewer  162758 non-null  bool  \n",
      " 3   reviewText          156311 non-null  object\n",
      " 4   sentiment           162758 non-null  object\n",
      "dtypes: bool(1), object(4)\n",
      "memory usage: 5.1+ MB\n"
     ]
    }
   ],
   "source": [
    "train.info()"
   ]
  },
  {
   "cell_type": "markdown",
   "id": "47f1bdf9",
   "metadata": {
    "papermill": {
     "duration": 0.026194,
     "end_time": "2023-07-29T10:59:59.746205",
     "exception": false,
     "start_time": "2023-07-29T10:59:59.720011",
     "status": "completed"
    },
    "tags": []
   },
   "source": [
    "**There are total 5 columns, all are of string type except isFrequentReviewer is of Boolean type \n",
    "All are categorical variables and for our current analysis we will take reviewText as our input varable and sentiment is our target variable**\n"
   ]
  },
  {
   "cell_type": "markdown",
   "id": "543ee313",
   "metadata": {
    "papermill": {
     "duration": 0.026358,
     "end_time": "2023-07-29T10:59:59.798774",
     "exception": false,
     "start_time": "2023-07-29T10:59:59.772416",
     "status": "completed"
    },
    "tags": []
   },
   "source": [
    "*3.1 To check for missing values:*"
   ]
  },
  {
   "cell_type": "code",
   "execution_count": 10,
   "id": "56a2a2ae",
   "metadata": {
    "execution": {
     "iopub.execute_input": "2023-07-29T10:59:59.853510Z",
     "iopub.status.busy": "2023-07-29T10:59:59.853061Z",
     "iopub.status.idle": "2023-07-29T10:59:59.962313Z",
     "shell.execute_reply": "2023-07-29T10:59:59.961271Z"
    },
    "papermill": {
     "duration": 0.139324,
     "end_time": "2023-07-29T10:59:59.964919",
     "exception": false,
     "start_time": "2023-07-29T10:59:59.825595",
     "status": "completed"
    },
    "tags": []
   },
   "outputs": [
    {
     "data": {
      "text/plain": [
       "movieid                  0\n",
       "reviewerName             0\n",
       "isFrequentReviewer       0\n",
       "reviewText            6447\n",
       "sentiment                0\n",
       "dtype: int64"
      ]
     },
     "execution_count": 10,
     "metadata": {},
     "output_type": "execute_result"
    }
   ],
   "source": [
    "train.isnull().sum()"
   ]
  },
  {
   "cell_type": "markdown",
   "id": "2837dad1",
   "metadata": {
    "papermill": {
     "duration": 0.026473,
     "end_time": "2023-07-29T11:00:00.019422",
     "exception": false,
     "start_time": "2023-07-29T10:59:59.992949",
     "status": "completed"
    },
    "tags": []
   },
   "source": [
    "**Therefore, there are 6447 missing values in reviewText**"
   ]
  },
  {
   "cell_type": "markdown",
   "id": "d0dba769",
   "metadata": {
    "papermill": {
     "duration": 0.025934,
     "end_time": "2023-07-29T11:00:00.071627",
     "exception": false,
     "start_time": "2023-07-29T11:00:00.045693",
     "status": "completed"
    },
    "tags": []
   },
   "source": [
    "*3.2 visualizing the missing values*"
   ]
  },
  {
   "cell_type": "code",
   "execution_count": 11,
   "id": "2cfa0d9d",
   "metadata": {
    "execution": {
     "iopub.execute_input": "2023-07-29T11:00:00.128305Z",
     "iopub.status.busy": "2023-07-29T11:00:00.127538Z",
     "iopub.status.idle": "2023-07-29T11:00:01.891013Z",
     "shell.execute_reply": "2023-07-29T11:00:01.889639Z"
    },
    "papermill": {
     "duration": 1.795793,
     "end_time": "2023-07-29T11:00:01.893641",
     "exception": false,
     "start_time": "2023-07-29T11:00:00.097848",
     "status": "completed"
    },
    "tags": []
   },
   "outputs": [
    {
     "data": {
      "text/plain": [
       "<Axes: >"
      ]
     },
     "execution_count": 11,
     "metadata": {},
     "output_type": "execute_result"
    },
    {
     "data": {
      "image/png": "[encoded data removed]",
      "text/plain": [
       "<Figure size 640x480 with 2 Axes>"
      ]
     },
     "metadata": {},
     "output_type": "display_data"
    }
   ],
   "source": [
    "sns.heatmap(train.isnull())"
   ]
  },
  {
   "cell_type": "code",
   "execution_count": 12,
   "id": "e3af79e4",
   "metadata": {
    "execution": {
     "iopub.execute_input": "2023-07-29T11:00:01.950084Z",
     "iopub.status.busy": "2023-07-29T11:00:01.949697Z",
     "iopub.status.idle": "2023-07-29T11:00:02.057704Z",
     "shell.execute_reply": "2023-07-29T11:00:02.056459Z"
    },
    "papermill": {
     "duration": 0.138956,
     "end_time": "2023-07-29T11:00:02.060268",
     "exception": false,
     "start_time": "2023-07-29T11:00:01.921312",
     "status": "completed"
    },
    "tags": []
   },
   "outputs": [
    {
     "data": {
      "text/plain": [
       "movieid               0.000000\n",
       "reviewerName          0.000000\n",
       "isFrequentReviewer    0.000000\n",
       "reviewText            3.961096\n",
       "sentiment             0.000000\n",
       "dtype: float64"
      ]
     },
     "execution_count": 12,
     "metadata": {},
     "output_type": "execute_result"
    }
   ],
   "source": [
    "percentmv= train.isnull().sum()*100 / len(train)\n",
    "percentmv"
   ]
  },
  {
   "cell_type": "markdown",
   "id": "3c363842",
   "metadata": {
    "papermill": {
     "duration": 0.026933,
     "end_time": "2023-07-29T11:00:02.114437",
     "exception": false,
     "start_time": "2023-07-29T11:00:02.087504",
     "status": "completed"
    },
    "tags": []
   },
   "source": [
    "**So, there are about 3.96% of missing values in the train dataset**"
   ]
  },
  {
   "cell_type": "code",
   "execution_count": 13,
   "id": "0cb6ebcc",
   "metadata": {
    "execution": {
     "iopub.execute_input": "2023-07-29T11:00:02.170933Z",
     "iopub.status.busy": "2023-07-29T11:00:02.170070Z",
     "iopub.status.idle": "2023-07-29T11:00:02.406578Z",
     "shell.execute_reply": "2023-07-29T11:00:02.405433Z"
    },
    "papermill": {
     "duration": 0.267457,
     "end_time": "2023-07-29T11:00:02.409080",
     "exception": false,
     "start_time": "2023-07-29T11:00:02.141623",
     "status": "completed"
    },
    "tags": []
   },
   "outputs": [
    {
     "data": {
      "text/html": [
       "<div>\n",
       "<style scoped>\n",
       "    .dataframe tbody tr th:only-of-type {\n",
       "        vertical-align: middle;\n",
       "    }\n",
       "\n",
       "    .dataframe tbody tr th {\n",
       "        vertical-align: top;\n",
       "    }\n",
       "\n",
       "    .dataframe thead th {\n",
       "        text-align: right;\n",
       "    }\n",
       "</style>\n",
       "<table border=\"1\" class=\"dataframe\">\n",
       "  <thead>\n",
       "    <tr style=\"text-align: right;\">\n",
       "      <th></th>\n",
       "      <th>movieid</th>\n",
       "      <th>reviewerName</th>\n",
       "      <th>isFrequentReviewer</th>\n",
       "      <th>reviewText</th>\n",
       "      <th>sentiment</th>\n",
       "    </tr>\n",
       "  </thead>\n",
       "  <tbody>\n",
       "    <tr>\n",
       "      <th>count</th>\n",
       "      <td>162758</td>\n",
       "      <td>162758</td>\n",
       "      <td>162758</td>\n",
       "      <td>156311</td>\n",
       "      <td>162758</td>\n",
       "    </tr>\n",
       "    <tr>\n",
       "      <th>unique</th>\n",
       "      <td>16812</td>\n",
       "      <td>4482</td>\n",
       "      <td>2</td>\n",
       "      <td>155071</td>\n",
       "      <td>2</td>\n",
       "    </tr>\n",
       "    <tr>\n",
       "      <th>top</th>\n",
       "      <td>escape_the_terminator_tyler_durden_astonish</td>\n",
       "      <td>Sherri Morrison</td>\n",
       "      <td>False</td>\n",
       "      <td>Parental Content Review</td>\n",
       "      <td>POSITIVE</td>\n",
       "    </tr>\n",
       "    <tr>\n",
       "      <th>freq</th>\n",
       "      <td>708</td>\n",
       "      <td>962</td>\n",
       "      <td>113189</td>\n",
       "      <td>29</td>\n",
       "      <td>108761</td>\n",
       "    </tr>\n",
       "  </tbody>\n",
       "</table>\n",
       "</div>"
      ],
      "text/plain": [
       "                                            movieid     reviewerName  \\\n",
       "count                                        162758           162758   \n",
       "unique                                        16812             4482   \n",
       "top     escape_the_terminator_tyler_durden_astonish  Sherri Morrison   \n",
       "freq                                            708              962   \n",
       "\n",
       "       isFrequentReviewer               reviewText sentiment  \n",
       "count              162758                   156311    162758  \n",
       "unique                  2                   155071         2  \n",
       "top                 False  Parental Content Review  POSITIVE  \n",
       "freq               113189                       29    108761  "
      ]
     },
     "execution_count": 13,
     "metadata": {},
     "output_type": "execute_result"
    }
   ],
   "source": [
    "train.describe()"
   ]
  },
  {
   "cell_type": "markdown",
   "id": "0b5c5eeb",
   "metadata": {
    "papermill": {
     "duration": 0.027161,
     "end_time": "2023-07-29T11:00:02.464786",
     "exception": false,
     "start_time": "2023-07-29T11:00:02.437625",
     "status": "completed"
    },
    "tags": []
   },
   "source": [
    "*To check the number of label values*"
   ]
  },
  {
   "cell_type": "code",
   "execution_count": 14,
   "id": "3cc83e69",
   "metadata": {
    "execution": {
     "iopub.execute_input": "2023-07-29T11:00:02.522279Z",
     "iopub.status.busy": "2023-07-29T11:00:02.521438Z",
     "iopub.status.idle": "2023-07-29T11:00:02.805763Z",
     "shell.execute_reply": "2023-07-29T11:00:02.804664Z"
    },
    "papermill": {
     "duration": 0.315941,
     "end_time": "2023-07-29T11:00:02.808330",
     "exception": false,
     "start_time": "2023-07-29T11:00:02.492389",
     "status": "completed"
    },
    "tags": []
   },
   "outputs": [
    {
     "data": {
      "image/png": "[encoded data removed]",
      "text/plain": [
       "<Figure size 500x200 with 1 Axes>"
      ]
     },
     "metadata": {},
     "output_type": "display_data"
    }
   ],
   "source": [
    "fig = plt.subplots(figsize=(5,2))\n",
    "sns.countplot(x='sentiment', data=train)\n",
    "plt.title(\"Count of Sentiment\")\n",
    "plt.show()"
   ]
  },
  {
   "cell_type": "code",
   "execution_count": 15,
   "id": "f6d2eff5",
   "metadata": {
    "execution": {
     "iopub.execute_input": "2023-07-29T11:00:02.866578Z",
     "iopub.status.busy": "2023-07-29T11:00:02.866182Z",
     "iopub.status.idle": "2023-07-29T11:00:02.883906Z",
     "shell.execute_reply": "2023-07-29T11:00:02.882933Z"
    },
    "papermill": {
     "duration": 0.049015,
     "end_time": "2023-07-29T11:00:02.885842",
     "exception": false,
     "start_time": "2023-07-29T11:00:02.836827",
     "status": "completed"
    },
    "tags": []
   },
   "outputs": [
    {
     "data": {
      "text/plain": [
       "POSITIVE    108761\n",
       "NEGATIVE     53997\n",
       "Name: sentiment, dtype: int64"
      ]
     },
     "execution_count": 15,
     "metadata": {},
     "output_type": "execute_result"
    }
   ],
   "source": [
    "train['sentiment'].value_counts()"
   ]
  },
  {
   "cell_type": "code",
   "execution_count": 16,
   "id": "5f24c421",
   "metadata": {
    "execution": {
     "iopub.execute_input": "2023-07-29T11:00:02.942947Z",
     "iopub.status.busy": "2023-07-29T11:00:02.942572Z",
     "iopub.status.idle": "2023-07-29T11:00:02.996897Z",
     "shell.execute_reply": "2023-07-29T11:00:02.995696Z"
    },
    "papermill": {
     "duration": 0.085685,
     "end_time": "2023-07-29T11:00:02.999387",
     "exception": false,
     "start_time": "2023-07-29T11:00:02.913702",
     "status": "completed"
    },
    "tags": []
   },
   "outputs": [
    {
     "name": "stdout",
     "output_type": "stream",
     "text": [
      "% of positive reviews:  66.82375059904889\n",
      "% of negtive reviews:  33.17624940095111\n"
     ]
    }
   ],
   "source": [
    "#In terms of percentage\n",
    "n=len(train)\n",
    "s0=len(train[train['sentiment']=='NEGATIVE'])\n",
    "s1=len(train[train['sentiment']=='POSITIVE'])\n",
    "\n",
    "print(\"% of positive reviews: \",(s1*100)/n)\n",
    "print(\"% of negtive reviews: \",(s0*100)/n)"
   ]
  },
  {
   "cell_type": "markdown",
   "id": "1762c3d0",
   "metadata": {
    "papermill": {
     "duration": 0.027411,
     "end_time": "2023-07-29T11:00:03.055068",
     "exception": false,
     "start_time": "2023-07-29T11:00:03.027657",
     "status": "completed"
    },
    "tags": []
   },
   "source": [
    "**There are 66% of positive reviews and 33% negative reviews.**\n"
   ]
  },
  {
   "cell_type": "markdown",
   "id": "a4369300",
   "metadata": {
    "papermill": {
     "duration": 0.027332,
     "end_time": "2023-07-29T11:00:03.110420",
     "exception": false,
     "start_time": "2023-07-29T11:00:03.083088",
     "status": "completed"
    },
    "tags": []
   },
   "source": [
    "**3.5 Similarly performing Exploratory Analysis on movies dataset**"
   ]
  },
  {
   "cell_type": "code",
   "execution_count": 17,
   "id": "b51ef4a6",
   "metadata": {
    "execution": {
     "iopub.execute_input": "2023-07-29T11:00:03.167491Z",
     "iopub.status.busy": "2023-07-29T11:00:03.166952Z",
     "iopub.status.idle": "2023-07-29T11:00:03.173530Z",
     "shell.execute_reply": "2023-07-29T11:00:03.172519Z"
    },
    "papermill": {
     "duration": 0.037852,
     "end_time": "2023-07-29T11:00:03.175875",
     "exception": false,
     "start_time": "2023-07-29T11:00:03.138023",
     "status": "completed"
    },
    "tags": []
   },
   "outputs": [
    {
     "data": {
      "text/plain": [
       "(143258, 14)"
      ]
     },
     "execution_count": 17,
     "metadata": {},
     "output_type": "execute_result"
    }
   ],
   "source": [
    "movies.shape"
   ]
  },
  {
   "cell_type": "code",
   "execution_count": 18,
   "id": "a2747391",
   "metadata": {
    "execution": {
     "iopub.execute_input": "2023-07-29T11:00:03.234791Z",
     "iopub.status.busy": "2023-07-29T11:00:03.233619Z",
     "iopub.status.idle": "2023-07-29T11:00:03.240270Z",
     "shell.execute_reply": "2023-07-29T11:00:03.238752Z"
    },
    "papermill": {
     "duration": 0.038322,
     "end_time": "2023-07-29T11:00:03.242530",
     "exception": false,
     "start_time": "2023-07-29T11:00:03.204208",
     "status": "completed"
    },
    "tags": []
   },
   "outputs": [
    {
     "name": "stdout",
     "output_type": "stream",
     "text": [
      "No. of rows: 143258\n",
      "No. of columns: 14\n"
     ]
    }
   ],
   "source": [
    "print(\"No. of rows:\", movies.shape[0])\n",
    "print(\"No. of columns:\", movies.shape[1])"
   ]
  },
  {
   "cell_type": "code",
   "execution_count": 19,
   "id": "bf3a5ddb",
   "metadata": {
    "execution": {
     "iopub.execute_input": "2023-07-29T11:00:03.300812Z",
     "iopub.status.busy": "2023-07-29T11:00:03.300453Z",
     "iopub.status.idle": "2023-07-29T11:00:03.558656Z",
     "shell.execute_reply": "2023-07-29T11:00:03.557558Z"
    },
    "papermill": {
     "duration": 0.289908,
     "end_time": "2023-07-29T11:00:03.560931",
     "exception": false,
     "start_time": "2023-07-29T11:00:03.271023",
     "status": "completed"
    },
    "tags": []
   },
   "outputs": [
    {
     "name": "stdout",
     "output_type": "stream",
     "text": [
      "<class 'pandas.core.frame.DataFrame'>\n",
      "RangeIndex: 143258 entries, 0 to 143257\n",
      "Data columns (total 14 columns):\n",
      " #   Column                Non-Null Count   Dtype  \n",
      "---  ------                --------------   -----  \n",
      " 0   movieid               143258 non-null  object \n",
      " 1   title                 143258 non-null  object \n",
      " 2   audienceScore         73248 non-null   float64\n",
      " 3   rating                13991 non-null   object \n",
      " 4   ratingContents        13991 non-null   object \n",
      " 5   releaseDateTheaters   30773 non-null   object \n",
      " 6   releaseDateStreaming  79420 non-null   object \n",
      " 7   runtimeMinutes        129431 non-null  float64\n",
      " 8   genre                 132175 non-null  object \n",
      " 9   originalLanguage      129400 non-null  object \n",
      " 10  director              143258 non-null  object \n",
      " 11  boxOffice             14743 non-null   object \n",
      " 12  distributor           23005 non-null   object \n",
      " 13  soundType             15917 non-null   object \n",
      "dtypes: float64(2), object(12)\n",
      "memory usage: 15.3+ MB\n"
     ]
    }
   ],
   "source": [
    "movies.info()"
   ]
  },
  {
   "cell_type": "markdown",
   "id": "4cec2549",
   "metadata": {
    "papermill": {
     "duration": 0.027917,
     "end_time": "2023-07-29T11:00:03.617169",
     "exception": false,
     "start_time": "2023-07-29T11:00:03.589252",
     "status": "completed"
    },
    "tags": []
   },
   "source": [
    "**There are total 14 columns, all are of string type except audienceScore and runtimeMinutes is of float type**"
   ]
  },
  {
   "cell_type": "markdown",
   "id": "0b51aa8d",
   "metadata": {
    "papermill": {
     "duration": 0.028296,
     "end_time": "2023-07-29T11:00:03.673995",
     "exception": false,
     "start_time": "2023-07-29T11:00:03.645699",
     "status": "completed"
    },
    "tags": []
   },
   "source": [
    "3.6 To check for missing values:"
   ]
  },
  {
   "cell_type": "code",
   "execution_count": 20,
   "id": "f62cf1a8",
   "metadata": {
    "execution": {
     "iopub.execute_input": "2023-07-29T11:00:03.735129Z",
     "iopub.status.busy": "2023-07-29T11:00:03.734741Z",
     "iopub.status.idle": "2023-07-29T11:00:03.990539Z",
     "shell.execute_reply": "2023-07-29T11:00:03.989430Z"
    },
    "papermill": {
     "duration": 0.289906,
     "end_time": "2023-07-29T11:00:03.992802",
     "exception": false,
     "start_time": "2023-07-29T11:00:03.702896",
     "status": "completed"
    },
    "tags": []
   },
   "outputs": [
    {
     "data": {
      "text/plain": [
       "movieid                      0\n",
       "title                        0\n",
       "audienceScore            70010\n",
       "rating                  129267\n",
       "ratingContents          129267\n",
       "releaseDateTheaters     112485\n",
       "releaseDateStreaming     63838\n",
       "runtimeMinutes           13827\n",
       "genre                    11083\n",
       "originalLanguage         13858\n",
       "director                     0\n",
       "boxOffice               128515\n",
       "distributor             120253\n",
       "soundType               127341\n",
       "dtype: int64"
      ]
     },
     "execution_count": 20,
     "metadata": {},
     "output_type": "execute_result"
    }
   ],
   "source": [
    "movies.isnull().sum()"
   ]
  },
  {
   "cell_type": "markdown",
   "id": "787b36c2",
   "metadata": {
    "papermill": {
     "duration": 0.028373,
     "end_time": "2023-07-29T11:00:04.049675",
     "exception": false,
     "start_time": "2023-07-29T11:00:04.021302",
     "status": "completed"
    },
    "tags": []
   },
   "source": [
    "**Therefore, there are missing values in audienceScore,rating,ratingContents,releaseDateTheaters,releaseDateStreaming,runtimeMinutes,genre,originalLanguage,boxOffice,distributor and soundType**"
   ]
  },
  {
   "cell_type": "code",
   "execution_count": 21,
   "id": "95e4e588",
   "metadata": {
    "execution": {
     "iopub.execute_input": "2023-07-29T11:00:04.107790Z",
     "iopub.status.busy": "2023-07-29T11:00:04.107425Z",
     "iopub.status.idle": "2023-07-29T11:00:07.672340Z",
     "shell.execute_reply": "2023-07-29T11:00:07.671579Z"
    },
    "papermill": {
     "duration": 3.597091,
     "end_time": "2023-07-29T11:00:07.674946",
     "exception": false,
     "start_time": "2023-07-29T11:00:04.077855",
     "status": "completed"
    },
    "tags": []
   },
   "outputs": [
    {
     "data": {
      "text/plain": [
       "<Axes: >"
      ]
     },
     "execution_count": 21,
     "metadata": {},
     "output_type": "execute_result"
    },
    {
     "data": {
      "image/png": "[encoded data removed]",
      "text/plain": [
       "<Figure size 640x480 with 2 Axes>"
      ]
     },
     "metadata": {},
     "output_type": "display_data"
    }
   ],
   "source": [
    "sns.heatmap(movies.isnull())"
   ]
  },
  {
   "cell_type": "code",
   "execution_count": 22,
   "id": "f315ad43",
   "metadata": {
    "execution": {
     "iopub.execute_input": "2023-07-29T11:00:07.735761Z",
     "iopub.status.busy": "2023-07-29T11:00:07.735379Z",
     "iopub.status.idle": "2023-07-29T11:00:08.004806Z",
     "shell.execute_reply": "2023-07-29T11:00:08.003694Z"
    },
    "papermill": {
     "duration": 0.302655,
     "end_time": "2023-07-29T11:00:08.007172",
     "exception": false,
     "start_time": "2023-07-29T11:00:07.704517",
     "status": "completed"
    },
    "tags": []
   },
   "outputs": [
    {
     "data": {
      "text/plain": [
       "movieid                  0.000000\n",
       "title                    0.000000\n",
       "audienceScore           48.869871\n",
       "rating                  90.233704\n",
       "ratingContents          90.233704\n",
       "releaseDateTheaters     78.519175\n",
       "releaseDateStreaming    44.561560\n",
       "runtimeMinutes           9.651817\n",
       "genre                    7.736392\n",
       "originalLanguage         9.673456\n",
       "director                 0.000000\n",
       "boxOffice               89.708777\n",
       "distributor             83.941560\n",
       "soundType               88.889277\n",
       "dtype: float64"
      ]
     },
     "execution_count": 22,
     "metadata": {},
     "output_type": "execute_result"
    }
   ],
   "source": [
    "percentmv= movies.isnull().sum()*100 / len(movies)\n",
    "percentmv"
   ]
  },
  {
   "cell_type": "markdown",
   "id": "85d69c0f",
   "metadata": {
    "papermill": {
     "duration": 0.029212,
     "end_time": "2023-07-29T11:00:08.066454",
     "exception": false,
     "start_time": "2023-07-29T11:00:08.037242",
     "status": "completed"
    },
    "tags": []
   },
   "source": [
    "**The columns >50% missing values can be ignored for the analysis as it will lead to bias if imputed**"
   ]
  },
  {
   "cell_type": "code",
   "execution_count": 23,
   "id": "e0422d18",
   "metadata": {
    "execution": {
     "iopub.execute_input": "2023-07-29T11:00:08.130038Z",
     "iopub.status.busy": "2023-07-29T11:00:08.129621Z",
     "iopub.status.idle": "2023-07-29T11:00:08.584625Z",
     "shell.execute_reply": "2023-07-29T11:00:08.583513Z"
    },
    "papermill": {
     "duration": 0.490374,
     "end_time": "2023-07-29T11:00:08.586947",
     "exception": false,
     "start_time": "2023-07-29T11:00:08.096573",
     "status": "completed"
    },
    "tags": []
   },
   "outputs": [
    {
     "data": {
      "text/html": [
       "<div>\n",
       "<style scoped>\n",
       "    .dataframe tbody tr th:only-of-type {\n",
       "        vertical-align: middle;\n",
       "    }\n",
       "\n",
       "    .dataframe tbody tr th {\n",
       "        vertical-align: top;\n",
       "    }\n",
       "\n",
       "    .dataframe thead th {\n",
       "        text-align: right;\n",
       "    }\n",
       "</style>\n",
       "<table border=\"1\" class=\"dataframe\">\n",
       "  <thead>\n",
       "    <tr style=\"text-align: right;\">\n",
       "      <th></th>\n",
       "      <th>movieid</th>\n",
       "      <th>title</th>\n",
       "      <th>audienceScore</th>\n",
       "      <th>rating</th>\n",
       "      <th>ratingContents</th>\n",
       "      <th>releaseDateTheaters</th>\n",
       "      <th>releaseDateStreaming</th>\n",
       "      <th>runtimeMinutes</th>\n",
       "      <th>genre</th>\n",
       "      <th>originalLanguage</th>\n",
       "      <th>director</th>\n",
       "      <th>boxOffice</th>\n",
       "      <th>distributor</th>\n",
       "      <th>soundType</th>\n",
       "    </tr>\n",
       "  </thead>\n",
       "  <tbody>\n",
       "    <tr>\n",
       "      <th>count</th>\n",
       "      <td>143258</td>\n",
       "      <td>143258</td>\n",
       "      <td>73248.000000</td>\n",
       "      <td>13991</td>\n",
       "      <td>13991</td>\n",
       "      <td>30773</td>\n",
       "      <td>79420</td>\n",
       "      <td>129431.000000</td>\n",
       "      <td>132175</td>\n",
       "      <td>129400</td>\n",
       "      <td>143258</td>\n",
       "      <td>14743</td>\n",
       "      <td>23005</td>\n",
       "      <td>15917</td>\n",
       "    </tr>\n",
       "    <tr>\n",
       "      <th>unique</th>\n",
       "      <td>126404</td>\n",
       "      <td>126404</td>\n",
       "      <td>NaN</td>\n",
       "      <td>10</td>\n",
       "      <td>8353</td>\n",
       "      <td>12062</td>\n",
       "      <td>4726</td>\n",
       "      <td>NaN</td>\n",
       "      <td>2912</td>\n",
       "      <td>112</td>\n",
       "      <td>62208</td>\n",
       "      <td>4863</td>\n",
       "      <td>3694</td>\n",
       "      <td>551</td>\n",
       "    </tr>\n",
       "    <tr>\n",
       "      <th>top</th>\n",
       "      <td>escape_the_terminator_tyler_durden_astonish</td>\n",
       "      <td>Escape The Terminator Tyler Durden Astonish</td>\n",
       "      <td>NaN</td>\n",
       "      <td>R</td>\n",
       "      <td>['Language']</td>\n",
       "      <td>2018-09-14</td>\n",
       "      <td>2017-05-22</td>\n",
       "      <td>NaN</td>\n",
       "      <td>Drama</td>\n",
       "      <td>English</td>\n",
       "      <td>Joseph Brooks</td>\n",
       "      <td>$1.1M</td>\n",
       "      <td>Paramount Pictures</td>\n",
       "      <td>Surround</td>\n",
       "    </tr>\n",
       "    <tr>\n",
       "      <th>freq</th>\n",
       "      <td>367</td>\n",
       "      <td>367</td>\n",
       "      <td>NaN</td>\n",
       "      <td>7734</td>\n",
       "      <td>365</td>\n",
       "      <td>37</td>\n",
       "      <td>1232</td>\n",
       "      <td>NaN</td>\n",
       "      <td>27860</td>\n",
       "      <td>85034</td>\n",
       "      <td>4194</td>\n",
       "      <td>118</td>\n",
       "      <td>994</td>\n",
       "      <td>4075</td>\n",
       "    </tr>\n",
       "    <tr>\n",
       "      <th>mean</th>\n",
       "      <td>NaN</td>\n",
       "      <td>NaN</td>\n",
       "      <td>55.674967</td>\n",
       "      <td>NaN</td>\n",
       "      <td>NaN</td>\n",
       "      <td>NaN</td>\n",
       "      <td>NaN</td>\n",
       "      <td>93.708578</td>\n",
       "      <td>NaN</td>\n",
       "      <td>NaN</td>\n",
       "      <td>NaN</td>\n",
       "      <td>NaN</td>\n",
       "      <td>NaN</td>\n",
       "      <td>NaN</td>\n",
       "    </tr>\n",
       "    <tr>\n",
       "      <th>std</th>\n",
       "      <td>NaN</td>\n",
       "      <td>NaN</td>\n",
       "      <td>24.553648</td>\n",
       "      <td>NaN</td>\n",
       "      <td>NaN</td>\n",
       "      <td>NaN</td>\n",
       "      <td>NaN</td>\n",
       "      <td>28.129175</td>\n",
       "      <td>NaN</td>\n",
       "      <td>NaN</td>\n",
       "      <td>NaN</td>\n",
       "      <td>NaN</td>\n",
       "      <td>NaN</td>\n",
       "      <td>NaN</td>\n",
       "    </tr>\n",
       "    <tr>\n",
       "      <th>min</th>\n",
       "      <td>NaN</td>\n",
       "      <td>NaN</td>\n",
       "      <td>0.000000</td>\n",
       "      <td>NaN</td>\n",
       "      <td>NaN</td>\n",
       "      <td>NaN</td>\n",
       "      <td>NaN</td>\n",
       "      <td>1.000000</td>\n",
       "      <td>NaN</td>\n",
       "      <td>NaN</td>\n",
       "      <td>NaN</td>\n",
       "      <td>NaN</td>\n",
       "      <td>NaN</td>\n",
       "      <td>NaN</td>\n",
       "    </tr>\n",
       "    <tr>\n",
       "      <th>25%</th>\n",
       "      <td>NaN</td>\n",
       "      <td>NaN</td>\n",
       "      <td>37.000000</td>\n",
       "      <td>NaN</td>\n",
       "      <td>NaN</td>\n",
       "      <td>NaN</td>\n",
       "      <td>NaN</td>\n",
       "      <td>84.000000</td>\n",
       "      <td>NaN</td>\n",
       "      <td>NaN</td>\n",
       "      <td>NaN</td>\n",
       "      <td>NaN</td>\n",
       "      <td>NaN</td>\n",
       "      <td>NaN</td>\n",
       "    </tr>\n",
       "    <tr>\n",
       "      <th>50%</th>\n",
       "      <td>NaN</td>\n",
       "      <td>NaN</td>\n",
       "      <td>57.000000</td>\n",
       "      <td>NaN</td>\n",
       "      <td>NaN</td>\n",
       "      <td>NaN</td>\n",
       "      <td>NaN</td>\n",
       "      <td>92.000000</td>\n",
       "      <td>NaN</td>\n",
       "      <td>NaN</td>\n",
       "      <td>NaN</td>\n",
       "      <td>NaN</td>\n",
       "      <td>NaN</td>\n",
       "      <td>NaN</td>\n",
       "    </tr>\n",
       "    <tr>\n",
       "      <th>75%</th>\n",
       "      <td>NaN</td>\n",
       "      <td>NaN</td>\n",
       "      <td>76.000000</td>\n",
       "      <td>NaN</td>\n",
       "      <td>NaN</td>\n",
       "      <td>NaN</td>\n",
       "      <td>NaN</td>\n",
       "      <td>103.000000</td>\n",
       "      <td>NaN</td>\n",
       "      <td>NaN</td>\n",
       "      <td>NaN</td>\n",
       "      <td>NaN</td>\n",
       "      <td>NaN</td>\n",
       "      <td>NaN</td>\n",
       "    </tr>\n",
       "    <tr>\n",
       "      <th>max</th>\n",
       "      <td>NaN</td>\n",
       "      <td>NaN</td>\n",
       "      <td>100.000000</td>\n",
       "      <td>NaN</td>\n",
       "      <td>NaN</td>\n",
       "      <td>NaN</td>\n",
       "      <td>NaN</td>\n",
       "      <td>2700.000000</td>\n",
       "      <td>NaN</td>\n",
       "      <td>NaN</td>\n",
       "      <td>NaN</td>\n",
       "      <td>NaN</td>\n",
       "      <td>NaN</td>\n",
       "      <td>NaN</td>\n",
       "    </tr>\n",
       "  </tbody>\n",
       "</table>\n",
       "</div>"
      ],
      "text/plain": [
       "                                            movieid  \\\n",
       "count                                        143258   \n",
       "unique                                       126404   \n",
       "top     escape_the_terminator_tyler_durden_astonish   \n",
       "freq                                            367   \n",
       "mean                                            NaN   \n",
       "std                                             NaN   \n",
       "min                                             NaN   \n",
       "25%                                             NaN   \n",
       "50%                                             NaN   \n",
       "75%                                             NaN   \n",
       "max                                             NaN   \n",
       "\n",
       "                                              title  audienceScore rating  \\\n",
       "count                                        143258   73248.000000  13991   \n",
       "unique                                       126404            NaN     10   \n",
       "top     Escape The Terminator Tyler Durden Astonish            NaN      R   \n",
       "freq                                            367            NaN   7734   \n",
       "mean                                            NaN      55.674967    NaN   \n",
       "std                                             NaN      24.553648    NaN   \n",
       "min                                             NaN       0.000000    NaN   \n",
       "25%                                             NaN      37.000000    NaN   \n",
       "50%                                             NaN      57.000000    NaN   \n",
       "75%                                             NaN      76.000000    NaN   \n",
       "max                                             NaN     100.000000    NaN   \n",
       "\n",
       "       ratingContents releaseDateTheaters releaseDateStreaming  \\\n",
       "count           13991               30773                79420   \n",
       "unique           8353               12062                 4726   \n",
       "top      ['Language']          2018-09-14           2017-05-22   \n",
       "freq              365                  37                 1232   \n",
       "mean              NaN                 NaN                  NaN   \n",
       "std               NaN                 NaN                  NaN   \n",
       "min               NaN                 NaN                  NaN   \n",
       "25%               NaN                 NaN                  NaN   \n",
       "50%               NaN                 NaN                  NaN   \n",
       "75%               NaN                 NaN                  NaN   \n",
       "max               NaN                 NaN                  NaN   \n",
       "\n",
       "        runtimeMinutes   genre originalLanguage       director boxOffice  \\\n",
       "count    129431.000000  132175           129400         143258     14743   \n",
       "unique             NaN    2912              112          62208      4863   \n",
       "top                NaN   Drama          English  Joseph Brooks     $1.1M   \n",
       "freq               NaN   27860            85034           4194       118   \n",
       "mean         93.708578     NaN              NaN            NaN       NaN   \n",
       "std          28.129175     NaN              NaN            NaN       NaN   \n",
       "min           1.000000     NaN              NaN            NaN       NaN   \n",
       "25%          84.000000     NaN              NaN            NaN       NaN   \n",
       "50%          92.000000     NaN              NaN            NaN       NaN   \n",
       "75%         103.000000     NaN              NaN            NaN       NaN   \n",
       "max        2700.000000     NaN              NaN            NaN       NaN   \n",
       "\n",
       "               distributor soundType  \n",
       "count                23005     15917  \n",
       "unique                3694       551  \n",
       "top     Paramount Pictures  Surround  \n",
       "freq                   994      4075  \n",
       "mean                   NaN       NaN  \n",
       "std                    NaN       NaN  \n",
       "min                    NaN       NaN  \n",
       "25%                    NaN       NaN  \n",
       "50%                    NaN       NaN  \n",
       "75%                    NaN       NaN  \n",
       "max                    NaN       NaN  "
      ]
     },
     "execution_count": 23,
     "metadata": {},
     "output_type": "execute_result"
    }
   ],
   "source": [
    "movies.describe(include='all')"
   ]
  },
  {
   "cell_type": "code",
   "execution_count": 24,
   "id": "b3399379",
   "metadata": {
    "execution": {
     "iopub.execute_input": "2023-07-29T11:00:08.649097Z",
     "iopub.status.busy": "2023-07-29T11:00:08.648699Z",
     "iopub.status.idle": "2023-07-29T11:00:08.682964Z",
     "shell.execute_reply": "2023-07-29T11:00:08.682277Z"
    },
    "papermill": {
     "duration": 0.067885,
     "end_time": "2023-07-29T11:00:08.684895",
     "exception": false,
     "start_time": "2023-07-29T11:00:08.617010",
     "status": "completed"
    },
    "tags": []
   },
   "outputs": [
    {
     "data": {
      "text/html": [
       "<div>\n",
       "<style scoped>\n",
       "    .dataframe tbody tr th:only-of-type {\n",
       "        vertical-align: middle;\n",
       "    }\n",
       "\n",
       "    .dataframe tbody tr th {\n",
       "        vertical-align: top;\n",
       "    }\n",
       "\n",
       "    .dataframe thead th {\n",
       "        text-align: right;\n",
       "    }\n",
       "</style>\n",
       "<table border=\"1\" class=\"dataframe\">\n",
       "  <thead>\n",
       "    <tr style=\"text-align: right;\">\n",
       "      <th></th>\n",
       "      <th>audienceScore</th>\n",
       "      <th>runtimeMinutes</th>\n",
       "    </tr>\n",
       "  </thead>\n",
       "  <tbody>\n",
       "    <tr>\n",
       "      <th>count</th>\n",
       "      <td>73248.000000</td>\n",
       "      <td>129431.000000</td>\n",
       "    </tr>\n",
       "    <tr>\n",
       "      <th>mean</th>\n",
       "      <td>55.674967</td>\n",
       "      <td>93.708578</td>\n",
       "    </tr>\n",
       "    <tr>\n",
       "      <th>std</th>\n",
       "      <td>24.553648</td>\n",
       "      <td>28.129175</td>\n",
       "    </tr>\n",
       "    <tr>\n",
       "      <th>min</th>\n",
       "      <td>0.000000</td>\n",
       "      <td>1.000000</td>\n",
       "    </tr>\n",
       "    <tr>\n",
       "      <th>25%</th>\n",
       "      <td>37.000000</td>\n",
       "      <td>84.000000</td>\n",
       "    </tr>\n",
       "    <tr>\n",
       "      <th>50%</th>\n",
       "      <td>57.000000</td>\n",
       "      <td>92.000000</td>\n",
       "    </tr>\n",
       "    <tr>\n",
       "      <th>75%</th>\n",
       "      <td>76.000000</td>\n",
       "      <td>103.000000</td>\n",
       "    </tr>\n",
       "    <tr>\n",
       "      <th>max</th>\n",
       "      <td>100.000000</td>\n",
       "      <td>2700.000000</td>\n",
       "    </tr>\n",
       "  </tbody>\n",
       "</table>\n",
       "</div>"
      ],
      "text/plain": [
       "       audienceScore  runtimeMinutes\n",
       "count   73248.000000   129431.000000\n",
       "mean       55.674967       93.708578\n",
       "std        24.553648       28.129175\n",
       "min         0.000000        1.000000\n",
       "25%        37.000000       84.000000\n",
       "50%        57.000000       92.000000\n",
       "75%        76.000000      103.000000\n",
       "max       100.000000     2700.000000"
      ]
     },
     "execution_count": 24,
     "metadata": {},
     "output_type": "execute_result"
    }
   ],
   "source": [
    "movies.describe()"
   ]
  },
  {
   "cell_type": "markdown",
   "id": "0dc848e1",
   "metadata": {
    "papermill": {
     "duration": 0.032309,
     "end_time": "2023-07-29T11:00:08.747601",
     "exception": false,
     "start_time": "2023-07-29T11:00:08.715292",
     "status": "completed"
    },
    "tags": []
   },
   "source": [
    "****The mean of audienceScore is 55.86 and that of runtimeMinutes is 93.57. ****"
   ]
  },
  {
   "cell_type": "markdown",
   "id": "86f8f800",
   "metadata": {
    "papermill": {
     "duration": 0.029788,
     "end_time": "2023-07-29T11:00:08.809176",
     "exception": false,
     "start_time": "2023-07-29T11:00:08.779388",
     "status": "completed"
    },
    "tags": []
   },
   "source": [
    "3.7 Visualizing the variables"
   ]
  },
  {
   "cell_type": "code",
   "execution_count": 25,
   "id": "714ec97a",
   "metadata": {
    "execution": {
     "iopub.execute_input": "2023-07-29T11:00:08.871667Z",
     "iopub.status.busy": "2023-07-29T11:00:08.871100Z",
     "iopub.status.idle": "2023-07-29T11:00:09.115619Z",
     "shell.execute_reply": "2023-07-29T11:00:09.114458Z"
    },
    "papermill": {
     "duration": 0.27849,
     "end_time": "2023-07-29T11:00:09.118045",
     "exception": false,
     "start_time": "2023-07-29T11:00:08.839555",
     "status": "completed"
    },
    "tags": []
   },
   "outputs": [
    {
     "data": {
      "text/plain": [
       "<function matplotlib.pyplot.show(close=None, block=None)>"
      ]
     },
     "execution_count": 25,
     "metadata": {},
     "output_type": "execute_result"
    },
    {
     "data": {
      "image/png": "[encoded data removed]",
      "text/plain": [
       "<Figure size 640x480 with 1 Axes>"
      ]
     },
     "metadata": {},
     "output_type": "display_data"
    }
   ],
   "source": [
    "plt.hist(movies['audienceScore'])\n",
    "plt.show"
   ]
  },
  {
   "cell_type": "markdown",
   "id": "008a7012",
   "metadata": {
    "papermill": {
     "duration": 0.030286,
     "end_time": "2023-07-29T11:00:09.179321",
     "exception": false,
     "start_time": "2023-07-29T11:00:09.149035",
     "status": "completed"
    },
    "tags": []
   },
   "source": [
    "**It is right skewed.**"
   ]
  },
  {
   "cell_type": "code",
   "execution_count": 26,
   "id": "fcde54d9",
   "metadata": {
    "execution": {
     "iopub.execute_input": "2023-07-29T11:00:09.242642Z",
     "iopub.status.busy": "2023-07-29T11:00:09.241938Z",
     "iopub.status.idle": "2023-07-29T11:00:09.525162Z",
     "shell.execute_reply": "2023-07-29T11:00:09.524064Z"
    },
    "papermill": {
     "duration": 0.317547,
     "end_time": "2023-07-29T11:00:09.527382",
     "exception": false,
     "start_time": "2023-07-29T11:00:09.209835",
     "status": "completed"
    },
    "tags": []
   },
   "outputs": [
    {
     "data": {
      "text/html": [
       "<div>\n",
       "<style scoped>\n",
       "    .dataframe tbody tr th:only-of-type {\n",
       "        vertical-align: middle;\n",
       "    }\n",
       "\n",
       "    .dataframe tbody tr th {\n",
       "        vertical-align: top;\n",
       "    }\n",
       "\n",
       "    .dataframe thead th {\n",
       "        text-align: right;\n",
       "    }\n",
       "</style>\n",
       "<table border=\"1\" class=\"dataframe\">\n",
       "  <thead>\n",
       "    <tr style=\"text-align: right;\">\n",
       "      <th></th>\n",
       "      <th>movieid</th>\n",
       "      <th>title</th>\n",
       "      <th>audienceScore</th>\n",
       "      <th>rating</th>\n",
       "      <th>ratingContents</th>\n",
       "      <th>releaseDateTheaters</th>\n",
       "      <th>releaseDateStreaming</th>\n",
       "      <th>runtimeMinutes</th>\n",
       "      <th>genre</th>\n",
       "      <th>originalLanguage</th>\n",
       "      <th>director</th>\n",
       "      <th>boxOffice</th>\n",
       "      <th>distributor</th>\n",
       "      <th>soundType</th>\n",
       "    </tr>\n",
       "  </thead>\n",
       "  <tbody>\n",
       "    <tr>\n",
       "      <th>0</th>\n",
       "      <td>han_solo_heroic_myth_wonder_woman</td>\n",
       "      <td>Han Solo Heroic Myth Wonder Woman</td>\n",
       "      <td>50.0</td>\n",
       "      <td>0</td>\n",
       "      <td>0</td>\n",
       "      <td>0</td>\n",
       "      <td>2018-08-25</td>\n",
       "      <td>75.0</td>\n",
       "      <td>Comedy, Horror, Sci-fi</td>\n",
       "      <td>English</td>\n",
       "      <td>Claude Nicolet</td>\n",
       "      <td>0</td>\n",
       "      <td>0</td>\n",
       "      <td>0</td>\n",
       "    </tr>\n",
       "    <tr>\n",
       "      <th>1</th>\n",
       "      <td>voyage_tyler_durden_han_solo_stardust</td>\n",
       "      <td>Voyage Tyler Durden Han Solo Stardust</td>\n",
       "      <td>0.0</td>\n",
       "      <td>0</td>\n",
       "      <td>0</td>\n",
       "      <td>0</td>\n",
       "      <td>2020-02-11</td>\n",
       "      <td>114.0</td>\n",
       "      <td>Drama</td>\n",
       "      <td>English</td>\n",
       "      <td>Nathan Haack</td>\n",
       "      <td>0</td>\n",
       "      <td>0</td>\n",
       "      <td>0</td>\n",
       "    </tr>\n",
       "    <tr>\n",
       "      <th>2</th>\n",
       "      <td>norman_bates_ferris_bueller_hermione_granger_v...</td>\n",
       "      <td>Norman Bates Ferris Bueller Hermione Granger V...</td>\n",
       "      <td>43.0</td>\n",
       "      <td>0</td>\n",
       "      <td>0</td>\n",
       "      <td>0</td>\n",
       "      <td>0</td>\n",
       "      <td>120.0</td>\n",
       "      <td>Drama</td>\n",
       "      <td>Korean</td>\n",
       "      <td>Theresa Smith</td>\n",
       "      <td>0</td>\n",
       "      <td>0</td>\n",
       "      <td>0</td>\n",
       "    </tr>\n",
       "    <tr>\n",
       "      <th>3</th>\n",
       "      <td>elegant_hermione_granger</td>\n",
       "      <td>Elegant Hermione Granger</td>\n",
       "      <td>60.0</td>\n",
       "      <td>0</td>\n",
       "      <td>0</td>\n",
       "      <td>0</td>\n",
       "      <td>2020-10-23</td>\n",
       "      <td>90.0</td>\n",
       "      <td>Action, Mystery &amp; thriller</td>\n",
       "      <td>English</td>\n",
       "      <td>Donald Lewis</td>\n",
       "      <td>0</td>\n",
       "      <td>0</td>\n",
       "      <td>0</td>\n",
       "    </tr>\n",
       "    <tr>\n",
       "      <th>4</th>\n",
       "      <td>adventure_rocky_balboa</td>\n",
       "      <td>Adventure Rocky Balboa</td>\n",
       "      <td>70.0</td>\n",
       "      <td>0</td>\n",
       "      <td>0</td>\n",
       "      <td>0</td>\n",
       "      <td>2017-03-27</td>\n",
       "      <td>80.0</td>\n",
       "      <td>Fantasy, Adventure, Animation</td>\n",
       "      <td>English</td>\n",
       "      <td>Howard Simms</td>\n",
       "      <td>0</td>\n",
       "      <td>0</td>\n",
       "      <td>0</td>\n",
       "    </tr>\n",
       "  </tbody>\n",
       "</table>\n",
       "</div>"
      ],
      "text/plain": [
       "                                             movieid  \\\n",
       "0                  han_solo_heroic_myth_wonder_woman   \n",
       "1              voyage_tyler_durden_han_solo_stardust   \n",
       "2  norman_bates_ferris_bueller_hermione_granger_v...   \n",
       "3                           elegant_hermione_granger   \n",
       "4                             adventure_rocky_balboa   \n",
       "\n",
       "                                               title  audienceScore rating  \\\n",
       "0                  Han Solo Heroic Myth Wonder Woman           50.0      0   \n",
       "1              Voyage Tyler Durden Han Solo Stardust            0.0      0   \n",
       "2  Norman Bates Ferris Bueller Hermione Granger V...           43.0      0   \n",
       "3                           Elegant Hermione Granger           60.0      0   \n",
       "4                             Adventure Rocky Balboa           70.0      0   \n",
       "\n",
       "  ratingContents releaseDateTheaters releaseDateStreaming  runtimeMinutes  \\\n",
       "0              0                   0           2018-08-25            75.0   \n",
       "1              0                   0           2020-02-11           114.0   \n",
       "2              0                   0                    0           120.0   \n",
       "3              0                   0           2020-10-23            90.0   \n",
       "4              0                   0           2017-03-27            80.0   \n",
       "\n",
       "                           genre originalLanguage        director boxOffice  \\\n",
       "0         Comedy, Horror, Sci-fi          English  Claude Nicolet         0   \n",
       "1                          Drama          English    Nathan Haack         0   \n",
       "2                          Drama           Korean   Theresa Smith         0   \n",
       "3     Action, Mystery & thriller          English    Donald Lewis         0   \n",
       "4  Fantasy, Adventure, Animation          English    Howard Simms         0   \n",
       "\n",
       "  distributor soundType  \n",
       "0           0         0  \n",
       "1           0         0  \n",
       "2           0         0  \n",
       "3           0         0  \n",
       "4           0         0  "
      ]
     },
     "execution_count": 26,
     "metadata": {},
     "output_type": "execute_result"
    }
   ],
   "source": [
    "movies_dfg=movies.fillna(0)\n",
    "movies_dfg.head()"
   ]
  },
  {
   "cell_type": "code",
   "execution_count": 27,
   "id": "bcbb419c",
   "metadata": {
    "execution": {
     "iopub.execute_input": "2023-07-29T11:00:09.591025Z",
     "iopub.status.busy": "2023-07-29T11:00:09.590642Z",
     "iopub.status.idle": "2023-07-29T11:00:09.662279Z",
     "shell.execute_reply": "2023-07-29T11:00:09.661498Z"
    },
    "papermill": {
     "duration": 0.105946,
     "end_time": "2023-07-29T11:00:09.664427",
     "exception": false,
     "start_time": "2023-07-29T11:00:09.558481",
     "status": "completed"
    },
    "tags": []
   },
   "outputs": [
    {
     "data": {
      "text/html": [
       "<div>\n",
       "<style scoped>\n",
       "    .dataframe tbody tr th:only-of-type {\n",
       "        vertical-align: middle;\n",
       "    }\n",
       "\n",
       "    .dataframe tbody tr th {\n",
       "        vertical-align: top;\n",
       "    }\n",
       "\n",
       "    .dataframe thead th {\n",
       "        text-align: right;\n",
       "    }\n",
       "</style>\n",
       "<table border=\"1\" class=\"dataframe\">\n",
       "  <thead>\n",
       "    <tr style=\"text-align: right;\">\n",
       "      <th></th>\n",
       "      <th>title</th>\n",
       "      <th>runtimeMinutes</th>\n",
       "    </tr>\n",
       "  </thead>\n",
       "  <tbody>\n",
       "    <tr>\n",
       "      <th>70385</th>\n",
       "      <td>Forrest Gump Captain Jack Sparrow Mythical</td>\n",
       "      <td>2700.0</td>\n",
       "    </tr>\n",
       "    <tr>\n",
       "      <th>136482</th>\n",
       "      <td>Kingdom Gandalf</td>\n",
       "      <td>1013.0</td>\n",
       "    </tr>\n",
       "    <tr>\n",
       "      <th>82899</th>\n",
       "      <td>Enchanted Voyage Gollum</td>\n",
       "      <td>940.0</td>\n",
       "    </tr>\n",
       "    <tr>\n",
       "      <th>130378</th>\n",
       "      <td>Majestic Harmony Whispering Enthralling</td>\n",
       "      <td>763.0</td>\n",
       "    </tr>\n",
       "    <tr>\n",
       "      <th>103264</th>\n",
       "      <td>Hulk Legend Enigma Myriad</td>\n",
       "      <td>632.0</td>\n",
       "    </tr>\n",
       "    <tr>\n",
       "      <th>123966</th>\n",
       "      <td>Galaxy Ferris Bueller Neo</td>\n",
       "      <td>593.0</td>\n",
       "    </tr>\n",
       "    <tr>\n",
       "      <th>100803</th>\n",
       "      <td>Wolverine Tony Montana</td>\n",
       "      <td>584.0</td>\n",
       "    </tr>\n",
       "    <tr>\n",
       "      <th>104605</th>\n",
       "      <td>Labyrinth Jon Snow Sherlock Holmes</td>\n",
       "      <td>561.0</td>\n",
       "    </tr>\n",
       "    <tr>\n",
       "      <th>119057</th>\n",
       "      <td>Hermione Granger Crown Michael Corleone</td>\n",
       "      <td>540.0</td>\n",
       "    </tr>\n",
       "    <tr>\n",
       "      <th>123535</th>\n",
       "      <td>The Bride Gandalf Norman Bates</td>\n",
       "      <td>540.0</td>\n",
       "    </tr>\n",
       "  </tbody>\n",
       "</table>\n",
       "</div>"
      ],
      "text/plain": [
       "                                             title  runtimeMinutes\n",
       "70385   Forrest Gump Captain Jack Sparrow Mythical          2700.0\n",
       "136482                             Kingdom Gandalf          1013.0\n",
       "82899                      Enchanted Voyage Gollum           940.0\n",
       "130378     Majestic Harmony Whispering Enthralling           763.0\n",
       "103264                   Hulk Legend Enigma Myriad           632.0\n",
       "123966                   Galaxy Ferris Bueller Neo           593.0\n",
       "100803                      Wolverine Tony Montana           584.0\n",
       "104605          Labyrinth Jon Snow Sherlock Holmes           561.0\n",
       "119057     Hermione Granger Crown Michael Corleone           540.0\n",
       "123535              The Bride Gandalf Norman Bates           540.0"
      ]
     },
     "execution_count": 27,
     "metadata": {},
     "output_type": "execute_result"
    }
   ],
   "source": [
    "mov=movies_dfg.nlargest(10,'runtimeMinutes')[['title','runtimeMinutes']]\n",
    "mov"
   ]
  },
  {
   "cell_type": "code",
   "execution_count": 28,
   "id": "35aca512",
   "metadata": {
    "execution": {
     "iopub.execute_input": "2023-07-29T11:00:09.729498Z",
     "iopub.status.busy": "2023-07-29T11:00:09.727918Z",
     "iopub.status.idle": "2023-07-29T11:00:10.047040Z",
     "shell.execute_reply": "2023-07-29T11:00:10.046168Z"
    },
    "papermill": {
     "duration": 0.353898,
     "end_time": "2023-07-29T11:00:10.049417",
     "exception": false,
     "start_time": "2023-07-29T11:00:09.695519",
     "status": "completed"
    },
    "tags": []
   },
   "outputs": [
    {
     "data": {
      "text/plain": [
       "<Axes: xlabel='runtimeMinutes', ylabel='title'>"
      ]
     },
     "execution_count": 28,
     "metadata": {},
     "output_type": "execute_result"
    },
    {
     "data": {
      "image/png": "[encoded data removed]",
      "text/plain": [
       "<Figure size 640x480 with 1 Axes>"
      ]
     },
     "metadata": {},
     "output_type": "display_data"
    }
   ],
   "source": [
    "sns.barplot(x='runtimeMinutes',y='title',data=mov)"
   ]
  },
  {
   "cell_type": "markdown",
   "id": "955cf639",
   "metadata": {
    "papermill": {
     "duration": 0.031832,
     "end_time": "2023-07-29T11:00:10.113416",
     "exception": false,
     "start_time": "2023-07-29T11:00:10.081584",
     "status": "completed"
    },
    "tags": []
   },
   "source": [
    "3.7 To check for any duplicate values:"
   ]
  },
  {
   "cell_type": "code",
   "execution_count": 29,
   "id": "aa084a45",
   "metadata": {
    "execution": {
     "iopub.execute_input": "2023-07-29T11:00:10.179936Z",
     "iopub.status.busy": "2023-07-29T11:00:10.178975Z",
     "iopub.status.idle": "2023-07-29T11:00:10.409118Z",
     "shell.execute_reply": "2023-07-29T11:00:10.407940Z"
    },
    "papermill": {
     "duration": 0.266533,
     "end_time": "2023-07-29T11:00:10.411613",
     "exception": false,
     "start_time": "2023-07-29T11:00:10.145080",
     "status": "completed"
    },
    "tags": []
   },
   "outputs": [
    {
     "data": {
      "text/plain": [
       "1571"
      ]
     },
     "execution_count": 29,
     "metadata": {},
     "output_type": "execute_result"
    }
   ],
   "source": [
    "movies.duplicated().sum()"
   ]
  },
  {
   "cell_type": "markdown",
   "id": "2d85c13a",
   "metadata": {
    "papermill": {
     "duration": 0.031671,
     "end_time": "2023-07-29T11:00:10.475632",
     "exception": false,
     "start_time": "2023-07-29T11:00:10.443961",
     "status": "completed"
    },
    "tags": []
   },
   "source": [
    "So, there are 1571 duplicate values"
   ]
  },
  {
   "cell_type": "code",
   "execution_count": 30,
   "id": "ba67557c",
   "metadata": {
    "execution": {
     "iopub.execute_input": "2023-07-29T11:00:10.542077Z",
     "iopub.status.busy": "2023-07-29T11:00:10.541673Z",
     "iopub.status.idle": "2023-07-29T11:00:10.795731Z",
     "shell.execute_reply": "2023-07-29T11:00:10.794456Z"
    },
    "papermill": {
     "duration": 0.29054,
     "end_time": "2023-07-29T11:00:10.799004",
     "exception": false,
     "start_time": "2023-07-29T11:00:10.508464",
     "status": "completed"
    },
    "tags": []
   },
   "outputs": [
    {
     "data": {
      "text/html": [
       "<div>\n",
       "<style scoped>\n",
       "    .dataframe tbody tr th:only-of-type {\n",
       "        vertical-align: middle;\n",
       "    }\n",
       "\n",
       "    .dataframe tbody tr th {\n",
       "        vertical-align: top;\n",
       "    }\n",
       "\n",
       "    .dataframe thead th {\n",
       "        text-align: right;\n",
       "    }\n",
       "</style>\n",
       "<table border=\"1\" class=\"dataframe\">\n",
       "  <thead>\n",
       "    <tr style=\"text-align: right;\">\n",
       "      <th></th>\n",
       "      <th>movieid</th>\n",
       "      <th>title</th>\n",
       "      <th>audienceScore</th>\n",
       "      <th>rating</th>\n",
       "      <th>ratingContents</th>\n",
       "      <th>releaseDateTheaters</th>\n",
       "      <th>releaseDateStreaming</th>\n",
       "      <th>runtimeMinutes</th>\n",
       "      <th>genre</th>\n",
       "      <th>originalLanguage</th>\n",
       "      <th>director</th>\n",
       "      <th>boxOffice</th>\n",
       "      <th>distributor</th>\n",
       "      <th>soundType</th>\n",
       "    </tr>\n",
       "  </thead>\n",
       "  <tbody>\n",
       "    <tr>\n",
       "      <th>1126</th>\n",
       "      <td>escape_the_terminator_tyler_durden_astonish</td>\n",
       "      <td>Escape The Terminator Tyler Durden Astonish</td>\n",
       "      <td>NaN</td>\n",
       "      <td>NaN</td>\n",
       "      <td>NaN</td>\n",
       "      <td>NaN</td>\n",
       "      <td>NaN</td>\n",
       "      <td>NaN</td>\n",
       "      <td>NaN</td>\n",
       "      <td>NaN</td>\n",
       "      <td>Joseph Brooks</td>\n",
       "      <td>NaN</td>\n",
       "      <td>NaN</td>\n",
       "      <td>NaN</td>\n",
       "    </tr>\n",
       "    <tr>\n",
       "      <th>3772</th>\n",
       "      <td>supreme_indiana_jones</td>\n",
       "      <td>Supreme Indiana Jones</td>\n",
       "      <td>NaN</td>\n",
       "      <td>NaN</td>\n",
       "      <td>NaN</td>\n",
       "      <td>NaN</td>\n",
       "      <td>NaN</td>\n",
       "      <td>NaN</td>\n",
       "      <td>NaN</td>\n",
       "      <td>NaN</td>\n",
       "      <td>Augusta Daniel</td>\n",
       "      <td>NaN</td>\n",
       "      <td>NaN</td>\n",
       "      <td>NaN</td>\n",
       "    </tr>\n",
       "    <tr>\n",
       "      <th>5048</th>\n",
       "      <td>escape_the_terminator_tyler_durden_astonish</td>\n",
       "      <td>Escape The Terminator Tyler Durden Astonish</td>\n",
       "      <td>NaN</td>\n",
       "      <td>NaN</td>\n",
       "      <td>NaN</td>\n",
       "      <td>NaN</td>\n",
       "      <td>NaN</td>\n",
       "      <td>NaN</td>\n",
       "      <td>NaN</td>\n",
       "      <td>NaN</td>\n",
       "      <td>Joseph Brooks</td>\n",
       "      <td>NaN</td>\n",
       "      <td>NaN</td>\n",
       "      <td>NaN</td>\n",
       "    </tr>\n",
       "  </tbody>\n",
       "</table>\n",
       "</div>"
      ],
      "text/plain": [
       "                                          movieid  \\\n",
       "1126  escape_the_terminator_tyler_durden_astonish   \n",
       "3772                        supreme_indiana_jones   \n",
       "5048  escape_the_terminator_tyler_durden_astonish   \n",
       "\n",
       "                                            title  audienceScore rating  \\\n",
       "1126  Escape The Terminator Tyler Durden Astonish            NaN    NaN   \n",
       "3772                        Supreme Indiana Jones            NaN    NaN   \n",
       "5048  Escape The Terminator Tyler Durden Astonish            NaN    NaN   \n",
       "\n",
       "     ratingContents releaseDateTheaters releaseDateStreaming  runtimeMinutes  \\\n",
       "1126            NaN                 NaN                  NaN             NaN   \n",
       "3772            NaN                 NaN                  NaN             NaN   \n",
       "5048            NaN                 NaN                  NaN             NaN   \n",
       "\n",
       "     genre originalLanguage        director boxOffice distributor soundType  \n",
       "1126   NaN              NaN   Joseph Brooks       NaN         NaN       NaN  \n",
       "3772   NaN              NaN  Augusta Daniel       NaN         NaN       NaN  \n",
       "5048   NaN              NaN   Joseph Brooks       NaN         NaN       NaN  "
      ]
     },
     "execution_count": 30,
     "metadata": {},
     "output_type": "execute_result"
    }
   ],
   "source": [
    "nmovies= movies.loc[movies.duplicated(keep='first'),:]\n",
    "nmovies.head(3)"
   ]
  },
  {
   "cell_type": "markdown",
   "id": "84004bfa",
   "metadata": {
    "papermill": {
     "duration": 0.032286,
     "end_time": "2023-07-29T11:00:10.865339",
     "exception": false,
     "start_time": "2023-07-29T11:00:10.833053",
     "status": "completed"
    },
    "tags": []
   },
   "source": [
    "3.8 To Remove the duplicates:"
   ]
  },
  {
   "cell_type": "code",
   "execution_count": 31,
   "id": "74ff5e7d",
   "metadata": {
    "execution": {
     "iopub.execute_input": "2023-07-29T11:00:10.932246Z",
     "iopub.status.busy": "2023-07-29T11:00:10.931791Z",
     "iopub.status.idle": "2023-07-29T11:00:10.981941Z",
     "shell.execute_reply": "2023-07-29T11:00:10.980931Z"
    },
    "papermill": {
     "duration": 0.086753,
     "end_time": "2023-07-29T11:00:10.984344",
     "exception": false,
     "start_time": "2023-07-29T11:00:10.897591",
     "status": "completed"
    },
    "tags": []
   },
   "outputs": [
    {
     "data": {
      "text/plain": [
       "(126404, 14)"
      ]
     },
     "execution_count": 31,
     "metadata": {},
     "output_type": "execute_result"
    }
   ],
   "source": [
    "movies=movies.drop_duplicates(subset='movieid')\n",
    "movies.shape"
   ]
  },
  {
   "cell_type": "code",
   "execution_count": 32,
   "id": "14b8847a",
   "metadata": {
    "execution": {
     "iopub.execute_input": "2023-07-29T11:00:11.051842Z",
     "iopub.status.busy": "2023-07-29T11:00:11.051061Z",
     "iopub.status.idle": "2023-07-29T11:00:11.057109Z",
     "shell.execute_reply": "2023-07-29T11:00:11.055941Z"
    },
    "papermill": {
     "duration": 0.042473,
     "end_time": "2023-07-29T11:00:11.059639",
     "exception": false,
     "start_time": "2023-07-29T11:00:11.017166",
     "status": "completed"
    },
    "tags": []
   },
   "outputs": [
    {
     "name": "stdout",
     "output_type": "stream",
     "text": [
      "No. of rows: 126404\n",
      "No. of columns: 14\n"
     ]
    }
   ],
   "source": [
    "print(\"No. of rows:\", movies.shape[0])\n",
    "print(\"No. of columns:\", movies.shape[1])"
   ]
  },
  {
   "cell_type": "markdown",
   "id": "1f395c51",
   "metadata": {
    "papermill": {
     "duration": 0.031941,
     "end_time": "2023-07-29T11:00:11.123791",
     "exception": false,
     "start_time": "2023-07-29T11:00:11.091850",
     "status": "completed"
    },
    "tags": []
   },
   "source": [
    "Therefore, after removing the duplicates the final shape of train dataset is 126404 rows and 14 columns"
   ]
  },
  {
   "cell_type": "markdown",
   "id": "a2f9f797",
   "metadata": {
    "papermill": {
     "duration": 0.031998,
     "end_time": "2023-07-29T11:00:11.187984",
     "exception": false,
     "start_time": "2023-07-29T11:00:11.155986",
     "status": "completed"
    },
    "tags": []
   },
   "source": [
    "3.8  Similarly performing Exploratory Analysis on test dataset"
   ]
  },
  {
   "cell_type": "code",
   "execution_count": 33,
   "id": "ea32891e",
   "metadata": {
    "execution": {
     "iopub.execute_input": "2023-07-29T11:00:11.254580Z",
     "iopub.status.busy": "2023-07-29T11:00:11.254169Z",
     "iopub.status.idle": "2023-07-29T11:00:11.261287Z",
     "shell.execute_reply": "2023-07-29T11:00:11.260191Z"
    },
    "papermill": {
     "duration": 0.043319,
     "end_time": "2023-07-29T11:00:11.263710",
     "exception": false,
     "start_time": "2023-07-29T11:00:11.220391",
     "status": "completed"
    },
    "tags": []
   },
   "outputs": [
    {
     "data": {
      "text/plain": [
       "(55315, 4)"
      ]
     },
     "execution_count": 33,
     "metadata": {},
     "output_type": "execute_result"
    }
   ],
   "source": [
    "test.shape"
   ]
  },
  {
   "cell_type": "code",
   "execution_count": 34,
   "id": "765f53d7",
   "metadata": {
    "execution": {
     "iopub.execute_input": "2023-07-29T11:00:11.333730Z",
     "iopub.status.busy": "2023-07-29T11:00:11.333346Z",
     "iopub.status.idle": "2023-07-29T11:00:11.339622Z",
     "shell.execute_reply": "2023-07-29T11:00:11.338188Z"
    },
    "papermill": {
     "duration": 0.043628,
     "end_time": "2023-07-29T11:00:11.341872",
     "exception": false,
     "start_time": "2023-07-29T11:00:11.298244",
     "status": "completed"
    },
    "tags": []
   },
   "outputs": [
    {
     "name": "stdout",
     "output_type": "stream",
     "text": [
      "No. of rows: 55315\n",
      "No. of columns: 4\n"
     ]
    }
   ],
   "source": [
    "print(\"No. of rows:\", test.shape[0])\n",
    "print(\"No. of columns:\", test.shape[1])"
   ]
  },
  {
   "cell_type": "code",
   "execution_count": 35,
   "id": "212e9eb9",
   "metadata": {
    "execution": {
     "iopub.execute_input": "2023-07-29T11:00:11.410738Z",
     "iopub.status.busy": "2023-07-29T11:00:11.409959Z",
     "iopub.status.idle": "2023-07-29T11:00:11.450243Z",
     "shell.execute_reply": "2023-07-29T11:00:11.448769Z"
    },
    "papermill": {
     "duration": 0.076696,
     "end_time": "2023-07-29T11:00:11.452557",
     "exception": false,
     "start_time": "2023-07-29T11:00:11.375861",
     "status": "completed"
    },
    "tags": []
   },
   "outputs": [
    {
     "name": "stdout",
     "output_type": "stream",
     "text": [
      "<class 'pandas.core.frame.DataFrame'>\n",
      "RangeIndex: 55315 entries, 0 to 55314\n",
      "Data columns (total 4 columns):\n",
      " #   Column        Non-Null Count  Dtype \n",
      "---  ------        --------------  ----- \n",
      " 0   movieid       55315 non-null  object\n",
      " 1   reviewerName  55315 non-null  object\n",
      " 2   isTopCritic   55315 non-null  bool  \n",
      " 3   reviewText    52805 non-null  object\n",
      "dtypes: bool(1), object(3)\n",
      "memory usage: 1.3+ MB\n"
     ]
    }
   ],
   "source": [
    "test.info()"
   ]
  },
  {
   "cell_type": "markdown",
   "id": "bebe2a34",
   "metadata": {
    "papermill": {
     "duration": 0.032463,
     "end_time": "2023-07-29T11:00:11.517942",
     "exception": false,
     "start_time": "2023-07-29T11:00:11.485479",
     "status": "completed"
    },
    "tags": []
   },
   "source": [
    "There are total 4 columns, all are of string type except isTopCritic is of boolean type"
   ]
  },
  {
   "cell_type": "code",
   "execution_count": 36,
   "id": "4d0f5124",
   "metadata": {
    "execution": {
     "iopub.execute_input": "2023-07-29T11:00:11.585352Z",
     "iopub.status.busy": "2023-07-29T11:00:11.584959Z",
     "iopub.status.idle": "2023-07-29T11:00:11.668142Z",
     "shell.execute_reply": "2023-07-29T11:00:11.667168Z"
    },
    "papermill": {
     "duration": 0.119505,
     "end_time": "2023-07-29T11:00:11.670318",
     "exception": false,
     "start_time": "2023-07-29T11:00:11.550813",
     "status": "completed"
    },
    "tags": []
   },
   "outputs": [
    {
     "data": {
      "text/html": [
       "<div>\n",
       "<style scoped>\n",
       "    .dataframe tbody tr th:only-of-type {\n",
       "        vertical-align: middle;\n",
       "    }\n",
       "\n",
       "    .dataframe tbody tr th {\n",
       "        vertical-align: top;\n",
       "    }\n",
       "\n",
       "    .dataframe thead th {\n",
       "        text-align: right;\n",
       "    }\n",
       "</style>\n",
       "<table border=\"1\" class=\"dataframe\">\n",
       "  <thead>\n",
       "    <tr style=\"text-align: right;\">\n",
       "      <th></th>\n",
       "      <th>movieid</th>\n",
       "      <th>reviewerName</th>\n",
       "      <th>isTopCritic</th>\n",
       "      <th>reviewText</th>\n",
       "    </tr>\n",
       "  </thead>\n",
       "  <tbody>\n",
       "    <tr>\n",
       "      <th>count</th>\n",
       "      <td>55315</td>\n",
       "      <td>55315</td>\n",
       "      <td>55315</td>\n",
       "      <td>52805</td>\n",
       "    </tr>\n",
       "    <tr>\n",
       "      <th>unique</th>\n",
       "      <td>16786</td>\n",
       "      <td>4495</td>\n",
       "      <td>2</td>\n",
       "      <td>52686</td>\n",
       "    </tr>\n",
       "    <tr>\n",
       "      <th>top</th>\n",
       "      <td>escape_the_terminator_tyler_durden_astonish</td>\n",
       "      <td>Sherri Morrison</td>\n",
       "      <td>False</td>\n",
       "      <td>Parental Content Review</td>\n",
       "    </tr>\n",
       "    <tr>\n",
       "      <th>freq</th>\n",
       "      <td>230</td>\n",
       "      <td>428</td>\n",
       "      <td>38428</td>\n",
       "      <td>12</td>\n",
       "    </tr>\n",
       "  </tbody>\n",
       "</table>\n",
       "</div>"
      ],
      "text/plain": [
       "                                            movieid     reviewerName  \\\n",
       "count                                         55315            55315   \n",
       "unique                                        16786             4495   \n",
       "top     escape_the_terminator_tyler_durden_astonish  Sherri Morrison   \n",
       "freq                                            230              428   \n",
       "\n",
       "       isTopCritic               reviewText  \n",
       "count        55315                    52805  \n",
       "unique           2                    52686  \n",
       "top          False  Parental Content Review  \n",
       "freq         38428                       12  "
      ]
     },
     "execution_count": 36,
     "metadata": {},
     "output_type": "execute_result"
    }
   ],
   "source": [
    "test.describe()"
   ]
  },
  {
   "cell_type": "markdown",
   "id": "2b96c0af",
   "metadata": {
    "papermill": {
     "duration": 0.032687,
     "end_time": "2023-07-29T11:00:11.736192",
     "exception": false,
     "start_time": "2023-07-29T11:00:11.703505",
     "status": "completed"
    },
    "tags": []
   },
   "source": [
    "3.6 To check for missing values:"
   ]
  },
  {
   "cell_type": "code",
   "execution_count": 37,
   "id": "7d6a929e",
   "metadata": {
    "execution": {
     "iopub.execute_input": "2023-07-29T11:00:11.806069Z",
     "iopub.status.busy": "2023-07-29T11:00:11.805690Z",
     "iopub.status.idle": "2023-07-29T11:00:11.841722Z",
     "shell.execute_reply": "2023-07-29T11:00:11.840572Z"
    },
    "papermill": {
     "duration": 0.075054,
     "end_time": "2023-07-29T11:00:11.844448",
     "exception": false,
     "start_time": "2023-07-29T11:00:11.769394",
     "status": "completed"
    },
    "tags": []
   },
   "outputs": [
    {
     "data": {
      "text/plain": [
       "movieid            0\n",
       "reviewerName       0\n",
       "isTopCritic        0\n",
       "reviewText      2510\n",
       "dtype: int64"
      ]
     },
     "execution_count": 37,
     "metadata": {},
     "output_type": "execute_result"
    }
   ],
   "source": [
    "test.isnull().sum()"
   ]
  },
  {
   "cell_type": "markdown",
   "id": "3f6e52b3",
   "metadata": {
    "papermill": {
     "duration": 0.032743,
     "end_time": "2023-07-29T11:00:11.911155",
     "exception": false,
     "start_time": "2023-07-29T11:00:11.878412",
     "status": "completed"
    },
    "tags": []
   },
   "source": [
    "**There are 2510 missing values in reviewText**"
   ]
  },
  {
   "cell_type": "markdown",
   "id": "dc1b1172",
   "metadata": {
    "papermill": {
     "duration": 0.033277,
     "end_time": "2023-07-29T11:00:11.977594",
     "exception": false,
     "start_time": "2023-07-29T11:00:11.944317",
     "status": "completed"
    },
    "tags": []
   },
   "source": [
    "**4. PREPROCESSING**"
   ]
  },
  {
   "cell_type": "markdown",
   "id": "a52620a5",
   "metadata": {
    "papermill": {
     "duration": 0.032821,
     "end_time": "2023-07-29T11:00:12.043531",
     "exception": false,
     "start_time": "2023-07-29T11:00:12.010710",
     "status": "completed"
    },
    "tags": []
   },
   "source": [
    "4.1 Using Tfidfvectorizer as it gives less importance to common words and also convert the raw data into matrix form"
   ]
  },
  {
   "cell_type": "code",
   "execution_count": 38,
   "id": "ba0c6510",
   "metadata": {
    "execution": {
     "iopub.execute_input": "2023-07-29T11:00:12.111552Z",
     "iopub.status.busy": "2023-07-29T11:00:12.111135Z",
     "iopub.status.idle": "2023-07-29T11:00:12.119578Z",
     "shell.execute_reply": "2023-07-29T11:00:12.118637Z"
    },
    "papermill": {
     "duration": 0.045531,
     "end_time": "2023-07-29T11:00:12.121987",
     "exception": false,
     "start_time": "2023-07-29T11:00:12.076456",
     "status": "completed"
    },
    "tags": []
   },
   "outputs": [
    {
     "data": {
      "text/plain": [
       "0         Henry Selick’s first movie since 2009’s Corali...\n",
       "1         With a cast that reads like the Vogue Oscar pa...\n",
       "2         Creed II does not give us anything but another...\n",
       "3         I know what you're thinking, but this is no Li...\n",
       "4         Director Fernando Meirelles tells the story wi...\n",
       "                                ...                        \n",
       "162753    A top-notch thriller with genuine surprises an...\n",
       "162754    Some people find Derek Zoolander funny and lik...\n",
       "162755    This fun, gentle comedy focuses mainly on them...\n",
       "162756    The film is rescued by a strong third act, but...\n",
       "162757            A peerless exercise in stimulus response.\n",
       "Name: reviewText, Length: 162758, dtype: object"
      ]
     },
     "execution_count": 38,
     "metadata": {},
     "output_type": "execute_result"
    }
   ],
   "source": [
    "# Prepeocessing is done only on the required columns\n",
    "x= train['reviewText'] \n",
    "y= train['sentiment']\n",
    "x_test=test['reviewText']\n",
    "x"
   ]
  },
  {
   "cell_type": "code",
   "execution_count": 39,
   "id": "821828c3",
   "metadata": {
    "execution": {
     "iopub.execute_input": "2023-07-29T11:00:12.190620Z",
     "iopub.status.busy": "2023-07-29T11:00:12.189814Z",
     "iopub.status.idle": "2023-07-29T11:00:12.296516Z",
     "shell.execute_reply": "2023-07-29T11:00:12.295050Z"
    },
    "papermill": {
     "duration": 0.143598,
     "end_time": "2023-07-29T11:00:12.298941",
     "exception": false,
     "start_time": "2023-07-29T11:00:12.155343",
     "status": "completed"
    },
    "tags": []
   },
   "outputs": [
    {
     "data": {
      "text/plain": [
       "movieid                  0\n",
       "reviewerName             0\n",
       "isFrequentReviewer       0\n",
       "reviewText            6447\n",
       "sentiment                0\n",
       "dtype: int64"
      ]
     },
     "execution_count": 39,
     "metadata": {},
     "output_type": "execute_result"
    }
   ],
   "source": [
    "train.isnull().sum()"
   ]
  },
  {
   "cell_type": "markdown",
   "id": "277958e6",
   "metadata": {
    "papermill": {
     "duration": 0.032872,
     "end_time": "2023-07-29T11:00:12.365928",
     "exception": false,
     "start_time": "2023-07-29T11:00:12.333056",
     "status": "completed"
    },
    "tags": []
   },
   "source": [
    "4.2 Encoding the target variable by LabelEncoder so that when we predict it on the test data there is not discrepency"
   ]
  },
  {
   "cell_type": "code",
   "execution_count": 40,
   "id": "48d473cb",
   "metadata": {
    "execution": {
     "iopub.execute_input": "2023-07-29T11:00:12.435335Z",
     "iopub.status.busy": "2023-07-29T11:00:12.434192Z",
     "iopub.status.idle": "2023-07-29T11:00:12.474804Z",
     "shell.execute_reply": "2023-07-29T11:00:12.473695Z"
    },
    "papermill": {
     "duration": 0.078328,
     "end_time": "2023-07-29T11:00:12.477490",
     "exception": false,
     "start_time": "2023-07-29T11:00:12.399162",
     "status": "completed"
    },
    "tags": []
   },
   "outputs": [],
   "source": [
    "#Encoding the target variable\n",
    "l=LabelEncoder()\n",
    "y = l.fit_transform(y)"
   ]
  },
  {
   "cell_type": "markdown",
   "id": "f95d769b",
   "metadata": {
    "papermill": {
     "duration": 0.032975,
     "end_time": "2023-07-29T11:00:12.543839",
     "exception": false,
     "start_time": "2023-07-29T11:00:12.510864",
     "status": "completed"
    },
    "tags": []
   },
   "source": [
    "4.3 Imputation :  Since, in train dataset, our input variable is reviewText, it has about 4% missing values so, filling it blank will not create any bias"
   ]
  },
  {
   "cell_type": "code",
   "execution_count": 41,
   "id": "3f183e9d",
   "metadata": {
    "execution": {
     "iopub.execute_input": "2023-07-29T11:00:12.612156Z",
     "iopub.status.busy": "2023-07-29T11:00:12.611741Z",
     "iopub.status.idle": "2023-07-29T11:00:12.633687Z",
     "shell.execute_reply": "2023-07-29T11:00:12.632624Z"
    },
    "papermill": {
     "duration": 0.058752,
     "end_time": "2023-07-29T11:00:12.635963",
     "exception": false,
     "start_time": "2023-07-29T11:00:12.577211",
     "status": "completed"
    },
    "tags": []
   },
   "outputs": [],
   "source": [
    "x= x.fillna('')"
   ]
  },
  {
   "cell_type": "code",
   "execution_count": 42,
   "id": "9d002db9",
   "metadata": {
    "execution": {
     "iopub.execute_input": "2023-07-29T11:00:12.704911Z",
     "iopub.status.busy": "2023-07-29T11:00:12.704514Z",
     "iopub.status.idle": "2023-07-29T11:00:16.681781Z",
     "shell.execute_reply": "2023-07-29T11:00:16.680727Z"
    },
    "papermill": {
     "duration": 4.015878,
     "end_time": "2023-07-29T11:00:16.685056",
     "exception": false,
     "start_time": "2023-07-29T11:00:12.669178",
     "status": "completed"
    },
    "tags": []
   },
   "outputs": [],
   "source": [
    "vect = TfidfVectorizer(max_features=15000)\n",
    "x_t=vect.fit_transform(x)"
   ]
  },
  {
   "cell_type": "code",
   "execution_count": 43,
   "id": "44efe28d",
   "metadata": {
    "execution": {
     "iopub.execute_input": "2023-07-29T11:00:16.753520Z",
     "iopub.status.busy": "2023-07-29T11:00:16.753115Z",
     "iopub.status.idle": "2023-07-29T11:00:16.759422Z",
     "shell.execute_reply": "2023-07-29T11:00:16.758294Z"
    },
    "papermill": {
     "duration": 0.043017,
     "end_time": "2023-07-29T11:00:16.761642",
     "exception": false,
     "start_time": "2023-07-29T11:00:16.718625",
     "status": "completed"
    },
    "tags": []
   },
   "outputs": [
    {
     "data": {
      "text/plain": [
       "(162758, 15000)"
      ]
     },
     "execution_count": 43,
     "metadata": {},
     "output_type": "execute_result"
    }
   ],
   "source": [
    "x_t.shape"
   ]
  },
  {
   "cell_type": "markdown",
   "id": "96ddfe3b",
   "metadata": {
    "papermill": {
     "duration": 0.033203,
     "end_time": "2023-07-29T11:00:16.831141",
     "exception": false,
     "start_time": "2023-07-29T11:00:16.797938",
     "status": "completed"
    },
    "tags": []
   },
   "source": [
    "Similarly, for movies data"
   ]
  },
  {
   "cell_type": "markdown",
   "id": "451b081e",
   "metadata": {
    "papermill": {
     "duration": 0.033212,
     "end_time": "2023-07-29T11:00:16.897705",
     "exception": false,
     "start_time": "2023-07-29T11:00:16.864493",
     "status": "completed"
    },
    "tags": []
   },
   "source": [
    "**4.1 Imputation and Feature Scaling**"
   ]
  },
  {
   "cell_type": "code",
   "execution_count": 44,
   "id": "34b03b47",
   "metadata": {
    "execution": {
     "iopub.execute_input": "2023-07-29T11:00:16.966974Z",
     "iopub.status.busy": "2023-07-29T11:00:16.966565Z",
     "iopub.status.idle": "2023-07-29T11:00:16.973650Z",
     "shell.execute_reply": "2023-07-29T11:00:16.972538Z"
    },
    "papermill": {
     "duration": 0.044557,
     "end_time": "2023-07-29T11:00:16.975814",
     "exception": false,
     "start_time": "2023-07-29T11:00:16.931257",
     "status": "completed"
    },
    "tags": []
   },
   "outputs": [
    {
     "data": {
      "text/plain": [
       "['audienceScore', 'runtimeMinutes']"
      ]
     },
     "execution_count": 44,
     "metadata": {},
     "output_type": "execute_result"
    }
   ],
   "source": [
    "# finding the numerical variables\n",
    "num_col=[col for col in movies.columns if movies[col].dtypes!='object']\n",
    "num_col"
   ]
  },
  {
   "cell_type": "code",
   "execution_count": 45,
   "id": "7e77e999",
   "metadata": {
    "execution": {
     "iopub.execute_input": "2023-07-29T11:00:17.047233Z",
     "iopub.status.busy": "2023-07-29T11:00:17.046056Z",
     "iopub.status.idle": "2023-07-29T11:00:17.058014Z",
     "shell.execute_reply": "2023-07-29T11:00:17.057284Z"
    },
    "papermill": {
     "duration": 0.049469,
     "end_time": "2023-07-29T11:00:17.059994",
     "exception": false,
     "start_time": "2023-07-29T11:00:17.010525",
     "status": "completed"
    },
    "tags": []
   },
   "outputs": [
    {
     "data": {
      "text/html": [
       "<div>\n",
       "<style scoped>\n",
       "    .dataframe tbody tr th:only-of-type {\n",
       "        vertical-align: middle;\n",
       "    }\n",
       "\n",
       "    .dataframe tbody tr th {\n",
       "        vertical-align: top;\n",
       "    }\n",
       "\n",
       "    .dataframe thead th {\n",
       "        text-align: right;\n",
       "    }\n",
       "</style>\n",
       "<table border=\"1\" class=\"dataframe\">\n",
       "  <thead>\n",
       "    <tr style=\"text-align: right;\">\n",
       "      <th></th>\n",
       "      <th>audienceScore</th>\n",
       "      <th>runtimeMinutes</th>\n",
       "    </tr>\n",
       "  </thead>\n",
       "  <tbody>\n",
       "    <tr>\n",
       "      <th>0</th>\n",
       "      <td>50.0</td>\n",
       "      <td>75.0</td>\n",
       "    </tr>\n",
       "    <tr>\n",
       "      <th>1</th>\n",
       "      <td>NaN</td>\n",
       "      <td>114.0</td>\n",
       "    </tr>\n",
       "    <tr>\n",
       "      <th>2</th>\n",
       "      <td>43.0</td>\n",
       "      <td>120.0</td>\n",
       "    </tr>\n",
       "  </tbody>\n",
       "</table>\n",
       "</div>"
      ],
      "text/plain": [
       "   audienceScore  runtimeMinutes\n",
       "0           50.0            75.0\n",
       "1            NaN           114.0\n",
       "2           43.0           120.0"
      ]
     },
     "execution_count": 45,
     "metadata": {},
     "output_type": "execute_result"
    }
   ],
   "source": [
    "x1= movies[num_col]\n",
    "x1.head(3)"
   ]
  },
  {
   "cell_type": "code",
   "execution_count": 46,
   "id": "d7a2194c",
   "metadata": {
    "execution": {
     "iopub.execute_input": "2023-07-29T11:00:17.129717Z",
     "iopub.status.busy": "2023-07-29T11:00:17.129325Z",
     "iopub.status.idle": "2023-07-29T11:00:17.148512Z",
     "shell.execute_reply": "2023-07-29T11:00:17.147389Z"
    },
    "papermill": {
     "duration": 0.056927,
     "end_time": "2023-07-29T11:00:17.150615",
     "exception": false,
     "start_time": "2023-07-29T11:00:17.093688",
     "status": "completed"
    },
    "tags": []
   },
   "outputs": [
    {
     "data": {
      "text/plain": [
       "(101123, 2)"
      ]
     },
     "execution_count": 46,
     "metadata": {},
     "output_type": "execute_result"
    }
   ],
   "source": [
    "#Splitting the dataset \n",
    "xm_train, xm_val, ym_train, ym_val = train_test_split(x1, movies['audienceScore'],\n",
    "                                                    test_size=.2,\n",
    "                                                    random_state=0)\n",
    "xm_train.shape"
   ]
  },
  {
   "cell_type": "code",
   "execution_count": 47,
   "id": "30f88c88",
   "metadata": {
    "execution": {
     "iopub.execute_input": "2023-07-29T11:00:17.220582Z",
     "iopub.status.busy": "2023-07-29T11:00:17.219445Z",
     "iopub.status.idle": "2023-07-29T11:00:17.257882Z",
     "shell.execute_reply": "2023-07-29T11:00:17.256812Z"
    },
    "papermill": {
     "duration": 0.07598,
     "end_time": "2023-07-29T11:00:17.260413",
     "exception": false,
     "start_time": "2023-07-29T11:00:17.184433",
     "status": "completed"
    },
    "tags": []
   },
   "outputs": [
    {
     "data": {
      "text/html": [
       "<style>#sk-container-id-1 {color: black;background-color: white;}#sk-container-id-1 pre{padding: 0;}#sk-container-id-1 div.sk-toggleable {background-color: white;}#sk-container-id-1 label.sk-toggleable__label {cursor: pointer;display: block;width: 100%;margin-bottom: 0;padding: 0.3em;box-sizing: border-box;text-align: center;}#sk-container-id-1 label.sk-toggleable__label-arrow:before {content: \"▸\";float: left;margin-right: 0.25em;color: #696969;}#sk-container-id-1 label.sk-toggleable__label-arrow:hover:before {color: black;}#sk-container-id-1 div.sk-estimator:hover label.sk-toggleable__label-arrow:before {color: black;}#sk-container-id-1 div.sk-toggleable__content {max-height: 0;max-width: 0;overflow: hidden;text-align: left;background-color: #f0f8ff;}#sk-container-id-1 div.sk-toggleable__content pre {margin: 0.2em;color: black;border-radius: 0.25em;background-color: #f0f8ff;}#sk-container-id-1 input.sk-toggleable__control:checked~div.sk-toggleable__content {max-height: 200px;max-width: 100%;overflow: auto;}#sk-container-id-1 input.sk-toggleable__control:checked~label.sk-toggleable__label-arrow:before {content: \"▾\";}#sk-container-id-1 div.sk-estimator input.sk-toggleable__control:checked~label.sk-toggleable__label {background-color: #d4ebff;}#sk-container-id-1 div.sk-label input.sk-toggleable__control:checked~label.sk-toggleable__label {background-color: #d4ebff;}#sk-container-id-1 input.sk-hidden--visually {border: 0;clip: rect(1px 1px 1px 1px);clip: rect(1px, 1px, 1px, 1px);height: 1px;margin: -1px;overflow: hidden;padding: 0;position: absolute;width: 1px;}#sk-container-id-1 div.sk-estimator {font-family: monospace;background-color: #f0f8ff;border: 1px dotted black;border-radius: 0.25em;box-sizing: border-box;margin-bottom: 0.5em;}#sk-container-id-1 div.sk-estimator:hover {background-color: #d4ebff;}#sk-container-id-1 div.sk-parallel-item::after {content: \"\";width: 100%;border-bottom: 1px solid gray;flex-grow: 1;}#sk-container-id-1 div.sk-label:hover label.sk-toggleable__label {background-color: #d4ebff;}#sk-container-id-1 div.sk-serial::before {content: \"\";position: absolute;border-left: 1px solid gray;box-sizing: border-box;top: 0;bottom: 0;left: 50%;z-index: 0;}#sk-container-id-1 div.sk-serial {display: flex;flex-direction: column;align-items: center;background-color: white;padding-right: 0.2em;padding-left: 0.2em;position: relative;}#sk-container-id-1 div.sk-item {position: relative;z-index: 1;}#sk-container-id-1 div.sk-parallel {display: flex;align-items: stretch;justify-content: center;background-color: white;position: relative;}#sk-container-id-1 div.sk-item::before, #sk-container-id-1 div.sk-parallel-item::before {content: \"\";position: absolute;border-left: 1px solid gray;box-sizing: border-box;top: 0;bottom: 0;left: 50%;z-index: -1;}#sk-container-id-1 div.sk-parallel-item {display: flex;flex-direction: column;z-index: 1;position: relative;background-color: white;}#sk-container-id-1 div.sk-parallel-item:first-child::after {align-self: flex-end;width: 50%;}#sk-container-id-1 div.sk-parallel-item:last-child::after {align-self: flex-start;width: 50%;}#sk-container-id-1 div.sk-parallel-item:only-child::after {width: 0;}#sk-container-id-1 div.sk-dashed-wrapped {border: 1px dashed gray;margin: 0 0.4em 0.5em 0.4em;box-sizing: border-box;padding-bottom: 0.4em;background-color: white;}#sk-container-id-1 div.sk-label label {font-family: monospace;font-weight: bold;display: inline-block;line-height: 1.2em;}#sk-container-id-1 div.sk-label-container {text-align: center;}#sk-container-id-1 div.sk-container {/* jupyter's `normalize.less` sets `[hidden] { display: none; }` but bootstrap.min.css set `[hidden] { display: none !important; }` so we also need the `!important` here to be able to override the default hidden behavior on the sphinx rendered scikit-learn.org. See: https://github.com/scikit-learn/scikit-learn/issues/21755 */display: inline-block !important;position: relative;}#sk-container-id-1 div.sk-text-repr-fallback {display: none;}</style><div id=\"sk-container-id-1\" class=\"sk-top-container\"><div class=\"sk-text-repr-fallback\"><pre>Pipeline(steps=[(&#x27;n_impute&#x27;, SimpleImputer(strategy=&#x27;most_frequent&#x27;)),\n",
       "                (&#x27;scale&#x27;, StandardScaler())])</pre><b>In a Jupyter environment, please rerun this cell to show the HTML representation or trust the notebook. <br />On GitHub, the HTML representation is unable to render, please try loading this page with nbviewer.org.</b></div><div class=\"sk-container\" hidden><div class=\"sk-item sk-dashed-wrapped\"><div class=\"sk-label-container\"><div class=\"sk-label sk-toggleable\"><input class=\"sk-toggleable__control sk-hidden--visually\" id=\"sk-estimator-id-1\" type=\"checkbox\" ><label for=\"sk-estimator-id-1\" class=\"sk-toggleable__label sk-toggleable__label-arrow\">Pipeline</label><div class=\"sk-toggleable__content\"><pre>Pipeline(steps=[(&#x27;n_impute&#x27;, SimpleImputer(strategy=&#x27;most_frequent&#x27;)),\n",
       "                (&#x27;scale&#x27;, StandardScaler())])</pre></div></div></div><div class=\"sk-serial\"><div class=\"sk-item\"><div class=\"sk-estimator sk-toggleable\"><input class=\"sk-toggleable__control sk-hidden--visually\" id=\"sk-estimator-id-2\" type=\"checkbox\" ><label for=\"sk-estimator-id-2\" class=\"sk-toggleable__label sk-toggleable__label-arrow\">SimpleImputer</label><div class=\"sk-toggleable__content\"><pre>SimpleImputer(strategy=&#x27;most_frequent&#x27;)</pre></div></div></div><div class=\"sk-item\"><div class=\"sk-estimator sk-toggleable\"><input class=\"sk-toggleable__control sk-hidden--visually\" id=\"sk-estimator-id-3\" type=\"checkbox\" ><label for=\"sk-estimator-id-3\" class=\"sk-toggleable__label sk-toggleable__label-arrow\">StandardScaler</label><div class=\"sk-toggleable__content\"><pre>StandardScaler()</pre></div></div></div></div></div></div></div>"
      ],
      "text/plain": [
       "Pipeline(steps=[('n_impute', SimpleImputer(strategy='most_frequent')),\n",
       "                ('scale', StandardScaler())])"
      ]
     },
     "execution_count": 47,
     "metadata": {},
     "output_type": "execute_result"
    }
   ],
   "source": [
    "#Performing imputation and Feature Scaling on numerical variables\n",
    "pipe_num= Pipeline([\n",
    "                    ('n_impute',SimpleImputer(strategy='most_frequent')),\n",
    "                    ('scale',StandardScaler())\n",
    "])\n",
    "pipe_num.fit(xm_train)"
   ]
  },
  {
   "cell_type": "code",
   "execution_count": 48,
   "id": "5c463366",
   "metadata": {
    "execution": {
     "iopub.execute_input": "2023-07-29T11:00:17.331797Z",
     "iopub.status.busy": "2023-07-29T11:00:17.331394Z",
     "iopub.status.idle": "2023-07-29T11:00:17.345052Z",
     "shell.execute_reply": "2023-07-29T11:00:17.344034Z"
    },
    "papermill": {
     "duration": 0.051739,
     "end_time": "2023-07-29T11:00:17.347325",
     "exception": false,
     "start_time": "2023-07-29T11:00:17.295586",
     "status": "completed"
    },
    "tags": []
   },
   "outputs": [
    {
     "data": {
      "text/plain": [
       "array([[-1.12499192, -0.23012475],\n",
       "       [-0.1671314 , -3.17747849],\n",
       "       [-0.1671314 , -0.85643742],\n",
       "       ...,\n",
       "       [-0.1671314 , -0.15644091],\n",
       "       [-0.1671314 ,  0.61723945],\n",
       "       [-1.57574981, -0.41433436]])"
      ]
     },
     "execution_count": 48,
     "metadata": {},
     "output_type": "execute_result"
    }
   ],
   "source": [
    "xm_train_trans= pipe_num.transform(xm_train)\n",
    "xm_train_trans"
   ]
  },
  {
   "cell_type": "code",
   "execution_count": 49,
   "id": "acd653e3",
   "metadata": {
    "execution": {
     "iopub.execute_input": "2023-07-29T11:00:17.417341Z",
     "iopub.status.busy": "2023-07-29T11:00:17.416884Z",
     "iopub.status.idle": "2023-07-29T11:00:17.436414Z",
     "shell.execute_reply": "2023-07-29T11:00:17.435233Z"
    },
    "papermill": {
     "duration": 0.057001,
     "end_time": "2023-07-29T11:00:17.438562",
     "exception": false,
     "start_time": "2023-07-29T11:00:17.381561",
     "status": "completed"
    },
    "tags": []
   },
   "outputs": [
    {
     "data": {
      "text/html": [
       "<div>\n",
       "<style scoped>\n",
       "    .dataframe tbody tr th:only-of-type {\n",
       "        vertical-align: middle;\n",
       "    }\n",
       "\n",
       "    .dataframe tbody tr th {\n",
       "        vertical-align: top;\n",
       "    }\n",
       "\n",
       "    .dataframe thead th {\n",
       "        text-align: right;\n",
       "    }\n",
       "</style>\n",
       "<table border=\"1\" class=\"dataframe\">\n",
       "  <thead>\n",
       "    <tr style=\"text-align: right;\">\n",
       "      <th></th>\n",
       "      <th>audienceScore</th>\n",
       "      <th>runtimeMinutes</th>\n",
       "    </tr>\n",
       "  </thead>\n",
       "  <tbody>\n",
       "    <tr>\n",
       "      <th>0</th>\n",
       "      <td>-1.124992</td>\n",
       "      <td>-0.230125</td>\n",
       "    </tr>\n",
       "    <tr>\n",
       "      <th>1</th>\n",
       "      <td>-0.167131</td>\n",
       "      <td>-3.177478</td>\n",
       "    </tr>\n",
       "    <tr>\n",
       "      <th>2</th>\n",
       "      <td>-0.167131</td>\n",
       "      <td>-0.856437</td>\n",
       "    </tr>\n",
       "    <tr>\n",
       "      <th>3</th>\n",
       "      <td>-0.167131</td>\n",
       "      <td>-0.451176</td>\n",
       "    </tr>\n",
       "    <tr>\n",
       "      <th>4</th>\n",
       "      <td>-0.167131</td>\n",
       "      <td>2.422494</td>\n",
       "    </tr>\n",
       "    <tr>\n",
       "      <th>...</th>\n",
       "      <td>...</td>\n",
       "      <td>...</td>\n",
       "    </tr>\n",
       "    <tr>\n",
       "      <th>101118</th>\n",
       "      <td>0.509005</td>\n",
       "      <td>0.211978</td>\n",
       "    </tr>\n",
       "    <tr>\n",
       "      <th>101119</th>\n",
       "      <td>2.650105</td>\n",
       "      <td>-0.119599</td>\n",
       "    </tr>\n",
       "    <tr>\n",
       "      <th>101120</th>\n",
       "      <td>-0.167131</td>\n",
       "      <td>-0.156441</td>\n",
       "    </tr>\n",
       "    <tr>\n",
       "      <th>101121</th>\n",
       "      <td>-0.167131</td>\n",
       "      <td>0.617239</td>\n",
       "    </tr>\n",
       "    <tr>\n",
       "      <th>101122</th>\n",
       "      <td>-1.575750</td>\n",
       "      <td>-0.414334</td>\n",
       "    </tr>\n",
       "  </tbody>\n",
       "</table>\n",
       "<p>101123 rows × 2 columns</p>\n",
       "</div>"
      ],
      "text/plain": [
       "        audienceScore  runtimeMinutes\n",
       "0           -1.124992       -0.230125\n",
       "1           -0.167131       -3.177478\n",
       "2           -0.167131       -0.856437\n",
       "3           -0.167131       -0.451176\n",
       "4           -0.167131        2.422494\n",
       "...               ...             ...\n",
       "101118       0.509005        0.211978\n",
       "101119       2.650105       -0.119599\n",
       "101120      -0.167131       -0.156441\n",
       "101121      -0.167131        0.617239\n",
       "101122      -1.575750       -0.414334\n",
       "\n",
       "[101123 rows x 2 columns]"
      ]
     },
     "metadata": {},
     "output_type": "display_data"
    }
   ],
   "source": [
    "display(pd.DataFrame(pipe_num.transform(xm_train), columns=pipe_num['scale'].get_feature_names_out(xm_train.columns)))"
   ]
  },
  {
   "cell_type": "code",
   "execution_count": 50,
   "id": "91c825fd",
   "metadata": {
    "execution": {
     "iopub.execute_input": "2023-07-29T11:00:17.572894Z",
     "iopub.status.busy": "2023-07-29T11:00:17.571916Z",
     "iopub.status.idle": "2023-07-29T11:00:17.578780Z",
     "shell.execute_reply": "2023-07-29T11:00:17.577702Z"
    },
    "papermill": {
     "duration": 0.108213,
     "end_time": "2023-07-29T11:00:17.580986",
     "exception": false,
     "start_time": "2023-07-29T11:00:17.472773",
     "status": "completed"
    },
    "tags": []
   },
   "outputs": [
    {
     "data": {
      "text/plain": [
       "['movieid',\n",
       " 'title',\n",
       " 'rating',\n",
       " 'ratingContents',\n",
       " 'releaseDateTheaters',\n",
       " 'releaseDateStreaming',\n",
       " 'genre',\n",
       " 'originalLanguage',\n",
       " 'director',\n",
       " 'boxOffice',\n",
       " 'distributor',\n",
       " 'soundType']"
      ]
     },
     "execution_count": 50,
     "metadata": {},
     "output_type": "execute_result"
    }
   ],
   "source": [
    "# finding the categorical variables\n",
    "cat_col=[col for col in movies.columns if movies[col].dtypes=='object']\n",
    "cat_col"
   ]
  },
  {
   "cell_type": "code",
   "execution_count": 51,
   "id": "ec6263b6",
   "metadata": {
    "execution": {
     "iopub.execute_input": "2023-07-29T11:00:17.652995Z",
     "iopub.status.busy": "2023-07-29T11:00:17.652378Z",
     "iopub.status.idle": "2023-07-29T11:00:17.682299Z",
     "shell.execute_reply": "2023-07-29T11:00:17.681150Z"
    },
    "papermill": {
     "duration": 0.06815,
     "end_time": "2023-07-29T11:00:17.684446",
     "exception": false,
     "start_time": "2023-07-29T11:00:17.616296",
     "status": "completed"
    },
    "tags": []
   },
   "outputs": [
    {
     "data": {
      "text/html": [
       "<div>\n",
       "<style scoped>\n",
       "    .dataframe tbody tr th:only-of-type {\n",
       "        vertical-align: middle;\n",
       "    }\n",
       "\n",
       "    .dataframe tbody tr th {\n",
       "        vertical-align: top;\n",
       "    }\n",
       "\n",
       "    .dataframe thead th {\n",
       "        text-align: right;\n",
       "    }\n",
       "</style>\n",
       "<table border=\"1\" class=\"dataframe\">\n",
       "  <thead>\n",
       "    <tr style=\"text-align: right;\">\n",
       "      <th></th>\n",
       "      <th>movieid</th>\n",
       "      <th>title</th>\n",
       "      <th>rating</th>\n",
       "      <th>ratingContents</th>\n",
       "      <th>releaseDateTheaters</th>\n",
       "      <th>releaseDateStreaming</th>\n",
       "      <th>genre</th>\n",
       "      <th>originalLanguage</th>\n",
       "      <th>director</th>\n",
       "      <th>boxOffice</th>\n",
       "      <th>distributor</th>\n",
       "      <th>soundType</th>\n",
       "    </tr>\n",
       "  </thead>\n",
       "  <tbody>\n",
       "    <tr>\n",
       "      <th>0</th>\n",
       "      <td>han_solo_heroic_myth_wonder_woman</td>\n",
       "      <td>Han Solo Heroic Myth Wonder Woman</td>\n",
       "      <td>NaN</td>\n",
       "      <td>NaN</td>\n",
       "      <td>NaN</td>\n",
       "      <td>2018-08-25</td>\n",
       "      <td>Comedy, Horror, Sci-fi</td>\n",
       "      <td>English</td>\n",
       "      <td>Claude Nicolet</td>\n",
       "      <td>NaN</td>\n",
       "      <td>NaN</td>\n",
       "      <td>NaN</td>\n",
       "    </tr>\n",
       "    <tr>\n",
       "      <th>1</th>\n",
       "      <td>voyage_tyler_durden_han_solo_stardust</td>\n",
       "      <td>Voyage Tyler Durden Han Solo Stardust</td>\n",
       "      <td>NaN</td>\n",
       "      <td>NaN</td>\n",
       "      <td>NaN</td>\n",
       "      <td>2020-02-11</td>\n",
       "      <td>Drama</td>\n",
       "      <td>English</td>\n",
       "      <td>Nathan Haack</td>\n",
       "      <td>NaN</td>\n",
       "      <td>NaN</td>\n",
       "      <td>NaN</td>\n",
       "    </tr>\n",
       "    <tr>\n",
       "      <th>2</th>\n",
       "      <td>norman_bates_ferris_bueller_hermione_granger_v...</td>\n",
       "      <td>Norman Bates Ferris Bueller Hermione Granger V...</td>\n",
       "      <td>NaN</td>\n",
       "      <td>NaN</td>\n",
       "      <td>NaN</td>\n",
       "      <td>NaN</td>\n",
       "      <td>Drama</td>\n",
       "      <td>Korean</td>\n",
       "      <td>Theresa Smith</td>\n",
       "      <td>NaN</td>\n",
       "      <td>NaN</td>\n",
       "      <td>NaN</td>\n",
       "    </tr>\n",
       "  </tbody>\n",
       "</table>\n",
       "</div>"
      ],
      "text/plain": [
       "                                             movieid  \\\n",
       "0                  han_solo_heroic_myth_wonder_woman   \n",
       "1              voyage_tyler_durden_han_solo_stardust   \n",
       "2  norman_bates_ferris_bueller_hermione_granger_v...   \n",
       "\n",
       "                                               title rating ratingContents  \\\n",
       "0                  Han Solo Heroic Myth Wonder Woman    NaN            NaN   \n",
       "1              Voyage Tyler Durden Han Solo Stardust    NaN            NaN   \n",
       "2  Norman Bates Ferris Bueller Hermione Granger V...    NaN            NaN   \n",
       "\n",
       "  releaseDateTheaters releaseDateStreaming                   genre  \\\n",
       "0                 NaN           2018-08-25  Comedy, Horror, Sci-fi   \n",
       "1                 NaN           2020-02-11                   Drama   \n",
       "2                 NaN                  NaN                   Drama   \n",
       "\n",
       "  originalLanguage        director boxOffice distributor soundType  \n",
       "0          English  Claude Nicolet       NaN         NaN       NaN  \n",
       "1          English    Nathan Haack       NaN         NaN       NaN  \n",
       "2           Korean   Theresa Smith       NaN         NaN       NaN  "
      ]
     },
     "execution_count": 51,
     "metadata": {},
     "output_type": "execute_result"
    }
   ],
   "source": [
    "x2=movies[cat_col]\n",
    "x2.head(3)"
   ]
  },
  {
   "cell_type": "code",
   "execution_count": 52,
   "id": "cc414082",
   "metadata": {
    "execution": {
     "iopub.execute_input": "2023-07-29T11:00:17.757158Z",
     "iopub.status.busy": "2023-07-29T11:00:17.756416Z",
     "iopub.status.idle": "2023-07-29T11:00:17.852231Z",
     "shell.execute_reply": "2023-07-29T11:00:17.850977Z"
    },
    "papermill": {
     "duration": 0.134722,
     "end_time": "2023-07-29T11:00:17.854439",
     "exception": false,
     "start_time": "2023-07-29T11:00:17.719717",
     "status": "completed"
    },
    "tags": []
   },
   "outputs": [
    {
     "data": {
      "text/plain": [
       "(101123, 12)"
      ]
     },
     "execution_count": 52,
     "metadata": {},
     "output_type": "execute_result"
    }
   ],
   "source": [
    "xm_train1, xm_val1, ym_train1, ym_val1 = train_test_split(x2, movies['movieid'],\n",
    "                                                    test_size=.2,\n",
    "                                                    random_state=0)\n",
    "xm_train1.shape"
   ]
  },
  {
   "cell_type": "code",
   "execution_count": 53,
   "id": "1802a114",
   "metadata": {
    "execution": {
     "iopub.execute_input": "2023-07-29T11:00:17.926831Z",
     "iopub.status.busy": "2023-07-29T11:00:17.926436Z",
     "iopub.status.idle": "2023-07-29T11:00:18.559399Z",
     "shell.execute_reply": "2023-07-29T11:00:18.558392Z"
    },
    "papermill": {
     "duration": 0.672096,
     "end_time": "2023-07-29T11:00:18.561878",
     "exception": false,
     "start_time": "2023-07-29T11:00:17.889782",
     "status": "completed"
    },
    "tags": []
   },
   "outputs": [
    {
     "data": {
      "text/html": [
       "<style>#sk-container-id-2 {color: black;background-color: white;}#sk-container-id-2 pre{padding: 0;}#sk-container-id-2 div.sk-toggleable {background-color: white;}#sk-container-id-2 label.sk-toggleable__label {cursor: pointer;display: block;width: 100%;margin-bottom: 0;padding: 0.3em;box-sizing: border-box;text-align: center;}#sk-container-id-2 label.sk-toggleable__label-arrow:before {content: \"▸\";float: left;margin-right: 0.25em;color: #696969;}#sk-container-id-2 label.sk-toggleable__label-arrow:hover:before {color: black;}#sk-container-id-2 div.sk-estimator:hover label.sk-toggleable__label-arrow:before {color: black;}#sk-container-id-2 div.sk-toggleable__content {max-height: 0;max-width: 0;overflow: hidden;text-align: left;background-color: #f0f8ff;}#sk-container-id-2 div.sk-toggleable__content pre {margin: 0.2em;color: black;border-radius: 0.25em;background-color: #f0f8ff;}#sk-container-id-2 input.sk-toggleable__control:checked~div.sk-toggleable__content {max-height: 200px;max-width: 100%;overflow: auto;}#sk-container-id-2 input.sk-toggleable__control:checked~label.sk-toggleable__label-arrow:before {content: \"▾\";}#sk-container-id-2 div.sk-estimator input.sk-toggleable__control:checked~label.sk-toggleable__label {background-color: #d4ebff;}#sk-container-id-2 div.sk-label input.sk-toggleable__control:checked~label.sk-toggleable__label {background-color: #d4ebff;}#sk-container-id-2 input.sk-hidden--visually {border: 0;clip: rect(1px 1px 1px 1px);clip: rect(1px, 1px, 1px, 1px);height: 1px;margin: -1px;overflow: hidden;padding: 0;position: absolute;width: 1px;}#sk-container-id-2 div.sk-estimator {font-family: monospace;background-color: #f0f8ff;border: 1px dotted black;border-radius: 0.25em;box-sizing: border-box;margin-bottom: 0.5em;}#sk-container-id-2 div.sk-estimator:hover {background-color: #d4ebff;}#sk-container-id-2 div.sk-parallel-item::after {content: \"\";width: 100%;border-bottom: 1px solid gray;flex-grow: 1;}#sk-container-id-2 div.sk-label:hover label.sk-toggleable__label {background-color: #d4ebff;}#sk-container-id-2 div.sk-serial::before {content: \"\";position: absolute;border-left: 1px solid gray;box-sizing: border-box;top: 0;bottom: 0;left: 50%;z-index: 0;}#sk-container-id-2 div.sk-serial {display: flex;flex-direction: column;align-items: center;background-color: white;padding-right: 0.2em;padding-left: 0.2em;position: relative;}#sk-container-id-2 div.sk-item {position: relative;z-index: 1;}#sk-container-id-2 div.sk-parallel {display: flex;align-items: stretch;justify-content: center;background-color: white;position: relative;}#sk-container-id-2 div.sk-item::before, #sk-container-id-2 div.sk-parallel-item::before {content: \"\";position: absolute;border-left: 1px solid gray;box-sizing: border-box;top: 0;bottom: 0;left: 50%;z-index: -1;}#sk-container-id-2 div.sk-parallel-item {display: flex;flex-direction: column;z-index: 1;position: relative;background-color: white;}#sk-container-id-2 div.sk-parallel-item:first-child::after {align-self: flex-end;width: 50%;}#sk-container-id-2 div.sk-parallel-item:last-child::after {align-self: flex-start;width: 50%;}#sk-container-id-2 div.sk-parallel-item:only-child::after {width: 0;}#sk-container-id-2 div.sk-dashed-wrapped {border: 1px dashed gray;margin: 0 0.4em 0.5em 0.4em;box-sizing: border-box;padding-bottom: 0.4em;background-color: white;}#sk-container-id-2 div.sk-label label {font-family: monospace;font-weight: bold;display: inline-block;line-height: 1.2em;}#sk-container-id-2 div.sk-label-container {text-align: center;}#sk-container-id-2 div.sk-container {/* jupyter's `normalize.less` sets `[hidden] { display: none; }` but bootstrap.min.css set `[hidden] { display: none !important; }` so we also need the `!important` here to be able to override the default hidden behavior on the sphinx rendered scikit-learn.org. See: https://github.com/scikit-learn/scikit-learn/issues/21755 */display: inline-block !important;position: relative;}#sk-container-id-2 div.sk-text-repr-fallback {display: none;}</style><div id=\"sk-container-id-2\" class=\"sk-top-container\"><div class=\"sk-text-repr-fallback\"><pre>Pipeline(steps=[(&#x27;c_impute&#x27;, SimpleImputer(strategy=&#x27;constant&#x27;)),\n",
       "                (&#x27;ohe&#x27;, OneHotEncoder(sparse=False, sparse_output=False))])</pre><b>In a Jupyter environment, please rerun this cell to show the HTML representation or trust the notebook. <br />On GitHub, the HTML representation is unable to render, please try loading this page with nbviewer.org.</b></div><div class=\"sk-container\" hidden><div class=\"sk-item sk-dashed-wrapped\"><div class=\"sk-label-container\"><div class=\"sk-label sk-toggleable\"><input class=\"sk-toggleable__control sk-hidden--visually\" id=\"sk-estimator-id-4\" type=\"checkbox\" ><label for=\"sk-estimator-id-4\" class=\"sk-toggleable__label sk-toggleable__label-arrow\">Pipeline</label><div class=\"sk-toggleable__content\"><pre>Pipeline(steps=[(&#x27;c_impute&#x27;, SimpleImputer(strategy=&#x27;constant&#x27;)),\n",
       "                (&#x27;ohe&#x27;, OneHotEncoder(sparse=False, sparse_output=False))])</pre></div></div></div><div class=\"sk-serial\"><div class=\"sk-item\"><div class=\"sk-estimator sk-toggleable\"><input class=\"sk-toggleable__control sk-hidden--visually\" id=\"sk-estimator-id-5\" type=\"checkbox\" ><label for=\"sk-estimator-id-5\" class=\"sk-toggleable__label sk-toggleable__label-arrow\">SimpleImputer</label><div class=\"sk-toggleable__content\"><pre>SimpleImputer(strategy=&#x27;constant&#x27;)</pre></div></div></div><div class=\"sk-item\"><div class=\"sk-estimator sk-toggleable\"><input class=\"sk-toggleable__control sk-hidden--visually\" id=\"sk-estimator-id-6\" type=\"checkbox\" ><label for=\"sk-estimator-id-6\" class=\"sk-toggleable__label sk-toggleable__label-arrow\">OneHotEncoder</label><div class=\"sk-toggleable__content\"><pre>OneHotEncoder(sparse=False, sparse_output=False)</pre></div></div></div></div></div></div></div>"
      ],
      "text/plain": [
       "Pipeline(steps=[('c_impute', SimpleImputer(strategy='constant')),\n",
       "                ('ohe', OneHotEncoder(sparse=False, sparse_output=False))])"
      ]
     },
     "execution_count": 53,
     "metadata": {},
     "output_type": "execute_result"
    }
   ],
   "source": [
    "#Performing imputation and Encoding on categorical variables\n",
    "pipe_cat= Pipeline([\n",
    "                    ('c_impute',SimpleImputer(strategy='constant')),\n",
    "                    ('ohe',OneHotEncoder(sparse=False))\n",
    "])\n",
    "pipe_cat.fit(xm_train1)"
   ]
  },
  {
   "cell_type": "code",
   "execution_count": 54,
   "id": "e2f07255",
   "metadata": {
    "execution": {
     "iopub.execute_input": "2023-07-29T11:00:18.637111Z",
     "iopub.status.busy": "2023-07-29T11:00:18.636124Z",
     "iopub.status.idle": "2023-07-29T11:00:27.108501Z",
     "shell.execute_reply": "2023-07-29T11:00:27.107486Z"
    },
    "papermill": {
     "duration": 8.5126,
     "end_time": "2023-07-29T11:00:27.110792",
     "exception": false,
     "start_time": "2023-07-29T11:00:18.598192",
     "status": "completed"
    },
    "tags": []
   },
   "outputs": [
    {
     "data": {
      "text/plain": [
       "array([[0., 0., 0., ..., 0., 0., 1.],\n",
       "       [0., 0., 0., ..., 0., 0., 1.],\n",
       "       [0., 0., 0., ..., 0., 0., 1.],\n",
       "       ...,\n",
       "       [0., 0., 0., ..., 0., 0., 1.],\n",
       "       [0., 0., 0., ..., 0., 0., 1.],\n",
       "       [0., 0., 0., ..., 0., 0., 1.]])"
      ]
     },
     "execution_count": 54,
     "metadata": {},
     "output_type": "execute_result"
    }
   ],
   "source": [
    "xm_train_trans1= pipe_cat.transform(xm_train1)\n",
    "xm_train_trans1"
   ]
  },
  {
   "cell_type": "markdown",
   "id": "e56a5bb7",
   "metadata": {
    "papermill": {
     "duration": 0.034745,
     "end_time": "2023-07-29T11:00:27.180544",
     "exception": false,
     "start_time": "2023-07-29T11:00:27.145799",
     "status": "completed"
    },
    "tags": []
   },
   "source": [
    "Similarly, for test data"
   ]
  },
  {
   "cell_type": "code",
   "execution_count": 55,
   "id": "e9390cb8",
   "metadata": {
    "execution": {
     "iopub.execute_input": "2023-07-29T11:00:27.253206Z",
     "iopub.status.busy": "2023-07-29T11:00:27.252486Z",
     "iopub.status.idle": "2023-07-29T11:00:27.263114Z",
     "shell.execute_reply": "2023-07-29T11:00:27.262080Z"
    },
    "papermill": {
     "duration": 0.050058,
     "end_time": "2023-07-29T11:00:27.265569",
     "exception": false,
     "start_time": "2023-07-29T11:00:27.215511",
     "status": "completed"
    },
    "tags": []
   },
   "outputs": [],
   "source": [
    "x_test=x_test.fillna('')"
   ]
  },
  {
   "cell_type": "code",
   "execution_count": 56,
   "id": "aea7e5cc",
   "metadata": {
    "execution": {
     "iopub.execute_input": "2023-07-29T11:00:27.338058Z",
     "iopub.status.busy": "2023-07-29T11:00:27.337670Z",
     "iopub.status.idle": "2023-07-29T11:00:28.604671Z",
     "shell.execute_reply": "2023-07-29T11:00:28.603605Z"
    },
    "papermill": {
     "duration": 1.305739,
     "end_time": "2023-07-29T11:00:28.607132",
     "exception": false,
     "start_time": "2023-07-29T11:00:27.301393",
     "status": "completed"
    },
    "tags": []
   },
   "outputs": [
    {
     "data": {
      "text/plain": [
       "(55315, 15000)"
      ]
     },
     "execution_count": 56,
     "metadata": {},
     "output_type": "execute_result"
    }
   ],
   "source": [
    "x_test_tran=vect.transform(x_test)\n",
    "x_test_tran.shape"
   ]
  },
  {
   "cell_type": "markdown",
   "id": "f7b385e3",
   "metadata": {
    "papermill": {
     "duration": 0.035723,
     "end_time": "2023-07-29T11:00:28.678584",
     "exception": false,
     "start_time": "2023-07-29T11:00:28.642861",
     "status": "completed"
    },
    "tags": []
   },
   "source": [
    "**5. Splitting the dataset**"
   ]
  },
  {
   "cell_type": "code",
   "execution_count": 57,
   "id": "34c68953",
   "metadata": {
    "execution": {
     "iopub.execute_input": "2023-07-29T11:00:28.756864Z",
     "iopub.status.busy": "2023-07-29T11:00:28.756466Z",
     "iopub.status.idle": "2023-07-29T11:00:28.794539Z",
     "shell.execute_reply": "2023-07-29T11:00:28.793515Z"
    },
    "papermill": {
     "duration": 0.080681,
     "end_time": "2023-07-29T11:00:28.797042",
     "exception": false,
     "start_time": "2023-07-29T11:00:28.716361",
     "status": "completed"
    },
    "tags": []
   },
   "outputs": [
    {
     "data": {
      "text/plain": [
       "(130206, 15000)"
      ]
     },
     "execution_count": 57,
     "metadata": {},
     "output_type": "execute_result"
    }
   ],
   "source": [
    "x_train,x_val,y_train,y_val= train_test_split(x_t,y,test_size=0.2,random_state=0)\n",
    "x_train.shape"
   ]
  },
  {
   "cell_type": "markdown",
   "id": "0a16743b",
   "metadata": {
    "papermill": {
     "duration": 0.036889,
     "end_time": "2023-07-29T11:00:28.869955",
     "exception": false,
     "start_time": "2023-07-29T11:00:28.833066",
     "status": "completed"
    },
    "tags": []
   },
   "source": [
    "**6. MODEL**"
   ]
  },
  {
   "cell_type": "markdown",
   "id": "d1cf71eb",
   "metadata": {
    "papermill": {
     "duration": 0.035863,
     "end_time": "2023-07-29T11:00:28.941287",
     "exception": false,
     "start_time": "2023-07-29T11:00:28.905424",
     "status": "completed"
    },
    "tags": []
   },
   "source": [
    "**6.1 Multinomial Naive Bayes**"
   ]
  },
  {
   "cell_type": "markdown",
   "id": "88c3f97a",
   "metadata": {
    "papermill": {
     "duration": 0.036209,
     "end_time": "2023-07-29T11:00:29.013234",
     "exception": false,
     "start_time": "2023-07-29T11:00:28.977025",
     "status": "completed"
    },
    "tags": []
   },
   "source": [
    "The reason for choosing this model is it works best for text data"
   ]
  },
  {
   "cell_type": "markdown",
   "id": "a3a3bb80",
   "metadata": {
    "papermill": {
     "duration": 0.035029,
     "end_time": "2023-07-29T11:00:29.083450",
     "exception": false,
     "start_time": "2023-07-29T11:00:29.048421",
     "status": "completed"
    },
    "tags": []
   },
   "source": [
    "6.12 Train and fit the model"
   ]
  },
  {
   "cell_type": "code",
   "execution_count": 58,
   "id": "a1ddeb25",
   "metadata": {
    "execution": {
     "iopub.execute_input": "2023-07-29T11:00:29.156651Z",
     "iopub.status.busy": "2023-07-29T11:00:29.156246Z",
     "iopub.status.idle": "2023-07-29T11:00:29.212545Z",
     "shell.execute_reply": "2023-07-29T11:00:29.211808Z"
    },
    "papermill": {
     "duration": 0.095436,
     "end_time": "2023-07-29T11:00:29.214454",
     "exception": false,
     "start_time": "2023-07-29T11:00:29.119018",
     "status": "completed"
    },
    "tags": []
   },
   "outputs": [
    {
     "data": {
      "text/html": [
       "<style>#sk-container-id-3 {color: black;background-color: white;}#sk-container-id-3 pre{padding: 0;}#sk-container-id-3 div.sk-toggleable {background-color: white;}#sk-container-id-3 label.sk-toggleable__label {cursor: pointer;display: block;width: 100%;margin-bottom: 0;padding: 0.3em;box-sizing: border-box;text-align: center;}#sk-container-id-3 label.sk-toggleable__label-arrow:before {content: \"▸\";float: left;margin-right: 0.25em;color: #696969;}#sk-container-id-3 label.sk-toggleable__label-arrow:hover:before {color: black;}#sk-container-id-3 div.sk-estimator:hover label.sk-toggleable__label-arrow:before {color: black;}#sk-container-id-3 div.sk-toggleable__content {max-height: 0;max-width: 0;overflow: hidden;text-align: left;background-color: #f0f8ff;}#sk-container-id-3 div.sk-toggleable__content pre {margin: 0.2em;color: black;border-radius: 0.25em;background-color: #f0f8ff;}#sk-container-id-3 input.sk-toggleable__control:checked~div.sk-toggleable__content {max-height: 200px;max-width: 100%;overflow: auto;}#sk-container-id-3 input.sk-toggleable__control:checked~label.sk-toggleable__label-arrow:before {content: \"▾\";}#sk-container-id-3 div.sk-estimator input.sk-toggleable__control:checked~label.sk-toggleable__label {background-color: #d4ebff;}#sk-container-id-3 div.sk-label input.sk-toggleable__control:checked~label.sk-toggleable__label {background-color: #d4ebff;}#sk-container-id-3 input.sk-hidden--visually {border: 0;clip: rect(1px 1px 1px 1px);clip: rect(1px, 1px, 1px, 1px);height: 1px;margin: -1px;overflow: hidden;padding: 0;position: absolute;width: 1px;}#sk-container-id-3 div.sk-estimator {font-family: monospace;background-color: #f0f8ff;border: 1px dotted black;border-radius: 0.25em;box-sizing: border-box;margin-bottom: 0.5em;}#sk-container-id-3 div.sk-estimator:hover {background-color: #d4ebff;}#sk-container-id-3 div.sk-parallel-item::after {content: \"\";width: 100%;border-bottom: 1px solid gray;flex-grow: 1;}#sk-container-id-3 div.sk-label:hover label.sk-toggleable__label {background-color: #d4ebff;}#sk-container-id-3 div.sk-serial::before {content: \"\";position: absolute;border-left: 1px solid gray;box-sizing: border-box;top: 0;bottom: 0;left: 50%;z-index: 0;}#sk-container-id-3 div.sk-serial {display: flex;flex-direction: column;align-items: center;background-color: white;padding-right: 0.2em;padding-left: 0.2em;position: relative;}#sk-container-id-3 div.sk-item {position: relative;z-index: 1;}#sk-container-id-3 div.sk-parallel {display: flex;align-items: stretch;justify-content: center;background-color: white;position: relative;}#sk-container-id-3 div.sk-item::before, #sk-container-id-3 div.sk-parallel-item::before {content: \"\";position: absolute;border-left: 1px solid gray;box-sizing: border-box;top: 0;bottom: 0;left: 50%;z-index: -1;}#sk-container-id-3 div.sk-parallel-item {display: flex;flex-direction: column;z-index: 1;position: relative;background-color: white;}#sk-container-id-3 div.sk-parallel-item:first-child::after {align-self: flex-end;width: 50%;}#sk-container-id-3 div.sk-parallel-item:last-child::after {align-self: flex-start;width: 50%;}#sk-container-id-3 div.sk-parallel-item:only-child::after {width: 0;}#sk-container-id-3 div.sk-dashed-wrapped {border: 1px dashed gray;margin: 0 0.4em 0.5em 0.4em;box-sizing: border-box;padding-bottom: 0.4em;background-color: white;}#sk-container-id-3 div.sk-label label {font-family: monospace;font-weight: bold;display: inline-block;line-height: 1.2em;}#sk-container-id-3 div.sk-label-container {text-align: center;}#sk-container-id-3 div.sk-container {/* jupyter's `normalize.less` sets `[hidden] { display: none; }` but bootstrap.min.css set `[hidden] { display: none !important; }` so we also need the `!important` here to be able to override the default hidden behavior on the sphinx rendered scikit-learn.org. See: https://github.com/scikit-learn/scikit-learn/issues/21755 */display: inline-block !important;position: relative;}#sk-container-id-3 div.sk-text-repr-fallback {display: none;}</style><div id=\"sk-container-id-3\" class=\"sk-top-container\"><div class=\"sk-text-repr-fallback\"><pre>MultinomialNB()</pre><b>In a Jupyter environment, please rerun this cell to show the HTML representation or trust the notebook. <br />On GitHub, the HTML representation is unable to render, please try loading this page with nbviewer.org.</b></div><div class=\"sk-container\" hidden><div class=\"sk-item\"><div class=\"sk-estimator sk-toggleable\"><input class=\"sk-toggleable__control sk-hidden--visually\" id=\"sk-estimator-id-7\" type=\"checkbox\" checked><label for=\"sk-estimator-id-7\" class=\"sk-toggleable__label sk-toggleable__label-arrow\">MultinomialNB</label><div class=\"sk-toggleable__content\"><pre>MultinomialNB()</pre></div></div></div></div></div>"
      ],
      "text/plain": [
       "MultinomialNB()"
      ]
     },
     "execution_count": 58,
     "metadata": {},
     "output_type": "execute_result"
    }
   ],
   "source": [
    "from sklearn.naive_bayes import MultinomialNB\n",
    "\n",
    "mnb=MultinomialNB()\n",
    "mnb.fit(x_train,y_train)"
   ]
  },
  {
   "cell_type": "markdown",
   "id": "2d635922",
   "metadata": {
    "papermill": {
     "duration": 0.035275,
     "end_time": "2023-07-29T11:00:29.285419",
     "exception": false,
     "start_time": "2023-07-29T11:00:29.250144",
     "status": "completed"
    },
    "tags": []
   },
   "source": [
    "6.13 Predict and finding the score"
   ]
  },
  {
   "cell_type": "code",
   "execution_count": 59,
   "id": "e6b3909d",
   "metadata": {
    "execution": {
     "iopub.execute_input": "2023-07-29T11:00:29.359910Z",
     "iopub.status.busy": "2023-07-29T11:00:29.359540Z",
     "iopub.status.idle": "2023-07-29T11:00:29.442531Z",
     "shell.execute_reply": "2023-07-29T11:00:29.441480Z"
    },
    "papermill": {
     "duration": 0.122263,
     "end_time": "2023-07-29T11:00:29.444636",
     "exception": false,
     "start_time": "2023-07-29T11:00:29.322373",
     "status": "completed"
    },
    "tags": []
   },
   "outputs": [
    {
     "name": "stdout",
     "output_type": "stream",
     "text": [
      "Accuracy score:  0.7740538215777832\n",
      "              precision    recall  f1-score   support\n",
      "\n",
      "           0       0.83      0.41      0.54     10829\n",
      "           1       0.76      0.96      0.85     21723\n",
      "\n",
      "    accuracy                           0.77     32552\n",
      "   macro avg       0.80      0.68      0.70     32552\n",
      "weighted avg       0.78      0.77      0.75     32552\n",
      "\n",
      "F1_score: 0.8498152042962449\n"
     ]
    }
   ],
   "source": [
    "from sklearn.metrics import accuracy_score\n",
    "from sklearn.metrics import classification_report\n",
    "from sklearn.metrics import f1_score\n",
    "\n",
    "y_pred=mnb.predict(x_val)\n",
    "score= accuracy_score(y_val,y_pred)\n",
    "print(\"Accuracy score: \", score)\n",
    "print(classification_report(y_val,y_pred))\n",
    "print (\"F1_score:\",f1_score(y_val,y_pred) )"
   ]
  },
  {
   "cell_type": "markdown",
   "id": "8ee372eb",
   "metadata": {
    "papermill": {
     "duration": 0.03701,
     "end_time": "2023-07-29T11:00:29.518421",
     "exception": false,
     "start_time": "2023-07-29T11:00:29.481411",
     "status": "completed"
    },
    "tags": []
   },
   "source": [
    "**MultinomialNB : Accuracy score= 0.77 and f1_score= 0.84**"
   ]
  },
  {
   "cell_type": "markdown",
   "id": "6ca461b8",
   "metadata": {
    "papermill": {
     "duration": 0.035855,
     "end_time": "2023-07-29T11:00:29.590476",
     "exception": false,
     "start_time": "2023-07-29T11:00:29.554621",
     "status": "completed"
    },
    "tags": []
   },
   "source": [
    "______________________________________________________________________"
   ]
  },
  {
   "cell_type": "markdown",
   "id": "2af8b5a4",
   "metadata": {
    "papermill": {
     "duration": 0.03629,
     "end_time": "2023-07-29T11:00:29.662763",
     "exception": false,
     "start_time": "2023-07-29T11:00:29.626473",
     "status": "completed"
    },
    "tags": []
   },
   "source": [
    "**6.2 Logistic Regression**"
   ]
  },
  {
   "cell_type": "markdown",
   "id": "7edc6161",
   "metadata": {
    "papermill": {
     "duration": 0.035523,
     "end_time": "2023-07-29T11:00:29.734719",
     "exception": false,
     "start_time": "2023-07-29T11:00:29.699196",
     "status": "completed"
    },
    "tags": []
   },
   "source": [
    "Logistic Regression uses sigmoid funtion which gives values in 0 and 1 so it will work better with the test data"
   ]
  },
  {
   "cell_type": "code",
   "execution_count": 60,
   "id": "62fbe098",
   "metadata": {
    "execution": {
     "iopub.execute_input": "2023-07-29T11:00:29.809335Z",
     "iopub.status.busy": "2023-07-29T11:00:29.808899Z",
     "iopub.status.idle": "2023-07-29T11:00:36.418193Z",
     "shell.execute_reply": "2023-07-29T11:00:36.416942Z"
    },
    "papermill": {
     "duration": 6.650655,
     "end_time": "2023-07-29T11:00:36.422058",
     "exception": false,
     "start_time": "2023-07-29T11:00:29.771403",
     "status": "completed"
    },
    "tags": []
   },
   "outputs": [
    {
     "data": {
      "text/html": [
       "<style>#sk-container-id-4 {color: black;background-color: white;}#sk-container-id-4 pre{padding: 0;}#sk-container-id-4 div.sk-toggleable {background-color: white;}#sk-container-id-4 label.sk-toggleable__label {cursor: pointer;display: block;width: 100%;margin-bottom: 0;padding: 0.3em;box-sizing: border-box;text-align: center;}#sk-container-id-4 label.sk-toggleable__label-arrow:before {content: \"▸\";float: left;margin-right: 0.25em;color: #696969;}#sk-container-id-4 label.sk-toggleable__label-arrow:hover:before {color: black;}#sk-container-id-4 div.sk-estimator:hover label.sk-toggleable__label-arrow:before {color: black;}#sk-container-id-4 div.sk-toggleable__content {max-height: 0;max-width: 0;overflow: hidden;text-align: left;background-color: #f0f8ff;}#sk-container-id-4 div.sk-toggleable__content pre {margin: 0.2em;color: black;border-radius: 0.25em;background-color: #f0f8ff;}#sk-container-id-4 input.sk-toggleable__control:checked~div.sk-toggleable__content {max-height: 200px;max-width: 100%;overflow: auto;}#sk-container-id-4 input.sk-toggleable__control:checked~label.sk-toggleable__label-arrow:before {content: \"▾\";}#sk-container-id-4 div.sk-estimator input.sk-toggleable__control:checked~label.sk-toggleable__label {background-color: #d4ebff;}#sk-container-id-4 div.sk-label input.sk-toggleable__control:checked~label.sk-toggleable__label {background-color: #d4ebff;}#sk-container-id-4 input.sk-hidden--visually {border: 0;clip: rect(1px 1px 1px 1px);clip: rect(1px, 1px, 1px, 1px);height: 1px;margin: -1px;overflow: hidden;padding: 0;position: absolute;width: 1px;}#sk-container-id-4 div.sk-estimator {font-family: monospace;background-color: #f0f8ff;border: 1px dotted black;border-radius: 0.25em;box-sizing: border-box;margin-bottom: 0.5em;}#sk-container-id-4 div.sk-estimator:hover {background-color: #d4ebff;}#sk-container-id-4 div.sk-parallel-item::after {content: \"\";width: 100%;border-bottom: 1px solid gray;flex-grow: 1;}#sk-container-id-4 div.sk-label:hover label.sk-toggleable__label {background-color: #d4ebff;}#sk-container-id-4 div.sk-serial::before {content: \"\";position: absolute;border-left: 1px solid gray;box-sizing: border-box;top: 0;bottom: 0;left: 50%;z-index: 0;}#sk-container-id-4 div.sk-serial {display: flex;flex-direction: column;align-items: center;background-color: white;padding-right: 0.2em;padding-left: 0.2em;position: relative;}#sk-container-id-4 div.sk-item {position: relative;z-index: 1;}#sk-container-id-4 div.sk-parallel {display: flex;align-items: stretch;justify-content: center;background-color: white;position: relative;}#sk-container-id-4 div.sk-item::before, #sk-container-id-4 div.sk-parallel-item::before {content: \"\";position: absolute;border-left: 1px solid gray;box-sizing: border-box;top: 0;bottom: 0;left: 50%;z-index: -1;}#sk-container-id-4 div.sk-parallel-item {display: flex;flex-direction: column;z-index: 1;position: relative;background-color: white;}#sk-container-id-4 div.sk-parallel-item:first-child::after {align-self: flex-end;width: 50%;}#sk-container-id-4 div.sk-parallel-item:last-child::after {align-self: flex-start;width: 50%;}#sk-container-id-4 div.sk-parallel-item:only-child::after {width: 0;}#sk-container-id-4 div.sk-dashed-wrapped {border: 1px dashed gray;margin: 0 0.4em 0.5em 0.4em;box-sizing: border-box;padding-bottom: 0.4em;background-color: white;}#sk-container-id-4 div.sk-label label {font-family: monospace;font-weight: bold;display: inline-block;line-height: 1.2em;}#sk-container-id-4 div.sk-label-container {text-align: center;}#sk-container-id-4 div.sk-container {/* jupyter's `normalize.less` sets `[hidden] { display: none; }` but bootstrap.min.css set `[hidden] { display: none !important; }` so we also need the `!important` here to be able to override the default hidden behavior on the sphinx rendered scikit-learn.org. See: https://github.com/scikit-learn/scikit-learn/issues/21755 */display: inline-block !important;position: relative;}#sk-container-id-4 div.sk-text-repr-fallback {display: none;}</style><div id=\"sk-container-id-4\" class=\"sk-top-container\"><div class=\"sk-text-repr-fallback\"><pre>LogisticRegression()</pre><b>In a Jupyter environment, please rerun this cell to show the HTML representation or trust the notebook. <br />On GitHub, the HTML representation is unable to render, please try loading this page with nbviewer.org.</b></div><div class=\"sk-container\" hidden><div class=\"sk-item\"><div class=\"sk-estimator sk-toggleable\"><input class=\"sk-toggleable__control sk-hidden--visually\" id=\"sk-estimator-id-8\" type=\"checkbox\" checked><label for=\"sk-estimator-id-8\" class=\"sk-toggleable__label sk-toggleable__label-arrow\">LogisticRegression</label><div class=\"sk-toggleable__content\"><pre>LogisticRegression()</pre></div></div></div></div></div>"
      ],
      "text/plain": [
       "LogisticRegression()"
      ]
     },
     "execution_count": 60,
     "metadata": {},
     "output_type": "execute_result"
    }
   ],
   "source": [
    "from sklearn.linear_model import LogisticRegression\n",
    "\n",
    "lr=LogisticRegression()\n",
    "lr.fit(x_train,y_train)"
   ]
  },
  {
   "cell_type": "code",
   "execution_count": 61,
   "id": "17abbad5",
   "metadata": {
    "execution": {
     "iopub.execute_input": "2023-07-29T11:00:36.553983Z",
     "iopub.status.busy": "2023-07-29T11:00:36.553599Z",
     "iopub.status.idle": "2023-07-29T11:00:36.636936Z",
     "shell.execute_reply": "2023-07-29T11:00:36.635059Z"
    },
    "papermill": {
     "duration": 0.124854,
     "end_time": "2023-07-29T11:00:36.639519",
     "exception": false,
     "start_time": "2023-07-29T11:00:36.514665",
     "status": "completed"
    },
    "tags": []
   },
   "outputs": [
    {
     "name": "stdout",
     "output_type": "stream",
     "text": [
      "Accuracy score:  0.7974932415826984\n",
      "              precision    recall  f1-score   support\n",
      "\n",
      "           0       0.76      0.57      0.65     10829\n",
      "           1       0.81      0.91      0.86     21723\n",
      "\n",
      "    accuracy                           0.80     32552\n",
      "   macro avg       0.79      0.74      0.75     32552\n",
      "weighted avg       0.79      0.80      0.79     32552\n",
      "\n",
      "F1_score: 0.8573530684670649\n"
     ]
    }
   ],
   "source": [
    "from sklearn.metrics import accuracy_score\n",
    "y_pred=lr.predict(x_val)\n",
    "score= accuracy_score(y_val,y_pred)\n",
    "print(\"Accuracy score: \", score)\n",
    "print(classification_report(y_val,y_pred))\n",
    "print (\"F1_score:\",f1_score(y_val,y_pred) )"
   ]
  },
  {
   "cell_type": "markdown",
   "id": "0bcf6dca",
   "metadata": {
    "papermill": {
     "duration": 0.035885,
     "end_time": "2023-07-29T11:00:36.712610",
     "exception": false,
     "start_time": "2023-07-29T11:00:36.676725",
     "status": "completed"
    },
    "tags": []
   },
   "source": [
    "**Logistic Regression : Accuracy score= 0.79 and f1_score= 0.85**"
   ]
  },
  {
   "cell_type": "markdown",
   "id": "6a5c9525",
   "metadata": {
    "papermill": {
     "duration": 0.036287,
     "end_time": "2023-07-29T11:00:36.785456",
     "exception": false,
     "start_time": "2023-07-29T11:00:36.749169",
     "status": "completed"
    },
    "tags": []
   },
   "source": [
    "**6.3 Random Forest Classifier**"
   ]
  },
  {
   "cell_type": "code",
   "execution_count": 62,
   "id": "2610dff8",
   "metadata": {
    "execution": {
     "iopub.execute_input": "2023-07-29T11:00:36.861845Z",
     "iopub.status.busy": "2023-07-29T11:00:36.861451Z",
     "iopub.status.idle": "2023-07-29T11:09:25.979642Z",
     "shell.execute_reply": "2023-07-29T11:09:25.978791Z"
    },
    "papermill": {
     "duration": 529.194112,
     "end_time": "2023-07-29T11:09:26.017452",
     "exception": false,
     "start_time": "2023-07-29T11:00:36.823340",
     "status": "completed"
    },
    "tags": []
   },
   "outputs": [
    {
     "data": {
      "text/html": [
       "<style>#sk-container-id-5 {color: black;background-color: white;}#sk-container-id-5 pre{padding: 0;}#sk-container-id-5 div.sk-toggleable {background-color: white;}#sk-container-id-5 label.sk-toggleable__label {cursor: pointer;display: block;width: 100%;margin-bottom: 0;padding: 0.3em;box-sizing: border-box;text-align: center;}#sk-container-id-5 label.sk-toggleable__label-arrow:before {content: \"▸\";float: left;margin-right: 0.25em;color: #696969;}#sk-container-id-5 label.sk-toggleable__label-arrow:hover:before {color: black;}#sk-container-id-5 div.sk-estimator:hover label.sk-toggleable__label-arrow:before {color: black;}#sk-container-id-5 div.sk-toggleable__content {max-height: 0;max-width: 0;overflow: hidden;text-align: left;background-color: #f0f8ff;}#sk-container-id-5 div.sk-toggleable__content pre {margin: 0.2em;color: black;border-radius: 0.25em;background-color: #f0f8ff;}#sk-container-id-5 input.sk-toggleable__control:checked~div.sk-toggleable__content {max-height: 200px;max-width: 100%;overflow: auto;}#sk-container-id-5 input.sk-toggleable__control:checked~label.sk-toggleable__label-arrow:before {content: \"▾\";}#sk-container-id-5 div.sk-estimator input.sk-toggleable__control:checked~label.sk-toggleable__label {background-color: #d4ebff;}#sk-container-id-5 div.sk-label input.sk-toggleable__control:checked~label.sk-toggleable__label {background-color: #d4ebff;}#sk-container-id-5 input.sk-hidden--visually {border: 0;clip: rect(1px 1px 1px 1px);clip: rect(1px, 1px, 1px, 1px);height: 1px;margin: -1px;overflow: hidden;padding: 0;position: absolute;width: 1px;}#sk-container-id-5 div.sk-estimator {font-family: monospace;background-color: #f0f8ff;border: 1px dotted black;border-radius: 0.25em;box-sizing: border-box;margin-bottom: 0.5em;}#sk-container-id-5 div.sk-estimator:hover {background-color: #d4ebff;}#sk-container-id-5 div.sk-parallel-item::after {content: \"\";width: 100%;border-bottom: 1px solid gray;flex-grow: 1;}#sk-container-id-5 div.sk-label:hover label.sk-toggleable__label {background-color: #d4ebff;}#sk-container-id-5 div.sk-serial::before {content: \"\";position: absolute;border-left: 1px solid gray;box-sizing: border-box;top: 0;bottom: 0;left: 50%;z-index: 0;}#sk-container-id-5 div.sk-serial {display: flex;flex-direction: column;align-items: center;background-color: white;padding-right: 0.2em;padding-left: 0.2em;position: relative;}#sk-container-id-5 div.sk-item {position: relative;z-index: 1;}#sk-container-id-5 div.sk-parallel {display: flex;align-items: stretch;justify-content: center;background-color: white;position: relative;}#sk-container-id-5 div.sk-item::before, #sk-container-id-5 div.sk-parallel-item::before {content: \"\";position: absolute;border-left: 1px solid gray;box-sizing: border-box;top: 0;bottom: 0;left: 50%;z-index: -1;}#sk-container-id-5 div.sk-parallel-item {display: flex;flex-direction: column;z-index: 1;position: relative;background-color: white;}#sk-container-id-5 div.sk-parallel-item:first-child::after {align-self: flex-end;width: 50%;}#sk-container-id-5 div.sk-parallel-item:last-child::after {align-self: flex-start;width: 50%;}#sk-container-id-5 div.sk-parallel-item:only-child::after {width: 0;}#sk-container-id-5 div.sk-dashed-wrapped {border: 1px dashed gray;margin: 0 0.4em 0.5em 0.4em;box-sizing: border-box;padding-bottom: 0.4em;background-color: white;}#sk-container-id-5 div.sk-label label {font-family: monospace;font-weight: bold;display: inline-block;line-height: 1.2em;}#sk-container-id-5 div.sk-label-container {text-align: center;}#sk-container-id-5 div.sk-container {/* jupyter's `normalize.less` sets `[hidden] { display: none; }` but bootstrap.min.css set `[hidden] { display: none !important; }` so we also need the `!important` here to be able to override the default hidden behavior on the sphinx rendered scikit-learn.org. See: https://github.com/scikit-learn/scikit-learn/issues/21755 */display: inline-block !important;position: relative;}#sk-container-id-5 div.sk-text-repr-fallback {display: none;}</style><div id=\"sk-container-id-5\" class=\"sk-top-container\"><div class=\"sk-text-repr-fallback\"><pre>RandomForestClassifier()</pre><b>In a Jupyter environment, please rerun this cell to show the HTML representation or trust the notebook. <br />On GitHub, the HTML representation is unable to render, please try loading this page with nbviewer.org.</b></div><div class=\"sk-container\" hidden><div class=\"sk-item\"><div class=\"sk-estimator sk-toggleable\"><input class=\"sk-toggleable__control sk-hidden--visually\" id=\"sk-estimator-id-9\" type=\"checkbox\" checked><label for=\"sk-estimator-id-9\" class=\"sk-toggleable__label sk-toggleable__label-arrow\">RandomForestClassifier</label><div class=\"sk-toggleable__content\"><pre>RandomForestClassifier()</pre></div></div></div></div></div>"
      ],
      "text/plain": [
       "RandomForestClassifier()"
      ]
     },
     "execution_count": 62,
     "metadata": {},
     "output_type": "execute_result"
    }
   ],
   "source": [
    "from sklearn.ensemble import RandomForestClassifier\n",
    "rfc=RandomForestClassifier()\n",
    "rfc.fit(x_train,y_train)"
   ]
  },
  {
   "cell_type": "code",
   "execution_count": 63,
   "id": "b2d6fd6f",
   "metadata": {
    "execution": {
     "iopub.execute_input": "2023-07-29T11:09:26.092017Z",
     "iopub.status.busy": "2023-07-29T11:09:26.091076Z",
     "iopub.status.idle": "2023-07-29T11:09:30.142196Z",
     "shell.execute_reply": "2023-07-29T11:09:30.140914Z"
    },
    "papermill": {
     "duration": 4.090892,
     "end_time": "2023-07-29T11:09:30.144408",
     "exception": false,
     "start_time": "2023-07-29T11:09:26.053516",
     "status": "completed"
    },
    "tags": []
   },
   "outputs": [
    {
     "name": "stdout",
     "output_type": "stream",
     "text": [
      "Accuracy score:  0.7431187023838781\n",
      "              precision    recall  f1-score   support\n",
      "\n",
      "           0       0.78      0.32      0.45     10829\n",
      "           1       0.74      0.95      0.83     21723\n",
      "\n",
      "    accuracy                           0.74     32552\n",
      "   macro avg       0.76      0.64      0.64     32552\n",
      "weighted avg       0.75      0.74      0.71     32552\n",
      "\n",
      "F1_score: 0.8320681206571072\n"
     ]
    }
   ],
   "source": [
    "from sklearn.metrics import accuracy_score\n",
    "y_pred=rfc.predict(x_val)\n",
    "score= accuracy_score(y_val,y_pred)\n",
    "print(\"Accuracy score: \", score)\n",
    "print(classification_report(y_val,y_pred))\n",
    "print (\"F1_score:\",f1_score(y_val,y_pred) )"
   ]
  },
  {
   "cell_type": "markdown",
   "id": "f354a6a5",
   "metadata": {
    "papermill": {
     "duration": 0.035812,
     "end_time": "2023-07-29T11:09:30.216464",
     "exception": false,
     "start_time": "2023-07-29T11:09:30.180652",
     "status": "completed"
    },
    "tags": []
   },
   "source": [
    "**Random Forest : Accuracy score= 0.74 and f1_score= 0.83**"
   ]
  },
  {
   "cell_type": "markdown",
   "id": "4485025d",
   "metadata": {
    "papermill": {
     "duration": 0.035768,
     "end_time": "2023-07-29T11:09:30.288248",
     "exception": false,
     "start_time": "2023-07-29T11:09:30.252480",
     "status": "completed"
    },
    "tags": []
   },
   "source": [
    "**6.4 Support Vector Machine**"
   ]
  },
  {
   "cell_type": "code",
   "execution_count": 64,
   "id": "6e461e55",
   "metadata": {
    "execution": {
     "iopub.execute_input": "2023-07-29T11:09:30.361954Z",
     "iopub.status.busy": "2023-07-29T11:09:30.361565Z",
     "iopub.status.idle": "2023-07-29T11:09:32.779080Z",
     "shell.execute_reply": "2023-07-29T11:09:32.777943Z"
    },
    "papermill": {
     "duration": 2.457392,
     "end_time": "2023-07-29T11:09:32.781846",
     "exception": false,
     "start_time": "2023-07-29T11:09:30.324454",
     "status": "completed"
    },
    "tags": []
   },
   "outputs": [
    {
     "data": {
      "text/html": [
       "<style>#sk-container-id-6 {color: black;background-color: white;}#sk-container-id-6 pre{padding: 0;}#sk-container-id-6 div.sk-toggleable {background-color: white;}#sk-container-id-6 label.sk-toggleable__label {cursor: pointer;display: block;width: 100%;margin-bottom: 0;padding: 0.3em;box-sizing: border-box;text-align: center;}#sk-container-id-6 label.sk-toggleable__label-arrow:before {content: \"▸\";float: left;margin-right: 0.25em;color: #696969;}#sk-container-id-6 label.sk-toggleable__label-arrow:hover:before {color: black;}#sk-container-id-6 div.sk-estimator:hover label.sk-toggleable__label-arrow:before {color: black;}#sk-container-id-6 div.sk-toggleable__content {max-height: 0;max-width: 0;overflow: hidden;text-align: left;background-color: #f0f8ff;}#sk-container-id-6 div.sk-toggleable__content pre {margin: 0.2em;color: black;border-radius: 0.25em;background-color: #f0f8ff;}#sk-container-id-6 input.sk-toggleable__control:checked~div.sk-toggleable__content {max-height: 200px;max-width: 100%;overflow: auto;}#sk-container-id-6 input.sk-toggleable__control:checked~label.sk-toggleable__label-arrow:before {content: \"▾\";}#sk-container-id-6 div.sk-estimator input.sk-toggleable__control:checked~label.sk-toggleable__label {background-color: #d4ebff;}#sk-container-id-6 div.sk-label input.sk-toggleable__control:checked~label.sk-toggleable__label {background-color: #d4ebff;}#sk-container-id-6 input.sk-hidden--visually {border: 0;clip: rect(1px 1px 1px 1px);clip: rect(1px, 1px, 1px, 1px);height: 1px;margin: -1px;overflow: hidden;padding: 0;position: absolute;width: 1px;}#sk-container-id-6 div.sk-estimator {font-family: monospace;background-color: #f0f8ff;border: 1px dotted black;border-radius: 0.25em;box-sizing: border-box;margin-bottom: 0.5em;}#sk-container-id-6 div.sk-estimator:hover {background-color: #d4ebff;}#sk-container-id-6 div.sk-parallel-item::after {content: \"\";width: 100%;border-bottom: 1px solid gray;flex-grow: 1;}#sk-container-id-6 div.sk-label:hover label.sk-toggleable__label {background-color: #d4ebff;}#sk-container-id-6 div.sk-serial::before {content: \"\";position: absolute;border-left: 1px solid gray;box-sizing: border-box;top: 0;bottom: 0;left: 50%;z-index: 0;}#sk-container-id-6 div.sk-serial {display: flex;flex-direction: column;align-items: center;background-color: white;padding-right: 0.2em;padding-left: 0.2em;position: relative;}#sk-container-id-6 div.sk-item {position: relative;z-index: 1;}#sk-container-id-6 div.sk-parallel {display: flex;align-items: stretch;justify-content: center;background-color: white;position: relative;}#sk-container-id-6 div.sk-item::before, #sk-container-id-6 div.sk-parallel-item::before {content: \"\";position: absolute;border-left: 1px solid gray;box-sizing: border-box;top: 0;bottom: 0;left: 50%;z-index: -1;}#sk-container-id-6 div.sk-parallel-item {display: flex;flex-direction: column;z-index: 1;position: relative;background-color: white;}#sk-container-id-6 div.sk-parallel-item:first-child::after {align-self: flex-end;width: 50%;}#sk-container-id-6 div.sk-parallel-item:last-child::after {align-self: flex-start;width: 50%;}#sk-container-id-6 div.sk-parallel-item:only-child::after {width: 0;}#sk-container-id-6 div.sk-dashed-wrapped {border: 1px dashed gray;margin: 0 0.4em 0.5em 0.4em;box-sizing: border-box;padding-bottom: 0.4em;background-color: white;}#sk-container-id-6 div.sk-label label {font-family: monospace;font-weight: bold;display: inline-block;line-height: 1.2em;}#sk-container-id-6 div.sk-label-container {text-align: center;}#sk-container-id-6 div.sk-container {/* jupyter's `normalize.less` sets `[hidden] { display: none; }` but bootstrap.min.css set `[hidden] { display: none !important; }` so we also need the `!important` here to be able to override the default hidden behavior on the sphinx rendered scikit-learn.org. See: https://github.com/scikit-learn/scikit-learn/issues/21755 */display: inline-block !important;position: relative;}#sk-container-id-6 div.sk-text-repr-fallback {display: none;}</style><div id=\"sk-container-id-6\" class=\"sk-top-container\"><div class=\"sk-text-repr-fallback\"><pre>LinearSVC(random_state=0)</pre><b>In a Jupyter environment, please rerun this cell to show the HTML representation or trust the notebook. <br />On GitHub, the HTML representation is unable to render, please try loading this page with nbviewer.org.</b></div><div class=\"sk-container\" hidden><div class=\"sk-item\"><div class=\"sk-estimator sk-toggleable\"><input class=\"sk-toggleable__control sk-hidden--visually\" id=\"sk-estimator-id-10\" type=\"checkbox\" checked><label for=\"sk-estimator-id-10\" class=\"sk-toggleable__label sk-toggleable__label-arrow\">LinearSVC</label><div class=\"sk-toggleable__content\"><pre>LinearSVC(random_state=0)</pre></div></div></div></div></div>"
      ],
      "text/plain": [
       "LinearSVC(random_state=0)"
      ]
     },
     "execution_count": 64,
     "metadata": {},
     "output_type": "execute_result"
    }
   ],
   "source": [
    "from sklearn.svm import LinearSVC\n",
    "svm=LinearSVC(random_state=0)\n",
    "svm.fit(x_train,y_train)"
   ]
  },
  {
   "cell_type": "code",
   "execution_count": 65,
   "id": "580f9f74",
   "metadata": {
    "execution": {
     "iopub.execute_input": "2023-07-29T11:09:32.858482Z",
     "iopub.status.busy": "2023-07-29T11:09:32.857566Z",
     "iopub.status.idle": "2023-07-29T11:09:32.942249Z",
     "shell.execute_reply": "2023-07-29T11:09:32.941112Z"
    },
    "papermill": {
     "duration": 0.125281,
     "end_time": "2023-07-29T11:09:32.944564",
     "exception": false,
     "start_time": "2023-07-29T11:09:32.819283",
     "status": "completed"
    },
    "tags": []
   },
   "outputs": [
    {
     "name": "stdout",
     "output_type": "stream",
     "text": [
      "Accuracy score:  0.7975239616613419\n",
      "              precision    recall  f1-score   support\n",
      "\n",
      "           0       0.73      0.61      0.67     10829\n",
      "           1       0.82      0.89      0.85     21723\n",
      "\n",
      "    accuracy                           0.80     32552\n",
      "   macro avg       0.78      0.75      0.76     32552\n",
      "weighted avg       0.79      0.80      0.79     32552\n",
      "\n",
      "F1_score: 0.8543071243838279\n"
     ]
    }
   ],
   "source": [
    "from sklearn.metrics import accuracy_score\n",
    "y_pred=svm.predict(x_val)\n",
    "score= accuracy_score(y_val,y_pred)\n",
    "print(\"Accuracy score: \", score)\n",
    "print(classification_report(y_val,y_pred))\n",
    "print (\"F1_score:\",f1_score(y_val,y_pred) )"
   ]
  },
  {
   "cell_type": "markdown",
   "id": "462cec4f",
   "metadata": {
    "papermill": {
     "duration": 0.037159,
     "end_time": "2023-07-29T11:09:33.018758",
     "exception": false,
     "start_time": "2023-07-29T11:09:32.981599",
     "status": "completed"
    },
    "tags": []
   },
   "source": [
    "**Support Vector Machine : Accuracy score= 0.79 and f1_score= 0.85**"
   ]
  },
  {
   "cell_type": "markdown",
   "id": "58517337",
   "metadata": {
    "papermill": {
     "duration": 0.036118,
     "end_time": "2023-07-29T11:09:33.091477",
     "exception": false,
     "start_time": "2023-07-29T11:09:33.055359",
     "status": "completed"
    },
    "tags": []
   },
   "source": [
    "**6.5 AdaBoostClassifier**"
   ]
  },
  {
   "cell_type": "code",
   "execution_count": 66,
   "id": "7e10688b",
   "metadata": {
    "execution": {
     "iopub.execute_input": "2023-07-29T11:09:33.166622Z",
     "iopub.status.busy": "2023-07-29T11:09:33.165628Z",
     "iopub.status.idle": "2023-07-29T11:15:30.572573Z",
     "shell.execute_reply": "2023-07-29T11:15:30.571368Z"
    },
    "papermill": {
     "duration": 357.484091,
     "end_time": "2023-07-29T11:15:30.611921",
     "exception": false,
     "start_time": "2023-07-29T11:09:33.127830",
     "status": "completed"
    },
    "tags": []
   },
   "outputs": [
    {
     "data": {
      "text/html": [
       "<style>#sk-container-id-7 {color: black;background-color: white;}#sk-container-id-7 pre{padding: 0;}#sk-container-id-7 div.sk-toggleable {background-color: white;}#sk-container-id-7 label.sk-toggleable__label {cursor: pointer;display: block;width: 100%;margin-bottom: 0;padding: 0.3em;box-sizing: border-box;text-align: center;}#sk-container-id-7 label.sk-toggleable__label-arrow:before {content: \"▸\";float: left;margin-right: 0.25em;color: #696969;}#sk-container-id-7 label.sk-toggleable__label-arrow:hover:before {color: black;}#sk-container-id-7 div.sk-estimator:hover label.sk-toggleable__label-arrow:before {color: black;}#sk-container-id-7 div.sk-toggleable__content {max-height: 0;max-width: 0;overflow: hidden;text-align: left;background-color: #f0f8ff;}#sk-container-id-7 div.sk-toggleable__content pre {margin: 0.2em;color: black;border-radius: 0.25em;background-color: #f0f8ff;}#sk-container-id-7 input.sk-toggleable__control:checked~div.sk-toggleable__content {max-height: 200px;max-width: 100%;overflow: auto;}#sk-container-id-7 input.sk-toggleable__control:checked~label.sk-toggleable__label-arrow:before {content: \"▾\";}#sk-container-id-7 div.sk-estimator input.sk-toggleable__control:checked~label.sk-toggleable__label {background-color: #d4ebff;}#sk-container-id-7 div.sk-label input.sk-toggleable__control:checked~label.sk-toggleable__label {background-color: #d4ebff;}#sk-container-id-7 input.sk-hidden--visually {border: 0;clip: rect(1px 1px 1px 1px);clip: rect(1px, 1px, 1px, 1px);height: 1px;margin: -1px;overflow: hidden;padding: 0;position: absolute;width: 1px;}#sk-container-id-7 div.sk-estimator {font-family: monospace;background-color: #f0f8ff;border: 1px dotted black;border-radius: 0.25em;box-sizing: border-box;margin-bottom: 0.5em;}#sk-container-id-7 div.sk-estimator:hover {background-color: #d4ebff;}#sk-container-id-7 div.sk-parallel-item::after {content: \"\";width: 100%;border-bottom: 1px solid gray;flex-grow: 1;}#sk-container-id-7 div.sk-label:hover label.sk-toggleable__label {background-color: #d4ebff;}#sk-container-id-7 div.sk-serial::before {content: \"\";position: absolute;border-left: 1px solid gray;box-sizing: border-box;top: 0;bottom: 0;left: 50%;z-index: 0;}#sk-container-id-7 div.sk-serial {display: flex;flex-direction: column;align-items: center;background-color: white;padding-right: 0.2em;padding-left: 0.2em;position: relative;}#sk-container-id-7 div.sk-item {position: relative;z-index: 1;}#sk-container-id-7 div.sk-parallel {display: flex;align-items: stretch;justify-content: center;background-color: white;position: relative;}#sk-container-id-7 div.sk-item::before, #sk-container-id-7 div.sk-parallel-item::before {content: \"\";position: absolute;border-left: 1px solid gray;box-sizing: border-box;top: 0;bottom: 0;left: 50%;z-index: -1;}#sk-container-id-7 div.sk-parallel-item {display: flex;flex-direction: column;z-index: 1;position: relative;background-color: white;}#sk-container-id-7 div.sk-parallel-item:first-child::after {align-self: flex-end;width: 50%;}#sk-container-id-7 div.sk-parallel-item:last-child::after {align-self: flex-start;width: 50%;}#sk-container-id-7 div.sk-parallel-item:only-child::after {width: 0;}#sk-container-id-7 div.sk-dashed-wrapped {border: 1px dashed gray;margin: 0 0.4em 0.5em 0.4em;box-sizing: border-box;padding-bottom: 0.4em;background-color: white;}#sk-container-id-7 div.sk-label label {font-family: monospace;font-weight: bold;display: inline-block;line-height: 1.2em;}#sk-container-id-7 div.sk-label-container {text-align: center;}#sk-container-id-7 div.sk-container {/* jupyter's `normalize.less` sets `[hidden] { display: none; }` but bootstrap.min.css set `[hidden] { display: none !important; }` so we also need the `!important` here to be able to override the default hidden behavior on the sphinx rendered scikit-learn.org. See: https://github.com/scikit-learn/scikit-learn/issues/21755 */display: inline-block !important;position: relative;}#sk-container-id-7 div.sk-text-repr-fallback {display: none;}</style><div id=\"sk-container-id-7\" class=\"sk-top-container\"><div class=\"sk-text-repr-fallback\"><pre>AdaBoostClassifier(n_estimators=100)</pre><b>In a Jupyter environment, please rerun this cell to show the HTML representation or trust the notebook. <br />On GitHub, the HTML representation is unable to render, please try loading this page with nbviewer.org.</b></div><div class=\"sk-container\" hidden><div class=\"sk-item\"><div class=\"sk-estimator sk-toggleable\"><input class=\"sk-toggleable__control sk-hidden--visually\" id=\"sk-estimator-id-11\" type=\"checkbox\" checked><label for=\"sk-estimator-id-11\" class=\"sk-toggleable__label sk-toggleable__label-arrow\">AdaBoostClassifier</label><div class=\"sk-toggleable__content\"><pre>AdaBoostClassifier(n_estimators=100)</pre></div></div></div></div></div>"
      ],
      "text/plain": [
       "AdaBoostClassifier(n_estimators=100)"
      ]
     },
     "execution_count": 66,
     "metadata": {},
     "output_type": "execute_result"
    }
   ],
   "source": [
    "from sklearn.model_selection import cross_val_score\n",
    "from sklearn.ensemble import AdaBoostClassifier\n",
    "\n",
    "ab = AdaBoostClassifier(n_estimators=100)\n",
    "scores = cross_val_score(ab, x_train, y_train, cv=5)\n",
    "scores.mean()\n",
    "ab.fit( x_train, y_train)"
   ]
  },
  {
   "cell_type": "code",
   "execution_count": 67,
   "id": "3b088b16",
   "metadata": {
    "execution": {
     "iopub.execute_input": "2023-07-29T11:15:30.692104Z",
     "iopub.status.busy": "2023-07-29T11:15:30.691455Z",
     "iopub.status.idle": "2023-07-29T11:15:31.458110Z",
     "shell.execute_reply": "2023-07-29T11:15:31.457164Z"
    },
    "papermill": {
     "duration": 0.807365,
     "end_time": "2023-07-29T11:15:31.460572",
     "exception": false,
     "start_time": "2023-07-29T11:15:30.653207",
     "status": "completed"
    },
    "tags": []
   },
   "outputs": [
    {
     "name": "stdout",
     "output_type": "stream",
     "text": [
      "Accuracy score:  0.7130744654706316\n",
      "              precision    recall  f1-score   support\n",
      "\n",
      "           0       0.65      0.29      0.40     10829\n",
      "           1       0.72      0.92      0.81     21723\n",
      "\n",
      "    accuracy                           0.71     32552\n",
      "   macro avg       0.69      0.61      0.61     32552\n",
      "weighted avg       0.70      0.71      0.68     32552\n",
      "\n",
      "F1_score: 0.811084142394822\n"
     ]
    }
   ],
   "source": [
    "from sklearn.metrics import accuracy_score\n",
    "y_pred=ab.predict(x_val)\n",
    "score= accuracy_score(y_val,y_pred)\n",
    "print(\"Accuracy score: \", score)\n",
    "print(classification_report(y_val,y_pred))\n",
    "print (\"F1_score:\",f1_score(y_val,y_pred) )"
   ]
  },
  {
   "cell_type": "markdown",
   "id": "e13bc818",
   "metadata": {
    "papermill": {
     "duration": 0.036472,
     "end_time": "2023-07-29T11:15:31.535454",
     "exception": false,
     "start_time": "2023-07-29T11:15:31.498982",
     "status": "completed"
    },
    "tags": []
   },
   "source": [
    "**AdaBoostClassifier : Accuracy score= 0.71 and f1_score= 0.81**"
   ]
  },
  {
   "cell_type": "markdown",
   "id": "cb0b7d30",
   "metadata": {
    "papermill": {
     "duration": 0.036549,
     "end_time": "2023-07-29T11:15:31.608805",
     "exception": false,
     "start_time": "2023-07-29T11:15:31.572256",
     "status": "completed"
    },
    "tags": []
   },
   "source": [
    "Summary of the results obtained from the models:\n",
    "Top 3 Models:\n",
    "1. Logistic Regression,SVM : Accuracy score= 0.79 and f1_score= 0.85\n",
    "1. MultinomialNB  : Accuracy score= 0.77 and f1_score= 0.84\n",
    "1. Random Forest  : Accuracy score= 0.74 and f1_score= 0.83\n",
    "1. AdaBoostClassifier  : Accuracy score= 0.71 and f1_score= 0.81\n",
    "\n",
    "\n"
   ]
  },
  {
   "cell_type": "markdown",
   "id": "4a12a67e",
   "metadata": {
    "papermill": {
     "duration": 0.036317,
     "end_time": "2023-07-29T11:15:31.681668",
     "exception": false,
     "start_time": "2023-07-29T11:15:31.645351",
     "status": "completed"
    },
    "tags": []
   },
   "source": [
    "Hyperparameter tuning is done to optimise the model and get better accuracy. Each model is hyperparameter tuned using Grid SearchCV"
   ]
  },
  {
   "cell_type": "markdown",
   "id": "d96e106c",
   "metadata": {
    "papermill": {
     "duration": 0.03679,
     "end_time": "2023-07-29T11:15:31.754964",
     "exception": false,
     "start_time": "2023-07-29T11:15:31.718174",
     "status": "completed"
    },
    "tags": []
   },
   "source": [
    "**1. Logistic Regresssion**"
   ]
  },
  {
   "cell_type": "code",
   "execution_count": 68,
   "id": "c378d39d",
   "metadata": {
    "execution": {
     "iopub.execute_input": "2023-07-29T11:15:31.834362Z",
     "iopub.status.busy": "2023-07-29T11:15:31.833968Z",
     "iopub.status.idle": "2023-07-29T11:15:31.839395Z",
     "shell.execute_reply": "2023-07-29T11:15:31.838277Z"
    },
    "papermill": {
     "duration": 0.047856,
     "end_time": "2023-07-29T11:15:31.841878",
     "exception": false,
     "start_time": "2023-07-29T11:15:31.794022",
     "status": "completed"
    },
    "tags": []
   },
   "outputs": [
    {
     "name": "stdout",
     "output_type": "stream",
     "text": [
      "dict_keys(['C', 'class_weight', 'dual', 'fit_intercept', 'intercept_scaling', 'l1_ratio', 'max_iter', 'multi_class', 'n_jobs', 'penalty', 'random_state', 'solver', 'tol', 'verbose', 'warm_start'])\n"
     ]
    }
   ],
   "source": [
    "print(lr.get_params().keys())"
   ]
  },
  {
   "cell_type": "code",
   "execution_count": 69,
   "id": "f5308444",
   "metadata": {
    "execution": {
     "iopub.execute_input": "2023-07-29T11:15:31.921010Z",
     "iopub.status.busy": "2023-07-29T11:15:31.920632Z",
     "iopub.status.idle": "2023-07-29T11:49:14.683032Z",
     "shell.execute_reply": "2023-07-29T11:49:14.681815Z"
    },
    "papermill": {
     "duration": 2022.956037,
     "end_time": "2023-07-29T11:49:14.837191",
     "exception": false,
     "start_time": "2023-07-29T11:15:31.881154",
     "status": "completed"
    },
    "tags": []
   },
   "outputs": [
    {
     "data": {
      "text/html": [
       "<style>#sk-container-id-8 {color: black;background-color: white;}#sk-container-id-8 pre{padding: 0;}#sk-container-id-8 div.sk-toggleable {background-color: white;}#sk-container-id-8 label.sk-toggleable__label {cursor: pointer;display: block;width: 100%;margin-bottom: 0;padding: 0.3em;box-sizing: border-box;text-align: center;}#sk-container-id-8 label.sk-toggleable__label-arrow:before {content: \"▸\";float: left;margin-right: 0.25em;color: #696969;}#sk-container-id-8 label.sk-toggleable__label-arrow:hover:before {color: black;}#sk-container-id-8 div.sk-estimator:hover label.sk-toggleable__label-arrow:before {color: black;}#sk-container-id-8 div.sk-toggleable__content {max-height: 0;max-width: 0;overflow: hidden;text-align: left;background-color: #f0f8ff;}#sk-container-id-8 div.sk-toggleable__content pre {margin: 0.2em;color: black;border-radius: 0.25em;background-color: #f0f8ff;}#sk-container-id-8 input.sk-toggleable__control:checked~div.sk-toggleable__content {max-height: 200px;max-width: 100%;overflow: auto;}#sk-container-id-8 input.sk-toggleable__control:checked~label.sk-toggleable__label-arrow:before {content: \"▾\";}#sk-container-id-8 div.sk-estimator input.sk-toggleable__control:checked~label.sk-toggleable__label {background-color: #d4ebff;}#sk-container-id-8 div.sk-label input.sk-toggleable__control:checked~label.sk-toggleable__label {background-color: #d4ebff;}#sk-container-id-8 input.sk-hidden--visually {border: 0;clip: rect(1px 1px 1px 1px);clip: rect(1px, 1px, 1px, 1px);height: 1px;margin: -1px;overflow: hidden;padding: 0;position: absolute;width: 1px;}#sk-container-id-8 div.sk-estimator {font-family: monospace;background-color: #f0f8ff;border: 1px dotted black;border-radius: 0.25em;box-sizing: border-box;margin-bottom: 0.5em;}#sk-container-id-8 div.sk-estimator:hover {background-color: #d4ebff;}#sk-container-id-8 div.sk-parallel-item::after {content: \"\";width: 100%;border-bottom: 1px solid gray;flex-grow: 1;}#sk-container-id-8 div.sk-label:hover label.sk-toggleable__label {background-color: #d4ebff;}#sk-container-id-8 div.sk-serial::before {content: \"\";position: absolute;border-left: 1px solid gray;box-sizing: border-box;top: 0;bottom: 0;left: 50%;z-index: 0;}#sk-container-id-8 div.sk-serial {display: flex;flex-direction: column;align-items: center;background-color: white;padding-right: 0.2em;padding-left: 0.2em;position: relative;}#sk-container-id-8 div.sk-item {position: relative;z-index: 1;}#sk-container-id-8 div.sk-parallel {display: flex;align-items: stretch;justify-content: center;background-color: white;position: relative;}#sk-container-id-8 div.sk-item::before, #sk-container-id-8 div.sk-parallel-item::before {content: \"\";position: absolute;border-left: 1px solid gray;box-sizing: border-box;top: 0;bottom: 0;left: 50%;z-index: -1;}#sk-container-id-8 div.sk-parallel-item {display: flex;flex-direction: column;z-index: 1;position: relative;background-color: white;}#sk-container-id-8 div.sk-parallel-item:first-child::after {align-self: flex-end;width: 50%;}#sk-container-id-8 div.sk-parallel-item:last-child::after {align-self: flex-start;width: 50%;}#sk-container-id-8 div.sk-parallel-item:only-child::after {width: 0;}#sk-container-id-8 div.sk-dashed-wrapped {border: 1px dashed gray;margin: 0 0.4em 0.5em 0.4em;box-sizing: border-box;padding-bottom: 0.4em;background-color: white;}#sk-container-id-8 div.sk-label label {font-family: monospace;font-weight: bold;display: inline-block;line-height: 1.2em;}#sk-container-id-8 div.sk-label-container {text-align: center;}#sk-container-id-8 div.sk-container {/* jupyter's `normalize.less` sets `[hidden] { display: none; }` but bootstrap.min.css set `[hidden] { display: none !important; }` so we also need the `!important` here to be able to override the default hidden behavior on the sphinx rendered scikit-learn.org. See: https://github.com/scikit-learn/scikit-learn/issues/21755 */display: inline-block !important;position: relative;}#sk-container-id-8 div.sk-text-repr-fallback {display: none;}</style><div id=\"sk-container-id-8\" class=\"sk-top-container\"><div class=\"sk-text-repr-fallback\"><pre>GridSearchCV(cv=5, estimator=LogisticRegression(),\n",
       "             param_grid={&#x27;C&#x27;: array([1.00000000e-04, 2.63665090e-04, 6.95192796e-04, 1.83298071e-03,\n",
       "       4.83293024e-03, 1.27427499e-02, 3.35981829e-02, 8.85866790e-02,\n",
       "       2.33572147e-01, 6.15848211e-01, 1.62377674e+00, 4.28133240e+00,\n",
       "       1.12883789e+01, 2.97635144e+01, 7.84759970e+01, 2.06913808e+02,\n",
       "       5.45559478e+02, 1.43844989e+03, 3.79269019e+03, 1.00000000e+04]),\n",
       "                         &#x27;max_iter&#x27;: [100, 200, 500], &#x27;penalty&#x27;: [&#x27;l1&#x27;, &#x27;l2&#x27;]})</pre><b>In a Jupyter environment, please rerun this cell to show the HTML representation or trust the notebook. <br />On GitHub, the HTML representation is unable to render, please try loading this page with nbviewer.org.</b></div><div class=\"sk-container\" hidden><div class=\"sk-item sk-dashed-wrapped\"><div class=\"sk-label-container\"><div class=\"sk-label sk-toggleable\"><input class=\"sk-toggleable__control sk-hidden--visually\" id=\"sk-estimator-id-12\" type=\"checkbox\" ><label for=\"sk-estimator-id-12\" class=\"sk-toggleable__label sk-toggleable__label-arrow\">GridSearchCV</label><div class=\"sk-toggleable__content\"><pre>GridSearchCV(cv=5, estimator=LogisticRegression(),\n",
       "             param_grid={&#x27;C&#x27;: array([1.00000000e-04, 2.63665090e-04, 6.95192796e-04, 1.83298071e-03,\n",
       "       4.83293024e-03, 1.27427499e-02, 3.35981829e-02, 8.85866790e-02,\n",
       "       2.33572147e-01, 6.15848211e-01, 1.62377674e+00, 4.28133240e+00,\n",
       "       1.12883789e+01, 2.97635144e+01, 7.84759970e+01, 2.06913808e+02,\n",
       "       5.45559478e+02, 1.43844989e+03, 3.79269019e+03, 1.00000000e+04]),\n",
       "                         &#x27;max_iter&#x27;: [100, 200, 500], &#x27;penalty&#x27;: [&#x27;l1&#x27;, &#x27;l2&#x27;]})</pre></div></div></div><div class=\"sk-parallel\"><div class=\"sk-parallel-item\"><div class=\"sk-item\"><div class=\"sk-label-container\"><div class=\"sk-label sk-toggleable\"><input class=\"sk-toggleable__control sk-hidden--visually\" id=\"sk-estimator-id-13\" type=\"checkbox\" ><label for=\"sk-estimator-id-13\" class=\"sk-toggleable__label sk-toggleable__label-arrow\">estimator: LogisticRegression</label><div class=\"sk-toggleable__content\"><pre>LogisticRegression()</pre></div></div></div><div class=\"sk-serial\"><div class=\"sk-item\"><div class=\"sk-estimator sk-toggleable\"><input class=\"sk-toggleable__control sk-hidden--visually\" id=\"sk-estimator-id-14\" type=\"checkbox\" ><label for=\"sk-estimator-id-14\" class=\"sk-toggleable__label sk-toggleable__label-arrow\">LogisticRegression</label><div class=\"sk-toggleable__content\"><pre>LogisticRegression()</pre></div></div></div></div></div></div></div></div></div></div>"
      ],
      "text/plain": [
       "GridSearchCV(cv=5, estimator=LogisticRegression(),\n",
       "             param_grid={'C': array([1.00000000e-04, 2.63665090e-04, 6.95192796e-04, 1.83298071e-03,\n",
       "       4.83293024e-03, 1.27427499e-02, 3.35981829e-02, 8.85866790e-02,\n",
       "       2.33572147e-01, 6.15848211e-01, 1.62377674e+00, 4.28133240e+00,\n",
       "       1.12883789e+01, 2.97635144e+01, 7.84759970e+01, 2.06913808e+02,\n",
       "       5.45559478e+02, 1.43844989e+03, 3.79269019e+03, 1.00000000e+04]),\n",
       "                         'max_iter': [100, 200, 500], 'penalty': ['l1', 'l2']})"
      ]
     },
     "execution_count": 69,
     "metadata": {},
     "output_type": "execute_result"
    }
   ],
   "source": [
    "from sklearn.model_selection import GridSearchCV\n",
    "\n",
    "param_grid={ \"C\" : np.logspace(-4, 4, 20),\n",
    "              \"penalty\": ['l1','l2'],\n",
    "              \"max_iter\" : [100,200,500]}\n",
    "gs= GridSearchCV(lr, param_grid,cv=5)\n",
    "gs.fit(x_train,y_train)"
   ]
  },
  {
   "cell_type": "code",
   "execution_count": 70,
   "id": "03e7fb48",
   "metadata": {
    "execution": {
     "iopub.execute_input": "2023-07-29T11:49:14.913314Z",
     "iopub.status.busy": "2023-07-29T11:49:14.912886Z",
     "iopub.status.idle": "2023-07-29T11:49:14.918727Z",
     "shell.execute_reply": "2023-07-29T11:49:14.917363Z"
    },
    "papermill": {
     "duration": 0.046551,
     "end_time": "2023-07-29T11:49:14.921131",
     "exception": false,
     "start_time": "2023-07-29T11:49:14.874580",
     "status": "completed"
    },
    "tags": []
   },
   "outputs": [
    {
     "name": "stdout",
     "output_type": "stream",
     "text": [
      "Best Score: 0.7989109497718003\n",
      "Best Parameter: {'C': 4.281332398719396, 'max_iter': 100, 'penalty': 'l2'}\n"
     ]
    }
   ],
   "source": [
    "print(\"Best Score:\",gs.best_score_)\n",
    "print(\"Best Parameter:\",gs.best_params_)"
   ]
  },
  {
   "cell_type": "markdown",
   "id": "59e74501",
   "metadata": {
    "papermill": {
     "duration": 0.036443,
     "end_time": "2023-07-29T11:49:14.994863",
     "exception": false,
     "start_time": "2023-07-29T11:49:14.958420",
     "status": "completed"
    },
    "tags": []
   },
   "source": [
    "**Using the best parameters retraining the model**"
   ]
  },
  {
   "cell_type": "code",
   "execution_count": 71,
   "id": "571c0a57",
   "metadata": {
    "execution": {
     "iopub.execute_input": "2023-07-29T11:49:15.074208Z",
     "iopub.status.busy": "2023-07-29T11:49:15.073601Z",
     "iopub.status.idle": "2023-07-29T11:49:20.787251Z",
     "shell.execute_reply": "2023-07-29T11:49:20.786103Z"
    },
    "papermill": {
     "duration": 5.756741,
     "end_time": "2023-07-29T11:49:20.790244",
     "exception": false,
     "start_time": "2023-07-29T11:49:15.033503",
     "status": "completed"
    },
    "tags": []
   },
   "outputs": [
    {
     "name": "stdout",
     "output_type": "stream",
     "text": [
      "Accuracy score:  0.800595969525682\n",
      "F1_score: 0.8575754251234229\n"
     ]
    }
   ],
   "source": [
    "lrh=LogisticRegression(C= 4.28, penalty= 'l2')\n",
    "lrh.fit(x_train,y_train)\n",
    "\n",
    "from sklearn.metrics import accuracy_score\n",
    "y_pred=lrh.predict(x_val)\n",
    "score= accuracy_score(y_val,y_pred)\n",
    "print(\"Accuracy score: \", score)\n",
    "print (\"F1_score:\",f1_score(y_val,y_pred) )"
   ]
  },
  {
   "cell_type": "markdown",
   "id": "44cf67fc",
   "metadata": {
    "papermill": {
     "duration": 0.03757,
     "end_time": "2023-07-29T11:49:20.920057",
     "exception": false,
     "start_time": "2023-07-29T11:49:20.882487",
     "status": "completed"
    },
    "tags": []
   },
   "source": [
    "**Score before hyperparameter tuning: Accuracy =0.79, F1_score= 0.85 Score after hyperparameter tuning: 0.80, F1_score= 0.85 Therefore, there has been slight increase with hyperparameter tuning**"
   ]
  },
  {
   "cell_type": "markdown",
   "id": "269c5394",
   "metadata": {
    "papermill": {
     "duration": 0.03684,
     "end_time": "2023-07-29T11:49:20.994234",
     "exception": false,
     "start_time": "2023-07-29T11:49:20.957394",
     "status": "completed"
    },
    "tags": []
   },
   "source": [
    "**2 . MultinomialNB**"
   ]
  },
  {
   "cell_type": "code",
   "execution_count": 72,
   "id": "fc54e0d3",
   "metadata": {
    "execution": {
     "iopub.execute_input": "2023-07-29T11:49:21.070280Z",
     "iopub.status.busy": "2023-07-29T11:49:21.069917Z",
     "iopub.status.idle": "2023-07-29T11:49:21.074512Z",
     "shell.execute_reply": "2023-07-29T11:49:21.073801Z"
    },
    "papermill": {
     "duration": 0.045327,
     "end_time": "2023-07-29T11:49:21.077132",
     "exception": false,
     "start_time": "2023-07-29T11:49:21.031805",
     "status": "completed"
    },
    "tags": []
   },
   "outputs": [
    {
     "name": "stdout",
     "output_type": "stream",
     "text": [
      "dict_keys(['alpha', 'class_prior', 'fit_prior', 'force_alpha'])\n"
     ]
    }
   ],
   "source": [
    "print(mnb.get_params().keys())"
   ]
  },
  {
   "cell_type": "code",
   "execution_count": 73,
   "id": "8ac518bd",
   "metadata": {
    "execution": {
     "iopub.execute_input": "2023-07-29T11:49:21.156873Z",
     "iopub.status.busy": "2023-07-29T11:49:21.156095Z",
     "iopub.status.idle": "2023-07-29T11:49:22.588070Z",
     "shell.execute_reply": "2023-07-29T11:49:22.587043Z"
    },
    "papermill": {
     "duration": 1.475311,
     "end_time": "2023-07-29T11:49:22.590352",
     "exception": false,
     "start_time": "2023-07-29T11:49:21.115041",
     "status": "completed"
    },
    "tags": []
   },
   "outputs": [
    {
     "data": {
      "text/html": [
       "<style>#sk-container-id-9 {color: black;background-color: white;}#sk-container-id-9 pre{padding: 0;}#sk-container-id-9 div.sk-toggleable {background-color: white;}#sk-container-id-9 label.sk-toggleable__label {cursor: pointer;display: block;width: 100%;margin-bottom: 0;padding: 0.3em;box-sizing: border-box;text-align: center;}#sk-container-id-9 label.sk-toggleable__label-arrow:before {content: \"▸\";float: left;margin-right: 0.25em;color: #696969;}#sk-container-id-9 label.sk-toggleable__label-arrow:hover:before {color: black;}#sk-container-id-9 div.sk-estimator:hover label.sk-toggleable__label-arrow:before {color: black;}#sk-container-id-9 div.sk-toggleable__content {max-height: 0;max-width: 0;overflow: hidden;text-align: left;background-color: #f0f8ff;}#sk-container-id-9 div.sk-toggleable__content pre {margin: 0.2em;color: black;border-radius: 0.25em;background-color: #f0f8ff;}#sk-container-id-9 input.sk-toggleable__control:checked~div.sk-toggleable__content {max-height: 200px;max-width: 100%;overflow: auto;}#sk-container-id-9 input.sk-toggleable__control:checked~label.sk-toggleable__label-arrow:before {content: \"▾\";}#sk-container-id-9 div.sk-estimator input.sk-toggleable__control:checked~label.sk-toggleable__label {background-color: #d4ebff;}#sk-container-id-9 div.sk-label input.sk-toggleable__control:checked~label.sk-toggleable__label {background-color: #d4ebff;}#sk-container-id-9 input.sk-hidden--visually {border: 0;clip: rect(1px 1px 1px 1px);clip: rect(1px, 1px, 1px, 1px);height: 1px;margin: -1px;overflow: hidden;padding: 0;position: absolute;width: 1px;}#sk-container-id-9 div.sk-estimator {font-family: monospace;background-color: #f0f8ff;border: 1px dotted black;border-radius: 0.25em;box-sizing: border-box;margin-bottom: 0.5em;}#sk-container-id-9 div.sk-estimator:hover {background-color: #d4ebff;}#sk-container-id-9 div.sk-parallel-item::after {content: \"\";width: 100%;border-bottom: 1px solid gray;flex-grow: 1;}#sk-container-id-9 div.sk-label:hover label.sk-toggleable__label {background-color: #d4ebff;}#sk-container-id-9 div.sk-serial::before {content: \"\";position: absolute;border-left: 1px solid gray;box-sizing: border-box;top: 0;bottom: 0;left: 50%;z-index: 0;}#sk-container-id-9 div.sk-serial {display: flex;flex-direction: column;align-items: center;background-color: white;padding-right: 0.2em;padding-left: 0.2em;position: relative;}#sk-container-id-9 div.sk-item {position: relative;z-index: 1;}#sk-container-id-9 div.sk-parallel {display: flex;align-items: stretch;justify-content: center;background-color: white;position: relative;}#sk-container-id-9 div.sk-item::before, #sk-container-id-9 div.sk-parallel-item::before {content: \"\";position: absolute;border-left: 1px solid gray;box-sizing: border-box;top: 0;bottom: 0;left: 50%;z-index: -1;}#sk-container-id-9 div.sk-parallel-item {display: flex;flex-direction: column;z-index: 1;position: relative;background-color: white;}#sk-container-id-9 div.sk-parallel-item:first-child::after {align-self: flex-end;width: 50%;}#sk-container-id-9 div.sk-parallel-item:last-child::after {align-self: flex-start;width: 50%;}#sk-container-id-9 div.sk-parallel-item:only-child::after {width: 0;}#sk-container-id-9 div.sk-dashed-wrapped {border: 1px dashed gray;margin: 0 0.4em 0.5em 0.4em;box-sizing: border-box;padding-bottom: 0.4em;background-color: white;}#sk-container-id-9 div.sk-label label {font-family: monospace;font-weight: bold;display: inline-block;line-height: 1.2em;}#sk-container-id-9 div.sk-label-container {text-align: center;}#sk-container-id-9 div.sk-container {/* jupyter's `normalize.less` sets `[hidden] { display: none; }` but bootstrap.min.css set `[hidden] { display: none !important; }` so we also need the `!important` here to be able to override the default hidden behavior on the sphinx rendered scikit-learn.org. See: https://github.com/scikit-learn/scikit-learn/issues/21755 */display: inline-block !important;position: relative;}#sk-container-id-9 div.sk-text-repr-fallback {display: none;}</style><div id=\"sk-container-id-9\" class=\"sk-top-container\"><div class=\"sk-text-repr-fallback\"><pre>GridSearchCV(cv=5, estimator=MultinomialNB(),\n",
       "             param_grid={&#x27;alpha&#x27;: [0.001, 0.1, 1, 10, 100, 1000]})</pre><b>In a Jupyter environment, please rerun this cell to show the HTML representation or trust the notebook. <br />On GitHub, the HTML representation is unable to render, please try loading this page with nbviewer.org.</b></div><div class=\"sk-container\" hidden><div class=\"sk-item sk-dashed-wrapped\"><div class=\"sk-label-container\"><div class=\"sk-label sk-toggleable\"><input class=\"sk-toggleable__control sk-hidden--visually\" id=\"sk-estimator-id-15\" type=\"checkbox\" ><label for=\"sk-estimator-id-15\" class=\"sk-toggleable__label sk-toggleable__label-arrow\">GridSearchCV</label><div class=\"sk-toggleable__content\"><pre>GridSearchCV(cv=5, estimator=MultinomialNB(),\n",
       "             param_grid={&#x27;alpha&#x27;: [0.001, 0.1, 1, 10, 100, 1000]})</pre></div></div></div><div class=\"sk-parallel\"><div class=\"sk-parallel-item\"><div class=\"sk-item\"><div class=\"sk-label-container\"><div class=\"sk-label sk-toggleable\"><input class=\"sk-toggleable__control sk-hidden--visually\" id=\"sk-estimator-id-16\" type=\"checkbox\" ><label for=\"sk-estimator-id-16\" class=\"sk-toggleable__label sk-toggleable__label-arrow\">estimator: MultinomialNB</label><div class=\"sk-toggleable__content\"><pre>MultinomialNB()</pre></div></div></div><div class=\"sk-serial\"><div class=\"sk-item\"><div class=\"sk-estimator sk-toggleable\"><input class=\"sk-toggleable__control sk-hidden--visually\" id=\"sk-estimator-id-17\" type=\"checkbox\" ><label for=\"sk-estimator-id-17\" class=\"sk-toggleable__label sk-toggleable__label-arrow\">MultinomialNB</label><div class=\"sk-toggleable__content\"><pre>MultinomialNB()</pre></div></div></div></div></div></div></div></div></div></div>"
      ],
      "text/plain": [
       "GridSearchCV(cv=5, estimator=MultinomialNB(),\n",
       "             param_grid={'alpha': [0.001, 0.1, 1, 10, 100, 1000]})"
      ]
     },
     "execution_count": 73,
     "metadata": {},
     "output_type": "execute_result"
    }
   ],
   "source": [
    "param_grid={ \"alpha\" : [0.001, 0.1, 1, 10, 100,1000],\n",
    "              }\n",
    "gs= GridSearchCV(mnb, param_grid,cv=5)\n",
    "gs.fit(x_train,y_train)"
   ]
  },
  {
   "cell_type": "code",
   "execution_count": 74,
   "id": "5fba34eb",
   "metadata": {
    "execution": {
     "iopub.execute_input": "2023-07-29T11:49:22.668412Z",
     "iopub.status.busy": "2023-07-29T11:49:22.668020Z",
     "iopub.status.idle": "2023-07-29T11:49:22.673202Z",
     "shell.execute_reply": "2023-07-29T11:49:22.672262Z"
    },
    "papermill": {
     "duration": 0.046525,
     "end_time": "2023-07-29T11:49:22.675211",
     "exception": false,
     "start_time": "2023-07-29T11:49:22.628686",
     "status": "completed"
    },
    "tags": []
   },
   "outputs": [
    {
     "name": "stdout",
     "output_type": "stream",
     "text": [
      "Best Score: 0.7780133226490853\n",
      "Best Parameter: {'alpha': 0.1}\n"
     ]
    }
   ],
   "source": [
    "print(\"Best Score:\",gs.best_score_)\n",
    "print(\"Best Parameter:\",gs.best_params_)"
   ]
  },
  {
   "cell_type": "markdown",
   "id": "15058156",
   "metadata": {
    "papermill": {
     "duration": 0.037599,
     "end_time": "2023-07-29T11:49:22.750783",
     "exception": false,
     "start_time": "2023-07-29T11:49:22.713184",
     "status": "completed"
    },
    "tags": []
   },
   "source": [
    "**Using the best parameters retraining the model**"
   ]
  },
  {
   "cell_type": "code",
   "execution_count": 75,
   "id": "9adc6dba",
   "metadata": {
    "execution": {
     "iopub.execute_input": "2023-07-29T11:49:22.829999Z",
     "iopub.status.busy": "2023-07-29T11:49:22.828990Z",
     "iopub.status.idle": "2023-07-29T11:49:22.895300Z",
     "shell.execute_reply": "2023-07-29T11:49:22.893954Z"
    },
    "papermill": {
     "duration": 0.109214,
     "end_time": "2023-07-29T11:49:22.897789",
     "exception": false,
     "start_time": "2023-07-29T11:49:22.788575",
     "status": "completed"
    },
    "tags": []
   },
   "outputs": [
    {
     "name": "stdout",
     "output_type": "stream",
     "text": [
      "Accuracy score:  0.7776173507004178\n",
      "F1_score: 0.8503256487129123\n"
     ]
    }
   ],
   "source": [
    "mnbh=MultinomialNB( alpha=0.1)\n",
    "mnbh.fit(x_train,y_train)\n",
    "\n",
    "from sklearn.metrics import accuracy_score\n",
    "y_pred=mnbh.predict(x_val)\n",
    "score= accuracy_score(y_val,y_pred)\n",
    "print(\"Accuracy score: \", score)\n",
    "print (\"F1_score:\",f1_score(y_val,y_pred) )"
   ]
  },
  {
   "cell_type": "markdown",
   "id": "b5251478",
   "metadata": {
    "papermill": {
     "duration": 0.038219,
     "end_time": "2023-07-29T11:49:22.974662",
     "exception": false,
     "start_time": "2023-07-29T11:49:22.936443",
     "status": "completed"
    },
    "tags": []
   },
   "source": [
    "**Score before hyperparameter tuning: Accuracy =0.77, F1_score= 0.84\n",
    "Score after hyperparameter tuning: 0.77, F1_score= 0.85\n",
    "Therefore, there has been slight increase with hyperparameter tuning**"
   ]
  },
  {
   "cell_type": "markdown",
   "id": "c5f2ec85",
   "metadata": {
    "papermill": {
     "duration": 0.037539,
     "end_time": "2023-07-29T11:49:23.050261",
     "exception": false,
     "start_time": "2023-07-29T11:49:23.012722",
     "status": "completed"
    },
    "tags": []
   },
   "source": [
    "**3. Support Vector Machine**"
   ]
  },
  {
   "cell_type": "code",
   "execution_count": 76,
   "id": "44943442",
   "metadata": {
    "execution": {
     "iopub.execute_input": "2023-07-29T11:49:23.127140Z",
     "iopub.status.busy": "2023-07-29T11:49:23.126310Z",
     "iopub.status.idle": "2023-07-29T11:49:23.131779Z",
     "shell.execute_reply": "2023-07-29T11:49:23.130783Z"
    },
    "papermill": {
     "duration": 0.0468,
     "end_time": "2023-07-29T11:49:23.134056",
     "exception": false,
     "start_time": "2023-07-29T11:49:23.087256",
     "status": "completed"
    },
    "tags": []
   },
   "outputs": [
    {
     "name": "stdout",
     "output_type": "stream",
     "text": [
      "dict_keys(['C', 'class_weight', 'dual', 'fit_intercept', 'intercept_scaling', 'loss', 'max_iter', 'multi_class', 'penalty', 'random_state', 'tol', 'verbose'])\n"
     ]
    }
   ],
   "source": [
    "print(svm.get_params().keys())"
   ]
  },
  {
   "cell_type": "code",
   "execution_count": 77,
   "id": "4c18997a",
   "metadata": {
    "execution": {
     "iopub.execute_input": "2023-07-29T11:49:23.212310Z",
     "iopub.status.busy": "2023-07-29T11:49:23.211390Z",
     "iopub.status.idle": "2023-07-29T11:52:12.982601Z",
     "shell.execute_reply": "2023-07-29T11:52:12.981769Z"
    },
    "papermill": {
     "duration": 169.849801,
     "end_time": "2023-07-29T11:52:13.022131",
     "exception": false,
     "start_time": "2023-07-29T11:49:23.172330",
     "status": "completed"
    },
    "tags": []
   },
   "outputs": [
    {
     "data": {
      "text/html": [
       "<style>#sk-container-id-10 {color: black;background-color: white;}#sk-container-id-10 pre{padding: 0;}#sk-container-id-10 div.sk-toggleable {background-color: white;}#sk-container-id-10 label.sk-toggleable__label {cursor: pointer;display: block;width: 100%;margin-bottom: 0;padding: 0.3em;box-sizing: border-box;text-align: center;}#sk-container-id-10 label.sk-toggleable__label-arrow:before {content: \"▸\";float: left;margin-right: 0.25em;color: #696969;}#sk-container-id-10 label.sk-toggleable__label-arrow:hover:before {color: black;}#sk-container-id-10 div.sk-estimator:hover label.sk-toggleable__label-arrow:before {color: black;}#sk-container-id-10 div.sk-toggleable__content {max-height: 0;max-width: 0;overflow: hidden;text-align: left;background-color: #f0f8ff;}#sk-container-id-10 div.sk-toggleable__content pre {margin: 0.2em;color: black;border-radius: 0.25em;background-color: #f0f8ff;}#sk-container-id-10 input.sk-toggleable__control:checked~div.sk-toggleable__content {max-height: 200px;max-width: 100%;overflow: auto;}#sk-container-id-10 input.sk-toggleable__control:checked~label.sk-toggleable__label-arrow:before {content: \"▾\";}#sk-container-id-10 div.sk-estimator input.sk-toggleable__control:checked~label.sk-toggleable__label {background-color: #d4ebff;}#sk-container-id-10 div.sk-label input.sk-toggleable__control:checked~label.sk-toggleable__label {background-color: #d4ebff;}#sk-container-id-10 input.sk-hidden--visually {border: 0;clip: rect(1px 1px 1px 1px);clip: rect(1px, 1px, 1px, 1px);height: 1px;margin: -1px;overflow: hidden;padding: 0;position: absolute;width: 1px;}#sk-container-id-10 div.sk-estimator {font-family: monospace;background-color: #f0f8ff;border: 1px dotted black;border-radius: 0.25em;box-sizing: border-box;margin-bottom: 0.5em;}#sk-container-id-10 div.sk-estimator:hover {background-color: #d4ebff;}#sk-container-id-10 div.sk-parallel-item::after {content: \"\";width: 100%;border-bottom: 1px solid gray;flex-grow: 1;}#sk-container-id-10 div.sk-label:hover label.sk-toggleable__label {background-color: #d4ebff;}#sk-container-id-10 div.sk-serial::before {content: \"\";position: absolute;border-left: 1px solid gray;box-sizing: border-box;top: 0;bottom: 0;left: 50%;z-index: 0;}#sk-container-id-10 div.sk-serial {display: flex;flex-direction: column;align-items: center;background-color: white;padding-right: 0.2em;padding-left: 0.2em;position: relative;}#sk-container-id-10 div.sk-item {position: relative;z-index: 1;}#sk-container-id-10 div.sk-parallel {display: flex;align-items: stretch;justify-content: center;background-color: white;position: relative;}#sk-container-id-10 div.sk-item::before, #sk-container-id-10 div.sk-parallel-item::before {content: \"\";position: absolute;border-left: 1px solid gray;box-sizing: border-box;top: 0;bottom: 0;left: 50%;z-index: -1;}#sk-container-id-10 div.sk-parallel-item {display: flex;flex-direction: column;z-index: 1;position: relative;background-color: white;}#sk-container-id-10 div.sk-parallel-item:first-child::after {align-self: flex-end;width: 50%;}#sk-container-id-10 div.sk-parallel-item:last-child::after {align-self: flex-start;width: 50%;}#sk-container-id-10 div.sk-parallel-item:only-child::after {width: 0;}#sk-container-id-10 div.sk-dashed-wrapped {border: 1px dashed gray;margin: 0 0.4em 0.5em 0.4em;box-sizing: border-box;padding-bottom: 0.4em;background-color: white;}#sk-container-id-10 div.sk-label label {font-family: monospace;font-weight: bold;display: inline-block;line-height: 1.2em;}#sk-container-id-10 div.sk-label-container {text-align: center;}#sk-container-id-10 div.sk-container {/* jupyter's `normalize.less` sets `[hidden] { display: none; }` but bootstrap.min.css set `[hidden] { display: none !important; }` so we also need the `!important` here to be able to override the default hidden behavior on the sphinx rendered scikit-learn.org. See: https://github.com/scikit-learn/scikit-learn/issues/21755 */display: inline-block !important;position: relative;}#sk-container-id-10 div.sk-text-repr-fallback {display: none;}</style><div id=\"sk-container-id-10\" class=\"sk-top-container\"><div class=\"sk-text-repr-fallback\"><pre>GridSearchCV(cv=5, estimator=LinearSVC(random_state=0),\n",
       "             param_grid={&#x27;C&#x27;: [1, 10, 20]})</pre><b>In a Jupyter environment, please rerun this cell to show the HTML representation or trust the notebook. <br />On GitHub, the HTML representation is unable to render, please try loading this page with nbviewer.org.</b></div><div class=\"sk-container\" hidden><div class=\"sk-item sk-dashed-wrapped\"><div class=\"sk-label-container\"><div class=\"sk-label sk-toggleable\"><input class=\"sk-toggleable__control sk-hidden--visually\" id=\"sk-estimator-id-18\" type=\"checkbox\" ><label for=\"sk-estimator-id-18\" class=\"sk-toggleable__label sk-toggleable__label-arrow\">GridSearchCV</label><div class=\"sk-toggleable__content\"><pre>GridSearchCV(cv=5, estimator=LinearSVC(random_state=0),\n",
       "             param_grid={&#x27;C&#x27;: [1, 10, 20]})</pre></div></div></div><div class=\"sk-parallel\"><div class=\"sk-parallel-item\"><div class=\"sk-item\"><div class=\"sk-label-container\"><div class=\"sk-label sk-toggleable\"><input class=\"sk-toggleable__control sk-hidden--visually\" id=\"sk-estimator-id-19\" type=\"checkbox\" ><label for=\"sk-estimator-id-19\" class=\"sk-toggleable__label sk-toggleable__label-arrow\">estimator: LinearSVC</label><div class=\"sk-toggleable__content\"><pre>LinearSVC(random_state=0)</pre></div></div></div><div class=\"sk-serial\"><div class=\"sk-item\"><div class=\"sk-estimator sk-toggleable\"><input class=\"sk-toggleable__control sk-hidden--visually\" id=\"sk-estimator-id-20\" type=\"checkbox\" ><label for=\"sk-estimator-id-20\" class=\"sk-toggleable__label sk-toggleable__label-arrow\">LinearSVC</label><div class=\"sk-toggleable__content\"><pre>LinearSVC(random_state=0)</pre></div></div></div></div></div></div></div></div></div></div>"
      ],
      "text/plain": [
       "GridSearchCV(cv=5, estimator=LinearSVC(random_state=0),\n",
       "             param_grid={'C': [1, 10, 20]})"
      ]
     },
     "execution_count": 77,
     "metadata": {},
     "output_type": "execute_result"
    }
   ],
   "source": [
    "from sklearn.model_selection import GridSearchCV\n",
    "param_grid={ \"C\" : [1,10,20],\n",
    "              }\n",
    "gs= GridSearchCV(svm, param_grid,cv=5)\n",
    "gs.fit(x_train,y_train)"
   ]
  },
  {
   "cell_type": "code",
   "execution_count": 78,
   "id": "fb1245a7",
   "metadata": {
    "execution": {
     "iopub.execute_input": "2023-07-29T11:52:13.099920Z",
     "iopub.status.busy": "2023-07-29T11:52:13.099517Z",
     "iopub.status.idle": "2023-07-29T11:52:13.104423Z",
     "shell.execute_reply": "2023-07-29T11:52:13.103430Z"
    },
    "papermill": {
     "duration": 0.046141,
     "end_time": "2023-07-29T11:52:13.106617",
     "exception": false,
     "start_time": "2023-07-29T11:52:13.060476",
     "status": "completed"
    },
    "tags": []
   },
   "outputs": [
    {
     "name": "stdout",
     "output_type": "stream",
     "text": [
      "Best Score: 0.7936423847360253\n",
      "Best Parameter: {'C': 1}\n"
     ]
    }
   ],
   "source": [
    "print(\"Best Score:\",gs.best_score_)\n",
    "print(\"Best Parameter:\",gs.best_params_)"
   ]
  },
  {
   "cell_type": "markdown",
   "id": "d25e333d",
   "metadata": {
    "papermill": {
     "duration": 0.037216,
     "end_time": "2023-07-29T11:52:13.181489",
     "exception": false,
     "start_time": "2023-07-29T11:52:13.144273",
     "status": "completed"
    },
    "tags": []
   },
   "source": [
    "**Using the best parameters retraining the model**"
   ]
  },
  {
   "cell_type": "code",
   "execution_count": 79,
   "id": "55f8f97e",
   "metadata": {
    "execution": {
     "iopub.execute_input": "2023-07-29T11:52:13.258044Z",
     "iopub.status.busy": "2023-07-29T11:52:13.257677Z",
     "iopub.status.idle": "2023-07-29T11:52:15.345108Z",
     "shell.execute_reply": "2023-07-29T11:52:15.344257Z"
    },
    "papermill": {
     "duration": 2.128214,
     "end_time": "2023-07-29T11:52:15.347256",
     "exception": false,
     "start_time": "2023-07-29T11:52:13.219042",
     "status": "completed"
    },
    "tags": []
   },
   "outputs": [
    {
     "name": "stdout",
     "output_type": "stream",
     "text": [
      "Accuracy score:  0.7975239616613419\n",
      "F1_score: 0.8543071243838279\n"
     ]
    }
   ],
   "source": [
    "from sklearn.svm import LinearSVC\n",
    "svmh=LinearSVC(random_state=0, C=1)\n",
    "svmh.fit(x_train,y_train)\n",
    "\n",
    "from sklearn.metrics import accuracy_score\n",
    "y_pred=svmh.predict(x_val)\n",
    "score= accuracy_score(y_val,y_pred)\n",
    "print(\"Accuracy score: \", score)\n",
    "print (\"F1_score:\",f1_score(y_val,y_pred) )"
   ]
  },
  {
   "cell_type": "markdown",
   "id": "7d2ea972",
   "metadata": {
    "papermill": {
     "duration": 0.036992,
     "end_time": "2023-07-29T11:52:15.422092",
     "exception": false,
     "start_time": "2023-07-29T11:52:15.385100",
     "status": "completed"
    },
    "tags": []
   },
   "source": [
    "**Score before hyperparameter tuning: Accuracy =0.79, F1_score= 0.85 Score after hyperparameter tuning: 0.79, F1_score= 0.85 Therefore, there has been no change with hyperparameter tuning**"
   ]
  },
  {
   "cell_type": "markdown",
   "id": "9f0f9074",
   "metadata": {
    "papermill": {
     "duration": 0.03798,
     "end_time": "2023-07-29T11:52:15.497595",
     "exception": false,
     "start_time": "2023-07-29T11:52:15.459615",
     "status": "completed"
    },
    "tags": []
   },
   "source": [
    "________________________________________________________"
   ]
  },
  {
   "cell_type": "code",
   "execution_count": 80,
   "id": "c7c1f050",
   "metadata": {
    "execution": {
     "iopub.execute_input": "2023-07-29T11:52:15.574890Z",
     "iopub.status.busy": "2023-07-29T11:52:15.574187Z",
     "iopub.status.idle": "2023-07-29T11:52:15.578175Z",
     "shell.execute_reply": "2023-07-29T11:52:15.577261Z"
    },
    "papermill": {
     "duration": 0.045182,
     "end_time": "2023-07-29T11:52:15.580307",
     "exception": false,
     "start_time": "2023-07-29T11:52:15.535125",
     "status": "completed"
    },
    "tags": []
   },
   "outputs": [],
   "source": [
    "# X= train['reviewText']\n",
    "# y= train['sentiment']\n"
   ]
  },
  {
   "cell_type": "code",
   "execution_count": 81,
   "id": "a33782b7",
   "metadata": {
    "execution": {
     "iopub.execute_input": "2023-07-29T11:52:15.656903Z",
     "iopub.status.busy": "2023-07-29T11:52:15.656527Z",
     "iopub.status.idle": "2023-07-29T11:52:15.661170Z",
     "shell.execute_reply": "2023-07-29T11:52:15.660245Z"
    },
    "papermill": {
     "duration": 0.045025,
     "end_time": "2023-07-29T11:52:15.663087",
     "exception": false,
     "start_time": "2023-07-29T11:52:15.618062",
     "status": "completed"
    },
    "tags": []
   },
   "outputs": [],
   "source": [
    "# from sklearn.dummy import DummyClassifier\n",
    "# from sklearn.model_selection import train_test_split\n",
    "# from sklearn.metrics import accuracy_score\n",
    "\n",
    "# X_train, X_test, y_train, y_test= train_test_split(X,y, test_size=0.3,random_state=42)\n",
    "\n",
    "# model= DummyClassifier(strategy='prior')\n",
    "# model.fit(X_train,y_train)\n",
    "\n",
    "# y_pred=model.predict(X_test)\n",
    "# score= accuracy_score(y_test,y_pred)\n",
    "# score"
   ]
  },
  {
   "cell_type": "markdown",
   "id": "5bf99723",
   "metadata": {
    "papermill": {
     "duration": 0.037303,
     "end_time": "2023-07-29T11:52:15.737831",
     "exception": false,
     "start_time": "2023-07-29T11:52:15.700528",
     "status": "completed"
    },
    "tags": []
   },
   "source": [
    "#since, score is 0.66 so the accuracy obtained from other models should be more than this."
   ]
  },
  {
   "cell_type": "code",
   "execution_count": 82,
   "id": "506f46e7",
   "metadata": {
    "execution": {
     "iopub.execute_input": "2023-07-29T11:52:15.815324Z",
     "iopub.status.busy": "2023-07-29T11:52:15.814923Z",
     "iopub.status.idle": "2023-07-29T11:52:15.824735Z",
     "shell.execute_reply": "2023-07-29T11:52:15.823601Z"
    },
    "papermill": {
     "duration": 0.0516,
     "end_time": "2023-07-29T11:52:15.826905",
     "exception": false,
     "start_time": "2023-07-29T11:52:15.775305",
     "status": "completed"
    },
    "tags": []
   },
   "outputs": [
    {
     "data": {
      "text/plain": [
       "(55315,)"
      ]
     },
     "execution_count": 82,
     "metadata": {},
     "output_type": "execute_result"
    }
   ],
   "source": [
    "y_test_pred=lr.predict(x_test_tran)\n",
    "y_test_pred.shape"
   ]
  },
  {
   "cell_type": "code",
   "execution_count": 83,
   "id": "d024e7b8",
   "metadata": {
    "execution": {
     "iopub.execute_input": "2023-07-29T11:52:15.906107Z",
     "iopub.status.busy": "2023-07-29T11:52:15.905317Z",
     "iopub.status.idle": "2023-07-29T11:52:16.048342Z",
     "shell.execute_reply": "2023-07-29T11:52:16.047196Z"
    },
    "papermill": {
     "duration": 0.186164,
     "end_time": "2023-07-29T11:52:16.050984",
     "exception": false,
     "start_time": "2023-07-29T11:52:15.864820",
     "status": "completed"
    },
    "tags": []
   },
   "outputs": [],
   "source": [
    "submission=pd.DataFrame(columns=['id', 'sentiment'])\n",
    "submission['id']=[i for i in range(len(y_test_pred))]\n",
    "pred_list=[]\n",
    "for j in y_test_pred:\n",
    "    if j==1:\n",
    "        pred_list.append('POSITIVE')\n",
    "    else:\n",
    "        pred_list.append('NEGATIVE')\n",
    "    \n",
    "submission[\"sentiment\"]=pred_list\n",
    "submission.to_csv('submission.csv',index=False)"
   ]
  },
  {
   "cell_type": "code",
   "execution_count": 84,
   "id": "7f699f8c",
   "metadata": {
    "execution": {
     "iopub.execute_input": "2023-07-29T11:52:16.128460Z",
     "iopub.status.busy": "2023-07-29T11:52:16.127716Z",
     "iopub.status.idle": "2023-07-29T11:52:16.152403Z",
     "shell.execute_reply": "2023-07-29T11:52:16.151309Z"
    },
    "papermill": {
     "duration": 0.066056,
     "end_time": "2023-07-29T11:52:16.154583",
     "exception": false,
     "start_time": "2023-07-29T11:52:16.088527",
     "status": "completed"
    },
    "tags": []
   },
   "outputs": [
    {
     "data": {
      "text/html": [
       "<div>\n",
       "<style scoped>\n",
       "    .dataframe tbody tr th:only-of-type {\n",
       "        vertical-align: middle;\n",
       "    }\n",
       "\n",
       "    .dataframe tbody tr th {\n",
       "        vertical-align: top;\n",
       "    }\n",
       "\n",
       "    .dataframe thead th {\n",
       "        text-align: right;\n",
       "    }\n",
       "</style>\n",
       "<table border=\"1\" class=\"dataframe\">\n",
       "  <thead>\n",
       "    <tr style=\"text-align: right;\">\n",
       "      <th></th>\n",
       "      <th>id</th>\n",
       "      <th>sentiment</th>\n",
       "    </tr>\n",
       "  </thead>\n",
       "  <tbody>\n",
       "    <tr>\n",
       "      <th>0</th>\n",
       "      <td>0</td>\n",
       "      <td>POSITIVE</td>\n",
       "    </tr>\n",
       "    <tr>\n",
       "      <th>1</th>\n",
       "      <td>1</td>\n",
       "      <td>POSITIVE</td>\n",
       "    </tr>\n",
       "    <tr>\n",
       "      <th>2</th>\n",
       "      <td>2</td>\n",
       "      <td>POSITIVE</td>\n",
       "    </tr>\n",
       "    <tr>\n",
       "      <th>3</th>\n",
       "      <td>3</td>\n",
       "      <td>POSITIVE</td>\n",
       "    </tr>\n",
       "    <tr>\n",
       "      <th>4</th>\n",
       "      <td>4</td>\n",
       "      <td>POSITIVE</td>\n",
       "    </tr>\n",
       "    <tr>\n",
       "      <th>...</th>\n",
       "      <td>...</td>\n",
       "      <td>...</td>\n",
       "    </tr>\n",
       "    <tr>\n",
       "      <th>55310</th>\n",
       "      <td>55310</td>\n",
       "      <td>POSITIVE</td>\n",
       "    </tr>\n",
       "    <tr>\n",
       "      <th>55311</th>\n",
       "      <td>55311</td>\n",
       "      <td>NEGATIVE</td>\n",
       "    </tr>\n",
       "    <tr>\n",
       "      <th>55312</th>\n",
       "      <td>55312</td>\n",
       "      <td>POSITIVE</td>\n",
       "    </tr>\n",
       "    <tr>\n",
       "      <th>55313</th>\n",
       "      <td>55313</td>\n",
       "      <td>POSITIVE</td>\n",
       "    </tr>\n",
       "    <tr>\n",
       "      <th>55314</th>\n",
       "      <td>55314</td>\n",
       "      <td>NEGATIVE</td>\n",
       "    </tr>\n",
       "  </tbody>\n",
       "</table>\n",
       "<p>55315 rows × 2 columns</p>\n",
       "</div>"
      ],
      "text/plain": [
       "          id sentiment\n",
       "0          0  POSITIVE\n",
       "1          1  POSITIVE\n",
       "2          2  POSITIVE\n",
       "3          3  POSITIVE\n",
       "4          4  POSITIVE\n",
       "...      ...       ...\n",
       "55310  55310  POSITIVE\n",
       "55311  55311  NEGATIVE\n",
       "55312  55312  POSITIVE\n",
       "55313  55313  POSITIVE\n",
       "55314  55314  NEGATIVE\n",
       "\n",
       "[55315 rows x 2 columns]"
      ]
     },
     "execution_count": 84,
     "metadata": {},
     "output_type": "execute_result"
    }
   ],
   "source": [
    "z=pd.read_csv(\"submission.csv\")\n",
    "z"
   ]
  }
 ],
 "metadata": {
  "kernelspec": {
   "display_name": "Python 3",
   "language": "python",
   "name": "python3"
  },
  "language_info": {
   "codemirror_mode": {
    "name": "ipython",
    "version": 3
   },
   "file_extension": ".py",
   "mimetype": "text/x-python",
   "name": "python",
   "nbconvert_exporter": "python",
   "pygments_lexer": "ipython3",
   "version": "3.10.10"
  },
  "papermill": {
   "default_parameters": {},
   "duration": 3154.858213,
   "end_time": "2023-07-29T11:52:18.023143",
   "environment_variables": {},
   "exception": null,
   "input_path": "__notebook__.ipynb",
   "output_path": "__notebook__.ipynb",
   "parameters": {},
   "start_time": "2023-07-29T10:59:43.164930",
   "version": "2.4.0"
  }
 },
 "nbformat": 4,
 "nbformat_minor": 5
}
